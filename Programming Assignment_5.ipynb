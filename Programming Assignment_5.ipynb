{
 "cells": [
  {
   "cell_type": "code",
   "execution_count": 18,
   "id": "85f12f31",
   "metadata": {},
   "outputs": [
    {
     "name": "stdout",
     "output_type": "stream",
     "text": [
      "enter  a number24\n",
      "enter  a number36\n",
      "the lcm of 24 and the lcm of  36 is 72\n"
     ]
    }
   ],
   "source": [
    "#1-\n",
    "def lcm(n1,n2):\n",
    "    if n1>n2:\n",
    "        higher = n1\n",
    "    else:\n",
    "        higher = n2\n",
    "    temp = higher\n",
    "    while True:\n",
    "        \n",
    "        if higher%n1 == 0 and higher%n2 == 0:\n",
    "            print(\"the lcm of\",n1,\"and the lcm of \",n2,\"is\",higher)\n",
    "            break\n",
    "        else:\n",
    "            higher = higher + temp\n",
    "        \n",
    "    \n",
    " \n",
    "        \n",
    "           \n",
    "               \n",
    "\n",
    "                \n",
    "                \n",
    "            \n",
    "            \n",
    "            \n",
    "            \n",
    "            \n",
    "        \n",
    "        \n",
    "        \n",
    "            \n",
    "            \n",
    "        \n",
    "        \n",
    "        \n",
    "            \n",
    "           \n",
    "    \n",
    "        \n",
    "        \n",
    "        \n",
    "   \n",
    "    \n",
    "   \n",
    "             \n",
    "    \n",
    "   \n",
    "        \n",
    "       \n",
    "                \n",
    "       \n",
    "                \n",
    "        \n",
    "n1 = int(input(\"enter  a number\"))\n",
    "n2 = int(input(\"enter  a number\"))\n",
    "lcm(n1,n2)\n",
    "         \n",
    "        \n",
    "        \n",
    "    \n",
    "    \n",
    "       \n",
    "   \n",
    "            "
   ]
  },
  {
   "cell_type": "code",
   "execution_count": 21,
   "id": "4663c5e3",
   "metadata": {},
   "outputs": [
    {
     "data": {
      "text/plain": [
       "72"
      ]
     },
     "execution_count": 21,
     "metadata": {},
     "output_type": "execute_result"
    }
   ],
   "source": [
    "#2nd method of finding lcm\n",
    "import math\n",
    "math.lcm(24,72)"
   ]
  },
  {
   "cell_type": "code",
   "execution_count": 23,
   "id": "a2e2e613",
   "metadata": {},
   "outputs": [
    {
     "name": "stdout",
     "output_type": "stream",
     "text": [
      "enter  a number24\n",
      "enter  a number36\n"
     ]
    },
    {
     "data": {
      "text/plain": [
       "12"
      ]
     },
     "execution_count": 23,
     "metadata": {},
     "output_type": "execute_result"
    }
   ],
   "source": [
    "#2-\n",
    "import math\n",
    "n1 = int(input(\"enter  a number\"))\n",
    "n2 = int(input(\"enter  a number\"))\n",
    "\n",
    "math.gcd(n1,n2)"
   ]
  },
  {
   "cell_type": "code",
   "execution_count": 26,
   "id": "cd2da8bd",
   "metadata": {},
   "outputs": [
    {
     "name": "stdout",
     "output_type": "stream",
     "text": [
      "enter  a  decimal number15\n"
     ]
    },
    {
     "data": {
      "text/plain": [
       "'0xf'"
      ]
     },
     "execution_count": 26,
     "metadata": {},
     "output_type": "execute_result"
    }
   ],
   "source": [
    "#3-\n",
    "n = int(input(\"enter  a  decimal number\"))\n",
    "bin(n) # to conver decimal to binary\n",
    "\n"
   ]
  },
  {
   "cell_type": "code",
   "execution_count": 27,
   "id": "1c438f7c",
   "metadata": {},
   "outputs": [
    {
     "data": {
      "text/plain": [
       "'0o17'"
      ]
     },
     "execution_count": 27,
     "metadata": {},
     "output_type": "execute_result"
    }
   ],
   "source": [
    "oct(n) # to conver decimal to octal"
   ]
  },
  {
   "cell_type": "code",
   "execution_count": 28,
   "id": "234d07b2",
   "metadata": {},
   "outputs": [
    {
     "data": {
      "text/plain": [
       "'0xf'"
      ]
     },
     "execution_count": 28,
     "metadata": {},
     "output_type": "execute_result"
    }
   ],
   "source": [
    "hex(n) # to conver decimal to  hexa"
   ]
  },
  {
   "cell_type": "code",
   "execution_count": 31,
   "id": "d6c908e5",
   "metadata": {},
   "outputs": [
    {
     "name": "stdout",
     "output_type": "stream",
     "text": [
      "enter the charecter u wantl\n",
      "The ASCII value of 'l' is 108\n"
     ]
    }
   ],
   "source": [
    "#4-\n",
    "\n",
    "c = input(\"enter the charecter u want\")\n",
    "print(\"The ASCII value of '\" + c + \"' is\", ord(c))\n",
    "\n",
    "#ord is a function used to conver an chareter to a int i.e it gives the value of that charecter in the form of int"
   ]
  },
  {
   "cell_type": "code",
   "execution_count": 33,
   "id": "628f2828",
   "metadata": {},
   "outputs": [
    {
     "data": {
      "text/plain": [
       "(30, 200, 0.5, -10)"
      ]
     },
     "execution_count": 33,
     "metadata": {},
     "output_type": "execute_result"
    }
   ],
   "source": [
    "#5-\n",
    "\n",
    "def cal(n1,n2):\n",
    "    a = n1+n2\n",
    "    b = n1*n2\n",
    "    c =n1/n2\n",
    "    d =n1 - n2\n",
    "    return a,b,c,d\n",
    "cal(10,20)\n",
    "    "
   ]
  },
  {
   "cell_type": "code",
   "execution_count": null,
   "id": "4448eb6a",
   "metadata": {},
   "outputs": [],
   "source": []
  }
 ],
 "metadata": {
  "kernelspec": {
   "display_name": "Python 3 (ipykernel)",
   "language": "python",
   "name": "python3"
  },
  "language_info": {
   "codemirror_mode": {
    "name": "ipython",
    "version": 3
   },
   "file_extension": ".py",
   "mimetype": "text/x-python",
   "name": "python",
   "nbconvert_exporter": "python",
   "pygments_lexer": "ipython3",
   "version": "3.9.7"
  }
 },
 "nbformat": 4,
 "nbformat_minor": 5
}
