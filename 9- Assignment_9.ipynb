{
 "cells": [
  {
   "cell_type": "code",
   "execution_count": 1,
   "id": "20a0d96b",
   "metadata": {},
   "outputs": [],
   "source": [
    "#1-lower,upper,title,capitalize,endswith,find"
   ]
  },
  {
   "cell_type": "code",
   "execution_count": 2,
   "id": "688174ee",
   "metadata": {},
   "outputs": [
    {
     "data": {
      "text/plain": [
       "'Python 3 stores strings as Unicode whereas Python 2 requires you to mark a string with a “u” \\nif you want to store it as Unicode'"
      ]
     },
     "execution_count": 2,
     "metadata": {},
     "output_type": "execute_result"
    }
   ],
   "source": [
    "#2- \n",
    "\"\"\"Python 3 stores strings as Unicode whereas Python 2 requires you to mark a string with a “u” \n",
    "if you want to store it as Unicode\"\"\""
   ]
  },
  {
   "cell_type": "code",
   "execution_count": 3,
   "id": "2df3d235",
   "metadata": {},
   "outputs": [
    {
     "data": {
      "text/plain": [
       "' also Python 3, just use quotes. In Python 2, you can from __future__ import unicode_literals to obtain the Python 3 behavior, but be aware this affects the entire current module.\\n\\ns.replace(u\"Â \", u\"\") will also fail if s is not a unicode string'"
      ]
     },
     "execution_count": 3,
     "metadata": {},
     "output_type": "execute_result"
    }
   ],
   "source": [
    "#3-\n",
    "#Python 3 uses utf-8 as the default encoding for source files\n",
    "# -*- coding: utf-8 -*-\n",
    "# coding: utf-8\n",
    "\n",
    "\"\"\" also Python 3, just use quotes. In Python 2, you can from __future__ import unicode_literals to obtain the Python 3 behavior, but be aware this affects the entire current module.\n",
    "\n",
    "s.replace(u\"Â \", u\"\") will also fail if s is not a unicode string\"\"\"\n"
   ]
  },
  {
   "cell_type": "code",
   "execution_count": 5,
   "id": "412a727f",
   "metadata": {},
   "outputs": [
    {
     "data": {
      "text/plain": [
       "'  . converts the data to string format, and use the binary representation of the string to represent the data.\\n. Because the encoding and decoding methods, such as ASCII and UTF-8, of string characters have been implemented already. The user does not have to implement any encoding and decoding methods,\\nbut let the program know which encoding and decoding methods to use\\n. Similarly, because the base unit of the text is character. When it comes to reading the file using the text mode, the program would just have to read the file byte by byte, and decode each byte to character using the\\ndecoding method the user-specified\\n. Text files are used to store data more user friendly\\n. In the text file, a special character whose ASCII value is 26 inserted after the last character to mark the end of file'"
      ]
     },
     "execution_count": 5,
     "metadata": {},
     "output_type": "execute_result"
    }
   ],
   "source": [
    "#4-\n",
    "\"\"\" . The binary mode is very easy to understand. For each piece of the data on the computer, they are represented as \n",
    "binary sequences on the memory or hard drive\n",
    ". To save the data in binary mode, we simply take the exact binary sequence representing the data, and save it to the file.\n",
    ". Because the saved file has no knowledge about the data structure of its content, to read the data saved in binary mode, \n",
    "the users would need to implement the decoding method themselves\n",
    ". Binary files are used to store data more compactly.\n",
    ". In the binary file no such character is present.\"\"\"\n",
    "\n",
    "\"\"\"  . converts the data to string format, and use the binary representation of the string to represent the data.\n",
    ". Because the encoding and decoding methods, such as ASCII and UTF-8, of string characters have been implemented already. The user does not have to implement any encoding and decoding methods,\n",
    "but let the program know which encoding and decoding methods to use\n",
    ". Similarly, because the base unit of the text is character. When it comes to reading the file using the text mode, the program would just have to read the file byte by byte, and decode each byte to character using the\n",
    "decoding method the user-specified\n",
    ". Text files are used to store data more user friendly\n",
    ". In the text file, a special character whose ASCII value is 26 inserted after the last character to mark the end of file\"\"\""
   ]
  },
  {
   "cell_type": "code",
   "execution_count": 7,
   "id": "f1eb07a1",
   "metadata": {},
   "outputs": [
    {
     "data": {
      "text/plain": [
       "' Run Notepad and open hello.utf-8 correctly with the UTF-8 encoding option selected.\\n\\n2. Click the File > \"Save As\" menu. The \"Save As\" dialog box comes up.\\n\\n3. Enter notepad_utf-16le as the new file name and select \"Unicode\" option in the Encoding field.\\n4. Click the Save button. Notepad saves the text to a new file named as: notepad_utf-16le.txt.\\n\\n5. To see how my text is saved by Notepad, I need to run my HEX dump program on notepad_utf-16le.txt'"
      ]
     },
     "execution_count": 7,
     "metadata": {},
     "output_type": "execute_result"
    }
   ],
   "source": [
    "#6-\n",
    "\"\"\" Run Notepad and open hello.utf-8 correctly with the UTF-8 encoding option selected.\n",
    "\n",
    "2. Click the File > \"Save As\" menu. The \"Save As\" dialog box comes up.\n",
    "\n",
    "3. Enter notepad_utf-16le as the new file name and select \"Unicode\" option in the Encoding field.\n",
    "4. Click the Save button. Notepad saves the text to a new file named as: notepad_utf-16le.txt.\n",
    "\n",
    "5. To see how my text is saved by Notepad, I need to run my HEX dump program on notepad_utf-16le.txt\"\"\""
   ]
  },
  {
   "cell_type": "code",
   "execution_count": 9,
   "id": "407b86b7",
   "metadata": {},
   "outputs": [
    {
     "data": {
      "text/plain": [
       "' For backward compatibility, the first 128 Unicode characters point to ASCII characters.\\nAnd since UTF-8 encodes each of those characters using 1-byte. \\nASCII is essentially just UTF-8, or we can say that ASCII is a subset of Unicode. Vice versa isn’t true.\\nUnicode supports a larger range of characters it also takes up a lot more space than ASCII. '"
      ]
     },
     "execution_count": 9,
     "metadata": {},
     "output_type": "execute_result"
    }
   ],
   "source": [
    "#7-\n",
    "\"\"\" For backward compatibility, the first 128 Unicode characters point to ASCII characters.\n",
    "And since UTF-8 encodes each of those characters using 1-byte. \n",
    "ASCII is essentially just UTF-8, or we can say that ASCII is a subset of Unicode. Vice versa isn’t true.\n",
    "Unicode supports a larger range of characters it also takes up a lot more space than ASCII. \"\"\""
   ]
  },
  {
   "cell_type": "code",
   "execution_count": 1,
   "id": "58e0f219",
   "metadata": {},
   "outputs": [
    {
     "data": {
      "text/plain": [
       "'In Python 2, the str type was used for two different kinds of values – text and bytes, whereas in Python 3, \\nthese are separate and incompatible types. Text contains human-readable messages,\\nrepresented as a sequence of Unicode codepoints. Usually,it does not contain unprintable control characters such as \\x00'"
      ]
     },
     "execution_count": 1,
     "metadata": {},
     "output_type": "execute_result"
    }
   ],
   "source": [
    "#8-\n",
    "\"\"\"In Python 2, the str type was used for two different kinds of values – text and bytes, whereas in Python 3, \n",
    "these are separate and incompatible types. Text contains human-readable messages,\n",
    "represented as a sequence of Unicode codepoints. Usually,it does not contain unprintable control characters such as \\0\"\"\"\n"
   ]
  },
  {
   "cell_type": "code",
   "execution_count": null,
   "id": "5dbbb12a",
   "metadata": {},
   "outputs": [],
   "source": []
  }
 ],
 "metadata": {
  "kernelspec": {
   "display_name": "Python 3 (ipykernel)",
   "language": "python",
   "name": "python3"
  },
  "language_info": {
   "codemirror_mode": {
    "name": "ipython",
    "version": 3
   },
   "file_extension": ".py",
   "mimetype": "text/x-python",
   "name": "python",
   "nbconvert_exporter": "python",
   "pygments_lexer": "ipython3",
   "version": "3.9.7"
  }
 },
 "nbformat": 4,
 "nbformat_minor": 5
}
