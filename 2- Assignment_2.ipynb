{
 "cells": [
  {
   "cell_type": "code",
   "execution_count": 1,
   "id": "f8bf40ea",
   "metadata": {},
   "outputs": [
    {
     "data": {
      "text/plain": [
       "\" a module in python is simply a way to organize the code,\\nand it contains either python classes or just functions. \\nIf you need those classes or functions in your project, \\nyou just import them. \\nFor example-  the math module in python contains just a bunch of functions, \\nand you just call those needed (math.sin)\\n\\nOn the other hand a python class is something similar to a java class, \\nit's only structured in a slightly different way\""
      ]
     },
     "execution_count": 1,
     "metadata": {},
     "output_type": "execute_result"
    }
   ],
   "source": [
    "#1-\n",
    "\"\"\" a module in python is simply a way to organize the code,\n",
    "and it contains either python classes or just functions. \n",
    "If you need those classes or functions in your project, \n",
    "you just import them. \n",
    "For example-  the math module in python contains just a bunch of functions, \n",
    "and you just call those needed (math.sin)\n",
    "\n",
    "On the other hand a python class is something similar to a java class, \n",
    "it's only structured in a slightly different way\"\"\""
   ]
  },
  {
   "cell_type": "code",
   "execution_count": 8,
   "id": "8e774cad",
   "metadata": {},
   "outputs": [
    {
     "data": {
      "text/plain": [
       "('debojit', 'naman')"
      ]
     },
     "execution_count": 8,
     "metadata": {},
     "output_type": "execute_result"
    }
   ],
   "source": [
    "#2-\n",
    "class test:\n",
    "    \n",
    "    def __init__(self,a,b):\n",
    "        self.name = a\n",
    "        self.age = b\n",
    "    def portfolio():\n",
    "        print(\"the name is :\", self.name)\n",
    "        print(\"the name is :\", self.age)\n",
    "obj= test(\"debojit\",26)\n",
    "obj2 = test(\"naman\",26)\n",
    "obj.name,obj2.name\n",
    "\n",
    "\n",
    "        "
   ]
  },
  {
   "cell_type": "code",
   "execution_count": 11,
   "id": "55dedd87",
   "metadata": {},
   "outputs": [],
   "source": [
    "#3-\n",
    "\"\"\" Defined directly inside a class and can be accessd or shared across all objects.\n",
    "Is accessed by classname.varibale_name\n",
    "for eg - \"\"\"\n",
    "class test:\n",
    " x = 10\n",
    " def fuc():\n",
    "    a = 10+20\n",
    "test.x\n",
    "\n",
    "\n"
   ]
  },
  {
   "cell_type": "code",
   "execution_count": 28,
   "id": "f0b32b72",
   "metadata": {},
   "outputs": [
    {
     "name": "stdout",
     "output_type": "stream",
     "text": [
      "30\n"
     ]
    }
   ],
   "source": [
    "#4-\n",
    "\"\"\" first u need to create an object by eqauting it with the class name then use that variablew with the method of  a class\n",
    "for eg \"\"\"\n",
    "\n",
    "class  tests:\n",
    "    def fucc(a):\n",
    "        a = 30\n",
    "        print(a)\n",
    "obj = tests()\n",
    "obj.fucc()"
   ]
  },
  {
   "cell_type": "code",
   "execution_count": 29,
   "id": "7160538f",
   "metadata": {},
   "outputs": [],
   "source": [
    "#5-\n",
    "# The self keyword is used to represent an instance (object) of the given class."
   ]
  },
  {
   "cell_type": "code",
   "execution_count": 31,
   "id": "a7c2ffd5",
   "metadata": {},
   "outputs": [
    {
     "name": "stdout",
     "output_type": "stream",
     "text": [
      "3\n",
      "debojitmandal\n"
     ]
    }
   ],
   "source": [
    "#6-\n",
    "\"\"\" Operator Overloading means giving extended meaning beyond their predefined operational meaning. For example operator + \n",
    "is used to add two integers as well as join two strings and merge two lists.\n",
    "It is achievable because ‘+’ operator is overloaded by int class and str class.  \n",
    "same built-in operator or function shows different behavior for objects of different classes, \n",
    "this is called Operator Overloading.\"\"\"\n",
    "\n",
    "# + operator for different purposes.\n",
    "\n",
    "print(1 + 2)\n",
    "\n",
    "# concatenate two strings\n",
    "\n",
    "print(\"debojit\"+\"mandal\")\n"
   ]
  },
  {
   "cell_type": "code",
   "execution_count": 32,
   "id": "c6310078",
   "metadata": {},
   "outputs": [],
   "source": [
    "#8- \n",
    "#addition operator"
   ]
  },
  {
   "cell_type": "code",
   "execution_count": 33,
   "id": "20baeccd",
   "metadata": {},
   "outputs": [],
   "source": [
    "#9\n",
    "# two key concepts of OOP which are inheritance and polymorphism"
   ]
  },
  {
   "cell_type": "code",
   "execution_count": 1,
   "id": "b1af313d",
   "metadata": {},
   "outputs": [
    {
     "data": {
      "text/plain": [
       "\"When we need an operator to accomplish a specific task which the operator itself can't do with its inbuilt way of working. \\nThat is when we consider defining a method for that operator\""
      ]
     },
     "execution_count": 1,
     "metadata": {},
     "output_type": "execute_result"
    }
   ],
   "source": [
    "#7\n",
    "\"\"\"When we need an operator to accomplish a specific task which the operator itself can't do with its inbuilt way of working. \n",
    "That is when we consider defining a method for that operator\"\"\""
   ]
  },
  {
   "cell_type": "code",
   "execution_count": null,
   "id": "9bdc0d1e",
   "metadata": {},
   "outputs": [],
   "source": []
  }
 ],
 "metadata": {
  "kernelspec": {
   "display_name": "Python 3 (ipykernel)",
   "language": "python",
   "name": "python3"
  },
  "language_info": {
   "codemirror_mode": {
    "name": "ipython",
    "version": 3
   },
   "file_extension": ".py",
   "mimetype": "text/x-python",
   "name": "python",
   "nbconvert_exporter": "python",
   "pygments_lexer": "ipython3",
   "version": "3.9.7"
  }
 },
 "nbformat": 4,
 "nbformat_minor": 5
}
