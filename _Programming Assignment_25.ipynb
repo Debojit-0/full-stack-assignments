{
 "cells": [
  {
   "cell_type": "code",
   "execution_count": 11,
   "id": "5aec134d",
   "metadata": {},
   "outputs": [
    {
     "data": {
      "text/plain": [
       "3"
      ]
     },
     "execution_count": 11,
     "metadata": {},
     "output_type": "execute_result"
    }
   ],
   "source": [
    "def funcc(a,b,c):\n",
    "    if a == b == c:\n",
    "        return 3\n",
    "    elif a == c:\n",
    "        return 2\n",
    "    elif b ==a:\n",
    "         return 2\n",
    "    elif b == c:\n",
    "        return 2\n",
    "    elif c ==a:\n",
    "        return 2\n",
    "    elif c == b:\n",
    "        return 2\n",
    "   \n",
    "    else:\n",
    "        return 0\n",
    "\n",
    "funcc(3,3,3)        "
   ]
  },
  {
   "cell_type": "code",
   "execution_count": 20,
   "id": "b5de636a",
   "metadata": {},
   "outputs": [
    {
     "data": {
      "text/plain": [
       "[('D', 1), ('B', 2), ('C', 3)]"
      ]
     },
     "execution_count": 20,
     "metadata": {},
     "output_type": "execute_result"
    }
   ],
   "source": [
    "dict_to_list = {\n",
    "\"D\" : 1,\n",
    "\"B\" : 2,\n",
    "\"C\" : 3\n",
    "}\n",
    "\n",
    "dict_to_list = list(dict_to_list.items())\n",
    "dict_to_list"
   ]
  },
  {
   "cell_type": "code",
   "execution_count": 81,
   "id": "1d0700ad",
   "metadata": {},
   "outputs": [
    {
     "data": {
      "text/plain": [
       "{'p': 'Q', 'q': 'R', 'r': 'S'}"
      ]
     },
     "execution_count": 81,
     "metadata": {},
     "output_type": "execute_result"
    }
   ],
   "source": [
    "mapping = {\"p\":\"q\",\"q\":\"r\",\"r\":\"s\"}\n",
    "dictt ={}\n",
    "l = []\n",
    "k=[] # values\n",
    "n = [] # keys\n",
    "for i in mapping.values():\n",
    "    l.append(i)\n",
    "for j in l:\n",
    "    k.append(j.upper())\n",
    "\n",
    "for m in mapping.keys():\n",
    "    n.append(m)\n",
    "    \n",
    "dictt = dict(zip(n,k))\n",
    "dictt\n",
    "        \n",
    "        \n",
    "        \n",
    "\n"
   ]
  },
  {
   "cell_type": "code",
   "execution_count": 95,
   "id": "91e46775",
   "metadata": {},
   "outputs": [
    {
     "data": {
      "text/plain": [
       "'ZpplZs Znd bZnZnZs'"
      ]
     },
     "execution_count": 95,
     "metadata": {},
     "output_type": "execute_result"
    }
   ],
   "source": [
    "def replaceVowelsWithK(test_str):\n",
    "    vowels = \"AEIOUaeiou\"\n",
    "    for i in vowels:\n",
    "        test_str = test_str.replace(i, \"Z\")\n",
    "    return test_str\n",
    "    \n",
    "\n",
    "vow_replace = \"apples and bananas\"\n",
    "\n",
    "replaceVowelsWithK(vow_replace)\n",
    "\n",
    "        "
   ]
  },
  {
   "cell_type": "code",
   "execution_count": 1,
   "id": "19c083dc",
   "metadata": {
    "scrolled": true
   },
   "outputs": [
    {
     "name": "stdout",
     "output_type": "stream",
     "text": [
      "To Be oR NoT To Be!"
     ]
    }
   ],
   "source": [
    "x = \"to be or not to be!\"\n",
    "def caps(x):\n",
    "    for i in x:\n",
    "        if ord(i)%2 ==0:\n",
    "            print(i.upper(),end =\"\")\n",
    "        else:\n",
    "            print(i.lower(),end = \"\")\n",
    "caps(x)"
   ]
  },
  {
   "cell_type": "code",
   "execution_count": null,
   "id": "ab99a94e",
   "metadata": {},
   "outputs": [],
   "source": []
  }
 ],
 "metadata": {
  "kernelspec": {
   "display_name": "Python 3 (ipykernel)",
   "language": "python",
   "name": "python3"
  },
  "language_info": {
   "codemirror_mode": {
    "name": "ipython",
    "version": 3
   },
   "file_extension": ".py",
   "mimetype": "text/x-python",
   "name": "python",
   "nbconvert_exporter": "python",
   "pygments_lexer": "ipython3",
   "version": "3.9.7"
  }
 },
 "nbformat": 4,
 "nbformat_minor": 5
}
