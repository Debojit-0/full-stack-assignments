{
 "cells": [
  {
   "cell_type": "code",
   "execution_count": 6,
   "id": "36309eb6",
   "metadata": {},
   "outputs": [
    {
     "name": "stdout",
     "output_type": "stream",
     "text": [
      "enter the range10\n"
     ]
    },
    {
     "data": {
      "text/plain": [
       "[3, 6, 9]"
      ]
     },
     "execution_count": 6,
     "metadata": {},
     "output_type": "execute_result"
    }
   ],
   "source": [
    "def list_operation(x,n):\n",
    "    for i in range(1,x+1):\n",
    "        if i%n ==0:\n",
    "            l.append(i)\n",
    "l=[]\n",
    "x = int(input(\"enter the range\"))\n",
    "list_operation(x,3)\n",
    "l\n",
    "        "
   ]
  },
  {
   "cell_type": "code",
   "execution_count": 16,
   "id": "053f7328",
   "metadata": {},
   "outputs": [
    {
     "name": "stdout",
     "output_type": "stream",
     "text": [
      "True\n",
      "None\n"
     ]
    }
   ],
   "source": [
    "def common_data(list1, list2):\n",
    "     result = False\n",
    "     for x in list1:\n",
    "         for y in list2:\n",
    "             if x == y:\n",
    "                 result = True\n",
    "                 return result\n",
    "print(common_data([1,2,3,4,5], [5,6,7,8,9]))\n",
    "print(common_data([1,2,3,4,5], [6,7,8,9]))\n"
   ]
  },
  {
   "cell_type": "code",
   "execution_count": 37,
   "id": "b4bc1794",
   "metadata": {},
   "outputs": [
    {
     "data": {
      "text/plain": [
       "'ahh'"
      ]
     },
     "execution_count": 37,
     "metadata": {},
     "output_type": "execute_result"
    }
   ],
   "source": [
    "def func(l):\n",
    "    for i in l:\n",
    "        i=i[0]\n",
    "        k.append(i)\n",
    "    \n",
    "l = [\"adam\",\"henry\",\"harry\"]\n",
    "k=[]\n",
    "func(l)\n",
    "x = \"\".join(k)\n",
    "\n",
    "x"
   ]
  },
  {
   "cell_type": "code",
   "execution_count": 40,
   "id": "b393a71b",
   "metadata": {},
   "outputs": [
    {
     "name": "stdout",
     "output_type": "stream",
     "text": [
      "False\n",
      "True\n",
      "True\n",
      "False\n"
     ]
    }
   ],
   "source": [
    "\n",
    "def is_isogram(word):\n",
    "    clean_word = word.lower()\n",
    "    letter_list = []\n",
    "    for letter in clean_word:\n",
    "        if letter.isalpha():\n",
    "            if letter in letter_list:\n",
    "                \n",
    "                return False\n",
    "            letter_list.append(letter)\n",
    "\n",
    "    return True\n",
    "\n",
    "print(is_isogram(\"password\"))\n",
    "print(is_isogram(\"isogram\"))\n",
    "print(is_isogram(\"algorism\"))\n",
    "print(is_isogram(\"consecutive \"))\n"
   ]
  },
  {
   "cell_type": "code",
   "execution_count": 42,
   "id": "b6a29da4",
   "metadata": {},
   "outputs": [
    {
     "name": "stdout",
     "output_type": "stream",
     "text": [
      "No\n"
     ]
    }
   ],
   "source": [
    "\n",
    "def isAlphabaticOrder(s):\n",
    "    n = len(s)\n",
    "    for i in range(1, n):\n",
    "        if (s[i] < s[i - 1]) :\n",
    "            return False\n",
    "    return True\n",
    "\n",
    "\n",
    "\n",
    "s = \"hello\"\n",
    "\n",
    "if (isAlphabaticOrder(s)):\n",
    "    print(\"Yes\")\n",
    "else:\n",
    "    print(\"No\")\n",
    "\n",
    "    "
   ]
  },
  {
   "cell_type": "code",
   "execution_count": null,
   "id": "60ecfb94",
   "metadata": {},
   "outputs": [],
   "source": []
  }
 ],
 "metadata": {
  "kernelspec": {
   "display_name": "Python 3 (ipykernel)",
   "language": "python",
   "name": "python3"
  },
  "language_info": {
   "codemirror_mode": {
    "name": "ipython",
    "version": 3
   },
   "file_extension": ".py",
   "mimetype": "text/x-python",
   "name": "python",
   "nbconvert_exporter": "python",
   "pygments_lexer": "ipython3",
   "version": "3.9.7"
  }
 },
 "nbformat": 4,
 "nbformat_minor": 5
}
