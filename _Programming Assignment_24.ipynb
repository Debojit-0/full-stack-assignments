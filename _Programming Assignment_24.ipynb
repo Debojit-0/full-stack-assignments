{
 "cells": [
  {
   "cell_type": "code",
   "execution_count": 5,
   "id": "634a79d2",
   "metadata": {},
   "outputs": [
    {
     "data": {
      "text/plain": [
       "[80, 120]"
      ]
     },
     "execution_count": 5,
     "metadata": {},
     "output_type": "execute_result"
    }
   ],
   "source": [
    "#1-\n",
    "def num(l):\n",
    "    for i in l:\n",
    "        if i%4 == 0:\n",
    "            i =i*10\n",
    "            k.append(i)\n",
    " \n",
    "    else:\n",
    "        return l\n",
    "l = [1,2,3,8,12]  \n",
    "k=[]\n",
    "num(l)\n",
    "k\n",
    "        \n",
    "        \n",
    "        "
   ]
  },
  {
   "cell_type": "code",
   "execution_count": 28,
   "id": "311eeab4",
   "metadata": {},
   "outputs": [],
   "source": [
    "#2-\n",
    "def uniq():\n",
    "    list1=[]\n",
    "    number=int(input(\"Enter list length\"))\n",
    "    print(\"enter numbers\")\n",
    "    for i in range(number):\n",
    "        data=int(input())\n",
    "        list1.append(data)\n",
    "\n",
    "    print(list1)    \n",
    "\n",
    "    list1.sort()\n",
    "\n",
    "    list2=[]\n",
    "\n",
    "    for i in range(len(list1)):\n",
    "        if list1[i] not in list2:\n",
    "            list2.append(list1[i])\n",
    "        \n",
    "\n",
    "    for i in range(len(list2)):\n",
    "        print(list2[i],list1.count(list2[i]),'times')\n",
    "\n",
    "\n",
    "    list3=[]\n",
    "    for i in range(len(list2)):\n",
    "        list3.append(list1.count(list2[i]))\n",
    " \n",
    "\n",
    "    for i in range(len(list3)):\n",
    "        if list3[i]==1:\n",
    "            a=(i)\n",
    "            print('unique no is:',list2[a])"
   ]
  },
  {
   "cell_type": "code",
   "execution_count": 7,
   "id": "0765aa9f",
   "metadata": {},
   "outputs": [
    {
     "name": "stdout",
     "output_type": "stream",
     "text": [
      "452.16\n",
      "75.36\n"
     ]
    }
   ],
   "source": [
    "#3-\n",
    "class Circle():\n",
    "    def __init__(self, r):\n",
    "        self.radius = r\n",
    "\n",
    "    def area(self):\n",
    "        return self.radius**2*3.14\n",
    "    \n",
    "    def perimeter(self):\n",
    "        return 2*self.radius*3.14\n",
    "\n",
    "NewCircle = Circle(12)\n",
    "print(NewCircle.area())\n",
    "print(NewCircle.perimeter())"
   ]
  },
  {
   "cell_type": "code",
   "execution_count": 4,
   "id": "de8f63fc",
   "metadata": {},
   "outputs": [
    {
     "data": {
      "text/plain": [
       "['Raphael', 'Leonardo', 'Donatello', 'Michelangelo']"
      ]
     },
     "execution_count": 4,
     "metadata": {},
     "output_type": "execute_result"
    }
   ],
   "source": [
    "#4-\n",
    "\n",
    "def lennn(m):\n",
    "    m.sort(key=len)\n",
    "    return m\n",
    "    \n",
    "m = ['Donatello', 'Leonardo', 'Michelangelo', 'Raphael']\n",
    "lennn(m)"
   ]
  },
  {
   "cell_type": "code",
   "execution_count": 26,
   "id": "f6b3a4d9",
   "metadata": {},
   "outputs": [
    {
     "name": "stdout",
     "output_type": "stream",
     "text": [
      "25\n"
     ]
    }
   ],
   "source": [
    "#5-\n",
    "def triplet(a,b,c):\n",
    "    max =a\n",
    "    if b>max:\n",
    "        max = b\n",
    "    if c >max:\n",
    "        max =c\n",
    "    if max == a:\n",
    "        a*a ==  b*b+c*c\n",
    "        print(a*a)\n",
    "    if max == b:\n",
    "        b*b== a*a+c*c\n",
    "        print(b*b)\n",
    "    if max == c:\n",
    "        c*c ==a*a+b*b\n",
    "        print(c*c)\n",
    "a,b,c=3,4,5\n",
    "triplet(a,b,c)\n",
    "    "
   ]
  },
  {
   "cell_type": "code",
   "execution_count": null,
   "id": "0562ef33",
   "metadata": {},
   "outputs": [],
   "source": [
    "\n"
   ]
  }
 ],
 "metadata": {
  "kernelspec": {
   "display_name": "Python 3 (ipykernel)",
   "language": "python",
   "name": "python3"
  },
  "language_info": {
   "codemirror_mode": {
    "name": "ipython",
    "version": 3
   },
   "file_extension": ".py",
   "mimetype": "text/x-python",
   "name": "python",
   "nbconvert_exporter": "python",
   "pygments_lexer": "ipython3",
   "version": "3.9.7"
  }
 },
 "nbformat": 4,
 "nbformat_minor": 5
}
