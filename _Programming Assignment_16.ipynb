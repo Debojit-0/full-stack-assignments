{
 "cells": [
  {
   "cell_type": "code",
   "execution_count": 1,
   "id": "061687d4",
   "metadata": {},
   "outputs": [
    {
     "name": "stdout",
     "output_type": "stream",
     "text": [
      "in... in... incredible?\n"
     ]
    }
   ],
   "source": [
    "def stutter(word):\n",
    "    s = word[:2]\n",
    "    return (2 * (s + '... ')) + word + '?'\n",
    "\n",
    "\n",
    "print(stutter(\"incredible\"))"
   ]
  },
  {
   "cell_type": "code",
   "execution_count": 19,
   "id": "520c6655",
   "metadata": {},
   "outputs": [
    {
     "name": "stdout",
     "output_type": "stream",
     "text": [
      "degree = 1145.9165581759555\n"
     ]
    }
   ],
   "source": [
    "\n",
    "def Convert(radian):\n",
    "    pi = 3.14159\n",
    "    degree = radian * (180/pi)\n",
    "    return degree\n",
    "\n",
    "radian = 20\n",
    "Convert(radian)\n",
    "print(\"degree =\",(Convert(radian)))\n"
   ]
  },
  {
   "cell_type": "code",
   "execution_count": 22,
   "id": "6697d0ad",
   "metadata": {},
   "outputs": [
    {
     "name": "stdout",
     "output_type": "stream",
     "text": [
      "enter a number10\n",
      "10 not a  Curzon number\n"
     ]
    }
   ],
   "source": [
    "def Curzon(n):\n",
    "    if (2**n +1)% (2*n +1) == 0:\n",
    "        print(n,\"is a Curzon number \")\n",
    "    else:\n",
    "        print(n,\"not a  Curzon number\")\n",
    "n = int(input(\"enter a number\"))\n",
    "Curzon(n)"
   ]
  },
  {
   "cell_type": "code",
   "execution_count": 26,
   "id": "2db431c3",
   "metadata": {},
   "outputs": [
    {
     "name": "stdout",
     "output_type": "stream",
     "text": [
      "enter the length2\n"
     ]
    },
    {
     "data": {
      "text/plain": [
       "10.392304845413264"
      ]
     },
     "execution_count": 26,
     "metadata": {},
     "output_type": "execute_result"
    }
   ],
   "source": [
    "import math\n",
    "def sqrt(l):\n",
    "    area = (3*math.sqrt(3)*l**2)/2\n",
    "    return area\n",
    "l = int(input(\"enter the length\"))\n",
    "sqrt(l)\n"
   ]
  },
  {
   "cell_type": "code",
   "execution_count": 2,
   "id": "61528726",
   "metadata": {},
   "outputs": [
    {
     "name": "stdout",
     "output_type": "stream",
     "text": [
      "enter the number15\n",
      "0b1111\n"
     ]
    }
   ],
   "source": [
    "n = int(input(\"enter the number\"))\n",
    "n = bin(n)\n",
    "print(n)"
   ]
  },
  {
   "cell_type": "code",
   "execution_count": null,
   "id": "13d92953",
   "metadata": {},
   "outputs": [],
   "source": []
  }
 ],
 "metadata": {
  "kernelspec": {
   "display_name": "Python 3 (ipykernel)",
   "language": "python",
   "name": "python3"
  },
  "language_info": {
   "codemirror_mode": {
    "name": "ipython",
    "version": 3
   },
   "file_extension": ".py",
   "mimetype": "text/x-python",
   "name": "python",
   "nbconvert_exporter": "python",
   "pygments_lexer": "ipython3",
   "version": "3.9.7"
  }
 },
 "nbformat": 4,
 "nbformat_minor": 5
}
