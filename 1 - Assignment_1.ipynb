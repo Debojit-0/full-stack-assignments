{
 "cells": [
  {
   "cell_type": "code",
   "execution_count": 1,
   "id": "19fa0909",
   "metadata": {},
   "outputs": [
    {
     "data": {
      "text/plain": [
       "'bind the data and the functions that work on that together as a single unit so that \\nno other part of the code can access this data. and to reuse the code multiple times not just in the same file but also in a different file'"
      ]
     },
     "execution_count": 1,
     "metadata": {},
     "output_type": "execute_result"
    }
   ],
   "source": [
    "#1-\n",
    "\"\"\"bind the data and the functions that work on that together as a single unit so that \n",
    "no other part of the code can access this data. and to reuse the code multiple times not just in the same file but also in a different file\"\"\""
   ]
  },
  {
   "cell_type": "code",
   "execution_count": null,
   "id": "90820073",
   "metadata": {},
   "outputs": [],
   "source": [
    "#2-\n",
    "\n",
    "\"\"\"Basically in case of multiple inheritance, \n",
    "the child class will first search in own class, if not then in parent class.\"\"\"\n",
    "# reference  - MRO or Method Resolution  Order concept (youtube)"
   ]
  },
  {
   "cell_type": "code",
   "execution_count": 3,
   "id": "b0cebb5c",
   "metadata": {},
   "outputs": [
    {
     "data": {
      "text/plain": [
       "'there can only be 1 class object.\\nbut there can be multiple instance object\\nfor eg - class test():\\n            x= 10\\n        obj = test()\\n        obj1 = test()\\nnote - i created 2 instance object i.e obj and obj 1 like this i can create many obj i.e instance object\\nnote - all obj  will have different memory adress for eg obj has a different memeory adress as compared to obj1'"
      ]
     },
     "execution_count": 3,
     "metadata": {},
     "output_type": "execute_result"
    }
   ],
   "source": [
    "#3-\n",
    "# note - a instance object is nothing but object the other name for object is instance\n",
    "\n",
    "\"\"\"there can only be 1 class object.\n",
    "but there can be multiple instance object\n",
    "for eg - class test():\n",
    "            x= 10\n",
    "        obj = test()\n",
    "        obj1 = test()\n",
    "note - i created 2 instance object i.e obj and obj 1 like this i can create many obj i.e instance object\n",
    "note - all obj  will have different memory adress for eg obj has a different memeory adress as compared to obj1\"\"\"\n",
    "\n",
    "# now class object has only one static variable i.e x which is 10\n",
    "\n",
    "#so when u create a class automatically a class object is created\n",
    "\n",
    "# but an instance object has to be created by giving the class name with parenthesis i.e obj = test()\n",
    "\n",
    "\n",
    "\n"
   ]
  },
  {
   "cell_type": "code",
   "execution_count": null,
   "id": "061f383b",
   "metadata": {},
   "outputs": [],
   "source": [
    "#4- \n",
    "\"\"\" 1-methods are nothing but fuctions of a class\n",
    "2 -the first method of a any class is usually __init__\n",
    "init is basically a constructor\n",
    "\n",
    "3- when u create init and create an object or an instance object without even calling the name of the fuction or the method the init \n",
    "method will be called automatically\n",
    "\n",
    "4- now the init method contain a special keyword called as self\n",
    "The first argument of every class method, including init, is always a reference to the current instance of the class. \n",
    "By convention, this argument is always named self. \n",
    "In the init method, self refers to the newly created object\n",
    "in other class methods, it refers to the instance whose method was called. \n",
    "\n",
    "\n"
   ]
  },
  {
   "cell_type": "code",
   "execution_count": 4,
   "id": "0e27edf5",
   "metadata": {},
   "outputs": [
    {
     "data": {
      "text/plain": [
       "'__init__\\ninit is basically a constructor\\n\\n3- when u create init and create an object or an instance object without even calling the name of the fuction or the method the init \\nmethod will be called automatically'"
      ]
     },
     "execution_count": 4,
     "metadata": {},
     "output_type": "execute_result"
    }
   ],
   "source": [
    "#5-\n",
    "\n",
    "\"\"\"__init__\n",
    "init is basically a constructor\n",
    "\n",
    "3- when u create init and create an object or an instance object without even calling the name of the fuction or the method the init \n",
    "method will be called automatically\"\"\""
   ]
  },
  {
   "cell_type": "code",
   "execution_count": 5,
   "id": "1524ba46",
   "metadata": {},
   "outputs": [
    {
     "name": "stdout",
     "output_type": "stream",
     "text": [
      "<__main__.test object at 0x0000028678FD5CA0>\n"
     ]
    }
   ],
   "source": [
    "#6-\n",
    "\"\"\" An instance of a class is an object. It is also known as a class object or class instance\"\"\"\n",
    "\n",
    "class test():\n",
    "    pass\n",
    "obj= test()\n",
    "print(obj)"
   ]
  },
  {
   "cell_type": "code",
   "execution_count": 6,
   "id": "2674692b",
   "metadata": {},
   "outputs": [],
   "source": [
    "#7-\n",
    "\"\"\" use the keyword class \n",
    "followed by the name of the class\n",
    "then close the bracket. then use colen(:)\"\"\"\n",
    "\n",
    "class test1():\n",
    "    pass"
   ]
  },
  {
   "cell_type": "code",
   "execution_count": null,
   "id": "22e2fe01",
   "metadata": {},
   "outputs": [],
   "source": [
    "#8 - \n",
    "\"\"\" a super class is a class which has a sub or a child class and the child class inherits the attributes of the superclass.\n",
    "\n",
    "a super class also be called as super method or super() \n",
    "\n",
    "it basically gives access to the methods of a parent class and returns a temporary object of a parent class\"\"\""
   ]
  }
 ],
 "metadata": {
  "kernelspec": {
   "display_name": "Python 3 (ipykernel)",
   "language": "python",
   "name": "python3"
  },
  "language_info": {
   "codemirror_mode": {
    "name": "ipython",
    "version": 3
   },
   "file_extension": ".py",
   "mimetype": "text/x-python",
   "name": "python",
   "nbconvert_exporter": "python",
   "pygments_lexer": "ipython3",
   "version": "3.9.7"
  }
 },
 "nbformat": 4,
 "nbformat_minor": 5
}
