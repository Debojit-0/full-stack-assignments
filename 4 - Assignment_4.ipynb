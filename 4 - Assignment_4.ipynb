{
 "cells": [
  {
   "cell_type": "code",
   "execution_count": 1,
   "id": "19d1e8be",
   "metadata": {},
   "outputs": [],
   "source": [
    "#1- iter and next"
   ]
  },
  {
   "cell_type": "code",
   "execution_count": null,
   "id": "c69613f7",
   "metadata": {},
   "outputs": [],
   "source": [
    "#3-\n",
    "\n",
    "import profile\n",
    "import sys\n",
    "\n",
    "print sys.version\n",
    "\n",
    "class InterceptedList(list):\n",
    "\n",
    "    def addSave(func):\n",
    "        def newfunc(self, *args):\n",
    "            func(self, *args)\n",
    "            print 'saving'\n",
    "        return newfunc\n",
    "\n",
    "    __setslice__ = addSave(list.__setslice__)\n",
    "    __delslice__ = addSave(list.__delslice__)\n",
    "\n",
    "\n",
    "class InterceptedList2(list):\n",
    "\n",
    "    def __setitem__(self, key, value):\n",
    "        print 'saving'\n",
    "        list.__setitem__(self, key, value)\n",
    "\n",
    "    def __delitem__(self, key):\n",
    "        print 'saving'\n",
    "        list.__delitem__(self, key)\n",
    "\n",
    "\n",
    "print(\"------------Testing setslice------------------\")\n",
    "l = InterceptedList()\n",
    "l.extend([1,2,3,4])\n",
    "profile.run(\"l[3:] = [5]\")\n",
    "profile.run(\"l[2:6] = [12, 4]\")\n",
    "profile.run(\"l[-1:] = [42]\")\n",
    "profile.run(\"l[::2] = [6,6]\")\n",
    "\n",
    "print(\"-----------Testing setitem--------------------\")\n",
    "l2 = InterceptedList2()\n",
    "l2.extend([1,2,3,4])\n",
    "profile.run(\"l2[3:] = [5]\")\n",
    "profile.run(\"l2[2:6] = [12,4]\")\n",
    "profile.run(\"l2[-1:] = [42]\")\n",
    "profile.run(\"l2[::2] = [6,6]\")"
   ]
  },
  {
   "cell_type": "code",
   "execution_count": 3,
   "id": "e2e8ddd4",
   "metadata": {},
   "outputs": [],
   "source": [
    "#4 -  using inadd method"
   ]
  },
  {
   "cell_type": "code",
   "execution_count": 5,
   "id": "54476ae8",
   "metadata": {},
   "outputs": [
    {
     "data": {
      "text/plain": [
       "'operator overloading is doen when u cannot use that operetor directly and u need to use a special method to do the task\\n\\nfor eg - lets say u have to add 2 objects now + operator will not or cannot add 2 objects but u can use _add__ method to do it\\nsimilarly lets say u want to add a int and a string u can use add fucntion inside a class  or lets say compare 2 objects u can use lt functionor __lt__'"
      ]
     },
     "execution_count": 5,
     "metadata": {},
     "output_type": "execute_result"
    }
   ],
   "source": [
    "#5-\n",
    "\"\"\"operator overloading is doen when u cannot use that operetor directly and u need to use a special method to do the task\n",
    "\n",
    "for eg - lets say u have to add 2 objects now + operator will not or cannot add 2 objects but u can use _add__ method to do it\n",
    "similarly lets say u want to add a int and a string u can use add fucntion inside a class  or lets say compare 2 objects u can use lt functionor __lt__\"\"\""
   ]
  },
  {
   "cell_type": "code",
   "execution_count": null,
   "id": "23822f5d",
   "metadata": {},
   "outputs": [],
   "source": []
  }
 ],
 "metadata": {
  "kernelspec": {
   "display_name": "Python 3 (ipykernel)",
   "language": "python",
   "name": "python3"
  },
  "language_info": {
   "codemirror_mode": {
    "name": "ipython",
    "version": 3
   },
   "file_extension": ".py",
   "mimetype": "text/x-python",
   "name": "python",
   "nbconvert_exporter": "python",
   "pygments_lexer": "ipython3",
   "version": "3.9.7"
  }
 },
 "nbformat": 4,
 "nbformat_minor": 5
}
