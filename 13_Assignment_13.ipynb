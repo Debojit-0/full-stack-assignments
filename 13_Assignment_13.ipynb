{
 "cells": [
  {
   "cell_type": "code",
   "execution_count": 1,
   "id": "0e68bdc8",
   "metadata": {},
   "outputs": [],
   "source": [
    "#1- YES PYTHON SUPPORTS BOTH POSITIVE AND NEGETIVE INDEXING AND THERE IS NO REPURCUSION"
   ]
  },
  {
   "cell_type": "code",
   "execution_count": 2,
   "id": "842dd2e3",
   "metadata": {},
   "outputs": [],
   "source": [
    "#2-USE LIST COMPREHENSION METHOD "
   ]
  },
  {
   "cell_type": "code",
   "execution_count": 3,
   "id": "fb2be41e",
   "metadata": {},
   "outputs": [
    {
     "data": {
      "text/plain": [
       "[1, 3, 5, 7, 9]"
      ]
     },
     "execution_count": 3,
     "metadata": {},
     "output_type": "execute_result"
    }
   ],
   "source": [
    "#3- \n",
    "L = [1,2,3,4,5,6,7,8,9]\n",
    "L[0::2]"
   ]
  },
  {
   "cell_type": "code",
   "execution_count": 5,
   "id": "e855f743",
   "metadata": {},
   "outputs": [],
   "source": [
    "#4- \n",
    "# INDEXING TELLS THE POSITION (USUALLY IN INT)\n",
    "#Slicing” means getting a subset of elements from an iterable based on their indices."
   ]
  },
  {
   "cell_type": "code",
   "execution_count": 6,
   "id": "89a974a9",
   "metadata": {},
   "outputs": [],
   "source": [
    "#5- IT WILL THROW AN ERROR OUT OF RANGE INDEX"
   ]
  },
  {
   "cell_type": "code",
   "execution_count": 13,
   "id": "52df4772",
   "metadata": {},
   "outputs": [
    {
     "data": {
      "text/plain": [
       "' so u need to avoid copying the the list before assigning '"
      ]
     },
     "execution_count": 13,
     "metadata": {},
     "output_type": "execute_result"
    }
   ],
   "source": [
    "#6- \n",
    "\"\"\"python parameter is passed by object reference, and list is a mutable object,\n",
    "once you pass a list into function and change its element, \n",
    "the original one would be change too\"\"\"\n",
    "\n",
    "\"\"\" if you use 'x = x.copy()' before assigning, 'x' would not be the same object to the original one, so any change to 'x' \n",
    "in the function would not affect the 'x' in the main scope.\"\"\"\n",
    "\n",
    "\"\"\" so u need to avoid copying the the list before assigning \"\"\"\n"
   ]
  },
  {
   "cell_type": "code",
   "execution_count": 14,
   "id": "cf2da8e3",
   "metadata": {},
   "outputs": [
    {
     "data": {
      "text/plain": [
       "'Whenever the cost matrix of an assignment problem is not a square matrix, that is,\\nwhenever the number of sources is not equal to the number of destinations, the assignment problem is called an \\nunbalanced matrix'"
      ]
     },
     "execution_count": 14,
     "metadata": {},
     "output_type": "execute_result"
    }
   ],
   "source": [
    "#7-\n",
    "\n",
    "\"\"\"Whenever the cost matrix of an assignment problem is not a square matrix, that is,\n",
    "whenever the number of sources is not equal to the number of destinations, the assignment problem is called an \n",
    "unbalanced matrix\"\"\""
   ]
  },
  {
   "cell_type": "code",
   "execution_count": 15,
   "id": "1c1731c6",
   "metadata": {},
   "outputs": [
    {
     "data": {
      "text/plain": [
       "'List comprehensions apply an arbitrary expression to items in an iterable rather than applying function.\\nIt provides a compact way of mapping a list into another list by applying a function \\nto each of the elements of the list.'"
      ]
     },
     "execution_count": 15,
     "metadata": {},
     "output_type": "execute_result"
    }
   ],
   "source": [
    "#8-\n",
    "\"\"\"List comprehensions apply an arbitrary expression to items in an iterable rather than applying function.\n",
    "It provides a compact way of mapping a list into another list by applying a function \n",
    "to each of the elements of the list.\"\"\""
   ]
  },
  {
   "cell_type": "code",
   "execution_count": null,
   "id": "faffc51a",
   "metadata": {},
   "outputs": [],
   "source": []
  }
 ],
 "metadata": {
  "kernelspec": {
   "display_name": "Python 3 (ipykernel)",
   "language": "python",
   "name": "python3"
  },
  "language_info": {
   "codemirror_mode": {
    "name": "ipython",
    "version": 3
   },
   "file_extension": ".py",
   "mimetype": "text/x-python",
   "name": "python",
   "nbconvert_exporter": "python",
   "pygments_lexer": "ipython3",
   "version": "3.9.7"
  }
 },
 "nbformat": 4,
 "nbformat_minor": 5
}
