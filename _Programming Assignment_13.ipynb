{
 "cells": [
  {
   "cell_type": "code",
   "execution_count": 64,
   "id": "43723c7a",
   "metadata": {},
   "outputs": [
    {
     "name": "stdout",
     "output_type": "stream",
     "text": [
      "Enter two values: 100,150,180\n",
      "['100', '150', '180']\n",
      "[18, 22, 24]\n"
     ]
    }
   ],
   "source": [
    "import math\n",
    "D = input((\"Enter two values: \"))\n",
    "D = D.split(',')\n",
    "print(D)\n",
    "l=[]\n",
    "for i in D:\n",
    "    Q =math.sqrt ((2 * C * int(i)/H))\n",
    "    Q = int(Q)\n",
    "    l.append(Q)\n",
    "print(l)\n",
    "\n",
    "\n",
    "\n",
    "\n"
   ]
  },
  {
   "cell_type": "code",
   "execution_count": 154,
   "id": "03e96359",
   "metadata": {},
   "outputs": [
    {
     "name": "stdout",
     "output_type": "stream",
     "text": [
      "ENTER THE ROWS : 3\n",
      "ENTER THE COLUMNS : 5\n",
      "[[0, 0, 0, 0, 0], [0, 1, 2, 3, 4], [0, 2, 4, 6, 8]]\n"
     ]
    }
   ],
   "source": [
    "m=int(input(\"ENTER THE ROWS : \"))\n",
    "\n",
    "n=int(input(\"ENTER THE COLUMNS : \"))\n",
    "\n",
    "matrix = [] # this list for genrating 2d array i.e creating the outer square bracket\n",
    "for i in range(m):\n",
    "    \n",
    "    row = [] # this list is to fill the product of i*j and createing the inner square brackets\n",
    "\n",
    "    for j in range(n):\n",
    "            row.append(i*j)\n",
    "    matrix.append(row)\n",
    "        \n",
    "            \n",
    "print(matrix)\n",
    "            \n",
    "\n",
    "    \n",
    "         \n",
    "        \n",
    "                \n",
    "        \n",
    "        \n"
   ]
  },
  {
   "cell_type": "code",
   "execution_count": 116,
   "id": "3f56983d",
   "metadata": {},
   "outputs": [
    {
     "name": "stdout",
     "output_type": "stream",
     "text": [
      "enter the wordswithout,hello,bag,world\n"
     ]
    },
    {
     "data": {
      "text/plain": [
       "2        bag\n",
       "1      hello\n",
       "0    without\n",
       "3      world\n",
       "Name: 0, dtype: object"
      ]
     },
     "execution_count": 116,
     "metadata": {},
     "output_type": "execute_result"
    }
   ],
   "source": [
    "import pandas as pd\n",
    "w = input(\"enter the words\")\n",
    "w =w.split(',')\n",
    "w\n",
    "df =pd.DataFrame(w)\n",
    "df[0].sort_values (ascending =True)\n",
    "\n",
    "\n"
   ]
  },
  {
   "cell_type": "code",
   "execution_count": 148,
   "id": "aa759b08",
   "metadata": {},
   "outputs": [
    {
     "name": "stdout",
     "output_type": "stream",
     "text": [
      "enter the stringhello world and practice makes perfect and hello world again\n",
      "again and hello makes perfect practice world\n"
     ]
    }
   ],
   "source": [
    "a =input(\"enter the string\")\n",
    "a = a.split(\" \")\n",
    "b = set(a)\n",
    "b\n",
    "l = []\n",
    "for i in b:\n",
    "    l.append(i)\n",
    "l.sort()\n",
    "print((' ').join(l))\n",
    "\n"
   ]
  },
  {
   "cell_type": "code",
   "execution_count": 182,
   "id": "ff43a98c",
   "metadata": {},
   "outputs": [
    {
     "name": "stdout",
     "output_type": "stream",
     "text": [
      "enter the string: hello world! 123\n",
      "10 6\n"
     ]
    }
   ],
   "source": [
    "#method 1 \n",
    "\n",
    "t =input(\"enter the string: \" )\n",
    "count = 0\n",
    "numcount = 0\n",
    "\n",
    "for i in t:\n",
    "    if i.isalpha():\n",
    "        count = count +1\n",
    "    else:\n",
    "        numcount = numcount +1\n",
    "print(count,numcount)\n",
    "\n",
    "# method 2\n",
    "\n",
    "t =input(\"enter the string: \" )\n",
    "l= []\n",
    "count = 0\n",
    "numcount = 0\n",
    "for i in t:\n",
    "    l.append(i)\n",
    "l\n",
    "for j in l:\n",
    "    if j.isalpha():\n",
    "        count = count +1\n",
    "    else:\n",
    "        numcount = numcount +1\n",
    "print(count,numcount)\n",
    "        \n",
    "\n"
   ]
  },
  {
   "cell_type": "code",
   "execution_count": 23,
   "id": "119b731c",
   "metadata": {},
   "outputs": [
    {
     "name": "stdout",
     "output_type": "stream",
     "text": [
      "enter the password:  Passw@12\n",
      "Valid Password\n"
     ]
    }
   ],
   "source": [
    "l, u, p, d = 0, 0, 0, 0\n",
    "s = input(\"enter the password:  \")\n",
    "capitalalphabets=\"ABCDEFGHIJKLMNOPQRSTUVWXYZ\"\n",
    "smallalphabets=\"abcdefghijklmnopqrstuvwxyz\"\n",
    "specialchar=\"$#@\"\n",
    "digits=\"0123456789\"\n",
    "if (len(s) >= 8):\n",
    "  for i in s:\n",
    "\n",
    "    # counting lowercase alphabets\n",
    "    if (i in smallalphabets):\n",
    "      l+=1    \n",
    "\n",
    "    # counting uppercase alphabets\n",
    "    if (i in capitalalphabets):\n",
    "      u+=1    \n",
    "\n",
    "    # counting digits\n",
    "    if (i in digits):\n",
    "      d+=1    \n",
    "\n",
    "    # counting the mentioned special characters\n",
    "    if(i in specialchar):\n",
    "      p+=1  \n",
    "if (l>=1 and u>=1 and p>=1 and d>=1 and l+p+u+d==len(s)):\n",
    "  print(\"Valid Password\")\n",
    "else:\n",
    "  print(\"Invalid Password\")\n"
   ]
  },
  {
   "cell_type": "code",
   "execution_count": null,
   "id": "ea394e3f",
   "metadata": {},
   "outputs": [],
   "source": []
  },
  {
   "cell_type": "code",
   "execution_count": null,
   "id": "83d2b8f9",
   "metadata": {},
   "outputs": [],
   "source": []
  }
 ],
 "metadata": {
  "kernelspec": {
   "display_name": "Python 3 (ipykernel)",
   "language": "python",
   "name": "python3"
  },
  "language_info": {
   "codemirror_mode": {
    "name": "ipython",
    "version": 3
   },
   "file_extension": ".py",
   "mimetype": "text/x-python",
   "name": "python",
   "nbconvert_exporter": "python",
   "pygments_lexer": "ipython3",
   "version": "3.9.7"
  }
 },
 "nbformat": 4,
 "nbformat_minor": 5
}
