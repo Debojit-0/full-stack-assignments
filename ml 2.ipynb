{
 "cells": [
  {
   "cell_type": "code",
   "execution_count": 1,
   "id": "aab8dd95",
   "metadata": {},
   "outputs": [],
   "source": [
    "#1- Learning to drive a motor-car, typewriting, singing or memorizing a poem or a mathematical table, and music etc. need exercise and repetition of various movements and actions many times"
   ]
  },
  {
   "cell_type": "code",
   "execution_count": 2,
   "id": "8a6865d3",
   "metadata": {},
   "outputs": [],
   "source": [
    "#2- Machine learning involves showing a large volume of data to a machine so that it can learn and make predictions, find patterns, or classify data. The three machine learning types are supervised, unsupervised, and reinforcement learning."
   ]
  },
  {
   "cell_type": "code",
   "execution_count": 3,
   "id": "cacb3cc5",
   "metadata": {},
   "outputs": [],
   "source": [
    "#3- Machine Learning is an AI technique that teaches computers to learn from experience. Machine learning algorithms use computational methods to “learn” information directly from data without relying on a predetermined equation as a model. The algorithms adaptively improve their performance as the number of samples available for learning increases. Deep learning is a specialized form of machine learning"
   ]
  },
  {
   "cell_type": "code",
   "execution_count": 4,
   "id": "38c9fc52",
   "metadata": {},
   "outputs": [],
   "source": [
    "#4-means the Economic Development Penalty and Reward Regime referred to in paragraph 8 of this Schedule 7 (Economic Development Obligations);"
   ]
  },
  {
   "cell_type": "code",
   "execution_count": 5,
   "id": "e748324a",
   "metadata": {},
   "outputs": [],
   "source": [
    "#5-  Concept learning can be viewed as the task of searching through a large space of hypotheses implicitly defined by the hypothesis representation. • The goal of this search is to find the hypothesis that best fits the training examples"
   ]
  },
  {
   "cell_type": "code",
   "execution_count": 6,
   "id": "2b21268b",
   "metadata": {},
   "outputs": [],
   "source": [
    "#6- The goal of machine learning, closely coupled with the goal of AI, is to achieve a thorough understanding about the nature of learning process (both human learning and other forms of learning), about the computational aspects of learning behaviors, and to implant the learning capability in computer systems"
   ]
  },
  {
   "cell_type": "code",
   "execution_count": 7,
   "id": "db615273",
   "metadata": {},
   "outputs": [],
   "source": [
    "#7- image recognition,speech recognition,medical diagnostics,Statistical arbitrage,Predictive analytics,Extraction"
   ]
  },
  {
   "cell_type": "code",
   "execution_count": 9,
   "id": "af78e119",
   "metadata": {},
   "outputs": [],
   "source": [
    "#8-Making coffee with a coffee machine "
   ]
  },
  {
   "cell_type": "code",
   "execution_count": 11,
   "id": "a4afc688",
   "metadata": {},
   "outputs": [
    {
     "data": {
      "text/plain": [
       "\"Generalization refers to your model's ability to adapt properly to new, previously unseen data, drawn from the same distribution as the one used to create the model.\\nDetermine whether a model is good or not.\""
      ]
     },
     "execution_count": 11,
     "metadata": {},
     "output_type": "execute_result"
    }
   ],
   "source": [
    "#9- \n",
    "\"\"\"Generalization refers to your model's ability to adapt properly to new, previously unseen data, drawn from the same distribution as the one used to create the model.\n",
    "Determine whether a model is good or not.\"\"\""
   ]
  },
  {
   "cell_type": "code",
   "execution_count": 13,
   "id": "e40da7bb",
   "metadata": {},
   "outputs": [],
   "source": [
    "#10-  classification predicts discrete class labels.The most significant difference between regression vs classification is that while regression helps predict a continuous quantity, classification predicts discrete class labels."
   ]
  },
  {
   "cell_type": "code",
   "execution_count": 14,
   "id": "43147847",
   "metadata": {},
   "outputs": [
    {
     "data": {
      "text/plain": [
       "'eg - predicitng the stock price'"
      ]
     },
     "execution_count": 14,
     "metadata": {},
     "output_type": "execute_result"
    }
   ],
   "source": [
    "#11- Regression is a statistical method used in finance, investing, and other disciplines that attempts to determine the strength and character of the relationship between one dependent variable (usually denoted by Y) and a series of other variables (known as independent variables).\n",
    "\"\"\"eg - predicitng the stock price\"\"\""
   ]
  },
  {
   "cell_type": "code",
   "execution_count": 15,
   "id": "3806272c",
   "metadata": {},
   "outputs": [],
   "source": [
    "#12- Clustering is the task of dividing the population or data points into a number of groups such that data points in the same groups are more similar to other data points in the same group than those in other groups"
   ]
  },
  {
   "cell_type": "code",
   "execution_count": 16,
   "id": "2306db36",
   "metadata": {},
   "outputs": [],
   "source": [
    "#13- ii -supervised ml , iii un supervised ml"
   ]
  },
  {
   "cell_type": "code",
   "execution_count": null,
   "id": "2c0d475b",
   "metadata": {},
   "outputs": [],
   "source": []
  }
 ],
 "metadata": {
  "kernelspec": {
   "display_name": "Python 3 (ipykernel)",
   "language": "python",
   "name": "python3"
  },
  "language_info": {
   "codemirror_mode": {
    "name": "ipython",
    "version": 3
   },
   "file_extension": ".py",
   "mimetype": "text/x-python",
   "name": "python",
   "nbconvert_exporter": "python",
   "pygments_lexer": "ipython3",
   "version": "3.9.7"
  }
 },
 "nbformat": 4,
 "nbformat_minor": 5
}
