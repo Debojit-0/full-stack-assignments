{
 "cells": [
  {
   "cell_type": "code",
   "execution_count": 1,
   "id": "8008a2da",
   "metadata": {},
   "outputs": [
    {
     "name": "stdout",
     "output_type": "stream",
     "text": [
      "11\n"
     ]
    }
   ],
   "source": [
    "#1-\n",
    "#method 1\n",
    "arr = [1,2,3,5]\n",
    "sum1 = sum(arr) # we use sum function\n",
    "print(sum1)\n",
    "\n",
    "f"
   ]
  },
  {
   "cell_type": "code",
   "execution_count": 6,
   "id": "4d7b74cd",
   "metadata": {},
   "outputs": [
    {
     "name": "stdout",
     "output_type": "stream",
     "text": [
      "11\n"
     ]
    }
   ],
   "source": [
    "#method 2\n",
    "arr = [1,2,3,5]\n",
    "sum = 0\n",
    "for i in arr:\n",
    "    sum = sum +i\n",
    "print(sum)"
   ]
  },
  {
   "cell_type": "code",
   "execution_count": 20,
   "id": "9f4b16ef",
   "metadata": {},
   "outputs": [
    {
     "name": "stdout",
     "output_type": "stream",
     "text": [
      "5\n"
     ]
    }
   ],
   "source": [
    "#2- for max\n",
    "\n",
    "arr1= [1,20,3,5]\n",
    "max = arr1[0] \"\"\"lets asuume the first value or zeroth index as the max value despite it not being the max value and we will compare\n",
    "OTHER NUMBERS WITH IT\"\"\"\n",
    "for i in range(len(arr1)):\n",
    "    \n",
    "    if arr1[i]>max:\n",
    "        max = arr[i]\n",
    "        continue\n",
    "    \n",
    "        \n",
    "print(max)\n",
    "\n",
    "# for min\n",
    "\n",
    "arr1= [1,20,3,5]\n",
    "min = arr1[0] \n",
    "for i in range(len(arr1)):\n",
    "    \n",
    "    \n",
    "    if arr1[i]<min:\n",
    "        min = arr[i]\n",
    "print(min)\n",
    "        \n",
    "        "
   ]
  },
  {
   "cell_type": "code",
   "execution_count": 20,
   "id": "4b0a40de",
   "metadata": {},
   "outputs": [
    {
     "name": "stdout",
     "output_type": "stream",
     "text": [
      "[3, 4, 5, 6, 7, 1, 2]\n"
     ]
    }
   ],
   "source": [
    "def rotateArray(arr, n, d):\n",
    "    temp =[] #this part s to store the first 2 elements in the temp array  so that the fisrt 2 element m=can be moved to end\n",
    "    i = 0\n",
    "    while i<d:\n",
    "        temp.append(arr[i])\n",
    "        i = i+1\n",
    "    i =0\n",
    "    while d<n: # this part is to take the 2nd part of the array and move 2 space towards left \n",
    "        arr[i] = arr[d]\n",
    "        i = i+1\n",
    "        d = d+1\n",
    "        \n",
    "    arr = arr[:i] + temp #(this part will add the  2 arrays i.e temp which has the first  part \n",
    "    # and the modified arr which has the 2nd part of the array )\n",
    "    return arr\n",
    " \n",
    "\n",
    "\n",
    "\n",
    "\n",
    "\n",
    "\n",
    "arr = [1, 2, 3, 4, 5, 6, 7]\n",
    "\n",
    "print(rotateArray(arr, len(arr), 2))"
   ]
  },
  {
   "cell_type": "code",
   "execution_count": 14,
   "id": "14f9def4",
   "metadata": {},
   "outputs": [
    {
     "name": "stdout",
     "output_type": "stream",
     "text": [
      "5 6 52 36 12 10 "
     ]
    }
   ],
   "source": [
    "#4\n",
    "# function to split the array\n",
    "def splitArr(a, n, k):\n",
    "    \n",
    "    b = a[:k]\n",
    "#the below code is to add the spkitted array to the end\n",
    "    \n",
    "    return (a[k::]+b[::])\n",
    "    \n",
    "    \n",
    "   \n",
    "\n",
    "   \n",
    "#main body of the function\n",
    "arr = [12, 10, 5, 6, 52, 36]\n",
    "n = len(arr)\n",
    "position = 2\n",
    "arr = splitArr(arr, n, position)\n",
    "for i in range(0,n):\n",
    "    print(arr[i], end = ' ')\n",
    "    \n"
   ]
  },
  {
   "cell_type": "code",
   "execution_count": 24,
   "id": "aa0e6b0b",
   "metadata": {},
   "outputs": [
    {
     "name": "stdout",
     "output_type": "stream",
     "text": [
      "True\n"
     ]
    }
   ],
   "source": [
    "#5-\n",
    "def isMonotonic(A):\n",
    "  \n",
    "    return (all(A[i] <= A[i + 1] for i in range(len(A) - 1)) or\n",
    "            all(A[i] >= A[i + 1] for i in range(len(A) - 1)))\n",
    "A = [6, 5, 4, 3]\n",
    "print(isMonotonic(A))\n",
    "                                                "
   ]
  },
  {
   "cell_type": "code",
   "execution_count": null,
   "id": "dfbe52c7",
   "metadata": {},
   "outputs": [],
   "source": [
    "\n"
   ]
  }
 ],
 "metadata": {
  "kernelspec": {
   "display_name": "Python 3 (ipykernel)",
   "language": "python",
   "name": "python3"
  },
  "language_info": {
   "codemirror_mode": {
    "name": "ipython",
    "version": 3
   },
   "file_extension": ".py",
   "mimetype": "text/x-python",
   "name": "python",
   "nbconvert_exporter": "python",
   "pygments_lexer": "ipython3",
   "version": "3.9.7"
  }
 },
 "nbformat": 4,
 "nbformat_minor": 5
}
