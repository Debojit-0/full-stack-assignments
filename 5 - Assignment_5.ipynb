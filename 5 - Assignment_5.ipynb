{
 "cells": [
  {
   "cell_type": "code",
   "execution_count": 1,
   "id": "07a28d75",
   "metadata": {},
   "outputs": [],
   "source": [
    "#1- inheriting properties from parent class by a child class"
   ]
  },
  {
   "cell_type": "code",
   "execution_count": 2,
   "id": "34cec680",
   "metadata": {},
   "outputs": [
    {
     "data": {
      "text/plain": [
       "'the delegation pattern is an object-oriented design pattern that allows \\nobject composition to achieve the same code reuse as inheritance'"
      ]
     },
     "execution_count": 2,
     "metadata": {},
     "output_type": "execute_result"
    }
   ],
   "source": [
    "#2- \n",
    "\"\"\"the delegation pattern is an object-oriented design pattern that allows \n",
    "object composition to achieve the same code reuse as inheritance\"\"\""
   ]
  },
  {
   "cell_type": "code",
   "execution_count": 1,
   "id": "c0a1fd64",
   "metadata": {},
   "outputs": [
    {
     "data": {
      "text/plain": [
       "'Composition is a concept that models a has a relationship. \\nIt enables creating complex types by combining objects of other types. \\nThis means that a class Composite can contain an object of another class Component. \\nThis relationship means that a Composite has a Component'"
      ]
     },
     "execution_count": 1,
     "metadata": {},
     "output_type": "execute_result"
    }
   ],
   "source": [
    "#3-\n",
    "\"\"\"Composition is a concept that models a has a relationship. \n",
    "It enables creating complex types by combining objects of other types. \n",
    "This means that a class Composite can contain an object of another class Component. \n",
    "This relationship means that a Composite has a Component\"\"\""
   ]
  },
  {
   "cell_type": "code",
   "execution_count": 2,
   "id": "18178410",
   "metadata": {},
   "outputs": [
    {
     "data": {
      "text/plain": [
       "'A bound method is the one which is dependent on the instance of the class as the first argument.\\nIt passes the instance as the first argument which is used to access the variables and functions. \\nIn Python 3 and newer versions of python,\\nall functions in the class are by default bound methods. eg - self is a bound method'"
      ]
     },
     "execution_count": 2,
     "metadata": {},
     "output_type": "execute_result"
    }
   ],
   "source": [
    "#4-\n",
    "\"\"\"A bound method is the one which is dependent on the instance of the class as the first argument.\n",
    "It passes the instance as the first argument which is used to access the variables and functions. \n",
    "In Python 3 and newer versions of python,\n",
    "all functions in the class are by default bound methods. eg - self is a bound method\"\"\""
   ]
  },
  {
   "cell_type": "code",
   "execution_count": null,
   "id": "b1b56867",
   "metadata": {},
   "outputs": [],
   "source": [
    "#5-\n",
    "\"\"\"its just a naming concention as u dont hav the concept of public,private and protected in python unlike other languages\n",
    "hence we use the naming convention as single underscore(_) for  protected variables and double underscore (__) for private variables\n",
    "they are just used as notation to replicate these concepts from other languages\""
   ]
  }
 ],
 "metadata": {
  "kernelspec": {
   "display_name": "Python 3 (ipykernel)",
   "language": "python",
   "name": "python3"
  },
  "language_info": {
   "codemirror_mode": {
    "name": "ipython",
    "version": 3
   },
   "file_extension": ".py",
   "mimetype": "text/x-python",
   "name": "python",
   "nbconvert_exporter": "python",
   "pygments_lexer": "ipython3",
   "version": "3.9.7"
  }
 },
 "nbformat": 4,
 "nbformat_minor": 5
}
