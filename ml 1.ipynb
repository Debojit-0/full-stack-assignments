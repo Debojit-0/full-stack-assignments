{
 "cells": [
  {
   "cell_type": "code",
   "execution_count": 1,
   "id": "d1af8661",
   "metadata": {},
   "outputs": [
    {
     "data": {
      "text/plain": [
       "'Machine learning is a method of data analysis that automates analytical model building. \\nIt is a branch of artificial intelligence based on the idea that systems can learn from data, \\nidentify patterns and make decisions with minimal human intervention.'"
      ]
     },
     "execution_count": 1,
     "metadata": {},
     "output_type": "execute_result"
    }
   ],
   "source": [
    "#1- \n",
    "\"\"\"Machine learning is a method of data analysis that automates analytical model building. \n",
    "It is a branch of artificial intelligence based on the idea that systems can learn from data, \n",
    "identify patterns and make decisions with minimal human intervention.\"\"\""
   ]
  },
  {
   "cell_type": "code",
   "execution_count": 2,
   "id": "b8c81e79",
   "metadata": {},
   "outputs": [
    {
     "data": {
      "text/plain": [
       "' medical, finace,robotics,education'"
      ]
     },
     "execution_count": 2,
     "metadata": {},
     "output_type": "execute_result"
    }
   ],
   "source": [
    "#2-\n",
    "\"\"\" medical, finace,robotics,education\"\"\""
   ]
  },
  {
   "cell_type": "code",
   "execution_count": 3,
   "id": "4d2b527a",
   "metadata": {},
   "outputs": [
    {
     "data": {
      "text/plain": [
       "'The training set is used to train the algorithm, and then you use the trained model\\non the test set to predict the response variable values that are already known. \\nThe final step is to compare the predicted responses against the actual (observed)\\nresponses to see how close they are.'"
      ]
     },
     "execution_count": 3,
     "metadata": {},
     "output_type": "execute_result"
    }
   ],
   "source": [
    "#3-\n",
    "\"\"\"The training set is used to train the algorithm, and then you use the trained model\n",
    "on the test set to predict the response variable values that are already known. \n",
    "The final step is to compare the predicted responses against the actual (observed)\n",
    "responses to see how close they are.\"\"\""
   ]
  },
  {
   "cell_type": "code",
   "execution_count": 4,
   "id": "5a81b756",
   "metadata": {},
   "outputs": [],
   "source": [
    "#4- regression and classification\n"
   ]
  },
  {
   "cell_type": "code",
   "execution_count": 5,
   "id": "b3c93083",
   "metadata": {},
   "outputs": [],
   "source": [
    "#5- Common unsupervised tasks include clustering, visualization, dimensionality reduction, and association rule learning."
   ]
  },
  {
   "cell_type": "code",
   "execution_count": 6,
   "id": "647b8be2",
   "metadata": {},
   "outputs": [],
   "source": [
    "#6- The best Machine Learning algorithm to allow a robot to walk in unknown terrain is Reinforced Learning"
   ]
  },
  {
   "cell_type": "code",
   "execution_count": 7,
   "id": "2f2f02c9",
   "metadata": {},
   "outputs": [],
   "source": [
    "#7- clustering"
   ]
  },
  {
   "cell_type": "code",
   "execution_count": 8,
   "id": "c9f8bdbf",
   "metadata": {},
   "outputs": [],
   "source": [
    "#8- supervised"
   ]
  },
  {
   "cell_type": "code",
   "execution_count": 11,
   "id": "04381b08",
   "metadata": {},
   "outputs": [],
   "source": [
    "#9 - tarinign the model"
   ]
  },
  {
   "cell_type": "code",
   "execution_count": 9,
   "id": "fe82b04e",
   "metadata": {},
   "outputs": [
    {
     "data": {
      "text/plain": [
       "' core learing is basiocally u can fit into a memory'"
      ]
     },
     "execution_count": 9,
     "metadata": {},
     "output_type": "execute_result"
    }
   ],
   "source": [
    "#10- \n",
    "\"\"\"Out-of-core learning refers to a set of algorithms working with data that cannot fit into \n",
    "the memory of a single computer, but that can easily fit into \n",
    "some data storage such as a local hard disk or web repository.\"\"\"\n",
    "\n",
    "\"\"\" core learing is basiocally u can fit into a memory\"\"\""
   ]
  },
  {
   "cell_type": "code",
   "execution_count": 13,
   "id": "a8941670",
   "metadata": {},
   "outputs": [],
   "source": [
    "#11- Online learning system is a learning system in which the machine learns as data is given in small streams continuously"
   ]
  },
  {
   "cell_type": "code",
   "execution_count": 14,
   "id": "daafa67e",
   "metadata": {},
   "outputs": [],
   "source": [
    "#12-  model parameters are estimated from data automatically and model hyperparameters are set manually and are used in processes to help estimate model parameters."
   ]
  },
  {
   "cell_type": "code",
   "execution_count": 15,
   "id": "63ac8a3f",
   "metadata": {},
   "outputs": [],
   "source": [
    "#13- Model based learning algorithm search for the optimal value of parameters in a model that will give the best results for the new instances. We often use a cost function or similar to determine what the parameter value has to be in order to minimize the function."
   ]
  },
  {
   "cell_type": "code",
   "execution_count": 16,
   "id": "db47d28a",
   "metadata": {},
   "outputs": [],
   "source": [
    "#14- Four main challenges in Machine Learning include overfitting the data (using a model too complicated), underfitting the data (using a simple model), lacking in data and nonrepresentative data."
   ]
  },
  {
   "cell_type": "code",
   "execution_count": 17,
   "id": "20a22984",
   "metadata": {},
   "outputs": [],
   "source": [
    "#15- If the model performs poorly to new instances, then it has overfit on the training data. To solve this, we can do any of the following three: get more data, implement a simpler model, or eliminate outliers or noise from the existing data se"
   ]
  },
  {
   "cell_type": "code",
   "execution_count": 18,
   "id": "3ce4fe42",
   "metadata": {},
   "outputs": [],
   "source": [
    "#16-Test set is a set that you test your model (fit using training data) to see how it performs. Test set is necessary so that you can determine how good (or bad) your model performs."
   ]
  },
  {
   "cell_type": "code",
   "execution_count": 19,
   "id": "2a14c41d",
   "metadata": {},
   "outputs": [],
   "source": [
    "#17 Validation set is a set used to compare between different training models."
   ]
  },
  {
   "cell_type": "code",
   "execution_count": 20,
   "id": "f0ddac17",
   "metadata": {},
   "outputs": [],
   "source": [
    "#18- The goal of dev-set is to rank the models in term of their accuracy and helps us decide which model to proceed further with. Using Dev set we rank all our models in terms of their accuracy and pick the best performing mode"
   ]
  },
  {
   "cell_type": "code",
   "execution_count": 21,
   "id": "cbf45b6e",
   "metadata": {},
   "outputs": [],
   "source": [
    "#19- If you tune hyperparameters using the test sets, then it may not perform well on the out-of-sample data because the model is tuned just for that specific set."
   ]
  },
  {
   "cell_type": "code",
   "execution_count": null,
   "id": "995f7b1a",
   "metadata": {},
   "outputs": [],
   "source": []
  }
 ],
 "metadata": {
  "kernelspec": {
   "display_name": "Python 3 (ipykernel)",
   "language": "python",
   "name": "python3"
  },
  "language_info": {
   "codemirror_mode": {
    "name": "ipython",
    "version": 3
   },
   "file_extension": ".py",
   "mimetype": "text/x-python",
   "name": "python",
   "nbconvert_exporter": "python",
   "pygments_lexer": "ipython3",
   "version": "3.9.7"
  }
 },
 "nbformat": 4,
 "nbformat_minor": 5
}
