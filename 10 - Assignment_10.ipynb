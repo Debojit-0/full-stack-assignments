{
 "cells": [
  {
   "cell_type": "code",
   "execution_count": 1,
   "id": "2483109e",
   "metadata": {},
   "outputs": [
    {
     "data": {
      "text/plain": [
       "\"difference between __getattr__ and __getattribute__ is that __getattr__ is only invoked if the attribute wasn't found the usual ways. It's good for implementing a fallback for missing attributes, and is probably the one of two you want.\\n\\n__getattribute__ is invoked before looking at the actual attributes on the object, and so can be tricky to implement correctly. You can end up in infinite recursions very easily.\\n\\nNew-style classes derive from object, old-style classes are those in Python 2.x with no explicit base class. But the distinction between old-style and new-style classes is not the important one when choosing between __getattr__ and __getattribute__\""
      ]
     },
     "execution_count": 1,
     "metadata": {},
     "output_type": "execute_result"
    }
   ],
   "source": [
    "#1-\n",
    "\"\"\"difference between __getattr__ and __getattribute__ is that __getattr__ is only invoked if the attribute wasn't found the usual ways. It's good for implementing a fallback for missing attributes, and is probably the one of two you want.\n",
    "\n",
    "__getattribute__ is invoked before looking at the actual attributes on the object, and so can be tricky to implement correctly. You can end up in infinite recursions very easily.\n",
    "\n",
    "New-style classes derive from object, old-style classes are those in Python 2.x with no explicit base class. But the distinction between old-style and new-style classes is not the important one when choosing between __getattr__ and __getattribute__\"\"\"\n"
   ]
  },
  {
   "cell_type": "code",
   "execution_count": 2,
   "id": "75600d38",
   "metadata": {},
   "outputs": [
    {
     "data": {
      "text/plain": [
       "\"escriptors are a low-level mechanism that lets you hook into an object's attributes being accessed. \\nProperties are a high-level application of this; that is, properties are implemented using descriptors. Or, \\nbetter yet, properties are descriptors \\nthat are already provided for you in the standard library.\""
      ]
     },
     "execution_count": 2,
     "metadata": {},
     "output_type": "execute_result"
    }
   ],
   "source": [
    "#2-\n",
    "\"\"\"descriptors are a low-level mechanism that lets you hook into an object's attributes being accessed. \n",
    "Properties are a high-level application of this; that is, properties are implemented using descriptors. Or, \n",
    "better yet, properties are descriptors \n",
    "that are already provided for you in the standard library.\"\"\""
   ]
  },
  {
   "cell_type": "code",
   "execution_count": 3,
   "id": "3f948131",
   "metadata": {},
   "outputs": [
    {
     "data": {
      "text/plain": [
       "\"descriptors are a low-level mechanism that lets you hook into an object's attributes being accessed. \\nProperties are a high-level application of this; that is, properties are implemented using descriptors. Or, \\nbetter yet, properties are descriptors \\nthat are already provided for you in the standard library.\""
      ]
     },
     "execution_count": 3,
     "metadata": {},
     "output_type": "execute_result"
    }
   ],
   "source": [
    "#3-\n",
    "\"\"\"difference between __getattr__ and __getattribute__ is that __getattr__ is only invoked if the attribute wasn't found the usual ways. It's good for implementing a fallback for missing attributes, and is probably the one of two you want.\n",
    "\n",
    "__getattribute__ is invoked before looking at the actual attributes on the object, and so can be tricky to implement correctly. You can end up in infinite recursions very easily.\n",
    "\n",
    "New-style classes derive from object, old-style classes are those in Python 2.x with no explicit base class. But the distinction between old-style and new-style classes is not the important one when choosing between __getattr__ and __getattribute__\"\"\"\n",
    "\n",
    "\"\"\"descriptors are a low-level mechanism that lets you hook into an object's attributes being accessed. \n",
    "Properties are a high-level application of this; that is, properties are implemented using descriptors. Or, \n",
    "better yet, properties are descriptors \n",
    "that are already provided for you in the standard library.\"\"\"\n",
    "\n"
   ]
  },
  {
   "cell_type": "code",
   "execution_count": null,
   "id": "6f8ec6d5",
   "metadata": {},
   "outputs": [],
   "source": []
  }
 ],
 "metadata": {
  "kernelspec": {
   "display_name": "Python 3 (ipykernel)",
   "language": "python",
   "name": "python3"
  },
  "language_info": {
   "codemirror_mode": {
    "name": "ipython",
    "version": 3
   },
   "file_extension": ".py",
   "mimetype": "text/x-python",
   "name": "python",
   "nbconvert_exporter": "python",
   "pygments_lexer": "ipython3",
   "version": "3.9.7"
  }
 },
 "nbformat": 4,
 "nbformat_minor": 5
}
