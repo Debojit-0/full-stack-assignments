{
 "cells": [
  {
   "cell_type": "code",
   "execution_count": 3,
   "id": "f48f55f9",
   "metadata": {},
   "outputs": [
    {
     "name": "stdout",
     "output_type": "stream",
     "text": [
      "1 2 8\n"
     ]
    }
   ],
   "source": [
    "#1-\n",
    "def func(a, b=6, c=8):\n",
    "    print(a, b, c)\n",
    "func(1, 2)\n",
    "\n",
    "#the o/p is 1,2,8 #note - func(1,2) will be a ,b and b = 6 will be overwriten by b = 2 which we passed .since c is not passed the variable c= 8 will be taken by default\n",
    "    "
   ]
  },
  {
   "cell_type": "code",
   "execution_count": 4,
   "id": "974ecfd5",
   "metadata": {},
   "outputs": [
    {
     "name": "stdout",
     "output_type": "stream",
     "text": [
      "1 2 3\n"
     ]
    }
   ],
   "source": [
    "#2-\n",
    "def func(a, b, c=5):\n",
    "    print(a, b, c)\n",
    "func(1, c=3, b=2)\n",
    "\n",
    "# the o/p is 1,2,3"
   ]
  },
  {
   "cell_type": "code",
   "execution_count": 5,
   "id": "4c4b1a21",
   "metadata": {},
   "outputs": [
    {
     "name": "stdout",
     "output_type": "stream",
     "text": [
      "1 (2, 3)\n"
     ]
    }
   ],
   "source": [
    "#3-\n",
    "def func(a, *pargs):\n",
    "    print(a, pargs)\n",
    "func(1, 2, 3)\n",
    "#note - kargs can be of any name u can put debo as well but u need to put * at the begining eg -*debo\n",
    "# kargs or args return a tuple\n",
    "\"\"\"a single astrix takes into account non key word arguments  for eg 10,20.\n",
    "but if u pass like dictonary say a key word argument i.e a=10 ,b=10 it will throw an error in that case we use ** insted of * \n",
    "and u can pass key vlaue pair\"\"\"\n",
    "#note - ** kargs always returns a dictonary insted of tuple\n",
    "\n",
    "# the o/p is 1,(2,3)"
   ]
  },
  {
   "cell_type": "code",
   "execution_count": 15,
   "id": "f8578ed3",
   "metadata": {},
   "outputs": [
    {
     "name": "stdout",
     "output_type": "stream",
     "text": [
      "1 {'c': 3, 'b': 2}\n"
     ]
    }
   ],
   "source": [
    "#4-\n",
    "def func(a, **kargs):\n",
    "    print(a, kargs)\n",
    "func(a=1, c=3, b=2)\n",
    "# the o/p is 1,{'c': 3, 'b': 2}"
   ]
  },
  {
   "cell_type": "code",
   "execution_count": 16,
   "id": "637da632",
   "metadata": {},
   "outputs": [
    {
     "name": "stdout",
     "output_type": "stream",
     "text": [
      "1 5 6 5\n"
     ]
    }
   ],
   "source": [
    "#5-\n",
    "def func(a, b, c=8, d=5):\n",
    "    print(a, b, c, d)\n",
    "func(1, *(5, 6))"
   ]
  },
  {
   "cell_type": "code",
   "execution_count": 4,
   "id": "81eb3879",
   "metadata": {},
   "outputs": [
    {
     "name": "stdout",
     "output_type": "stream",
     "text": [
      "None\n"
     ]
    },
    {
     "data": {
      "text/plain": [
       "(1, ['x'], {'a': 'y'})"
      ]
     },
     "execution_count": 4,
     "metadata": {},
     "output_type": "execute_result"
    }
   ],
   "source": [
    "def func(a, b, c):\n",
    "    a = 2; b[0] ='x';c['a'] = 'y'\n",
    "   \n",
    "    \n",
    "   \n",
    "    \n",
    "l=1; m=[1];n={'a':0}\n",
    "print(func(l, m, n))\n",
    "l, m, n\n",
    "\n",
    "#note the o/p here is 1 ,['x'],{\"a\":\"y\"} for knowing the concept refer - https://github.com/yongtwang/engineering-python/blob/master/08B_Memory_Management_and_In-Place_Parameter_Modification/08B_Memory_Management_and_In-Place_Parameter_Modification.ipynb\n"
   ]
  },
  {
   "cell_type": "code",
   "execution_count": null,
   "id": "6081c660",
   "metadata": {},
   "outputs": [],
   "source": []
  },
  {
   "cell_type": "code",
   "execution_count": null,
   "id": "2fc57805",
   "metadata": {},
   "outputs": [],
   "source": []
  }
 ],
 "metadata": {
  "kernelspec": {
   "display_name": "Python 3 (ipykernel)",
   "language": "python",
   "name": "python3"
  },
  "language_info": {
   "codemirror_mode": {
    "name": "ipython",
    "version": 3
   },
   "file_extension": ".py",
   "mimetype": "text/x-python",
   "name": "python",
   "nbconvert_exporter": "python",
   "pygments_lexer": "ipython3",
   "version": "3.9.7"
  }
 },
 "nbformat": 4,
 "nbformat_minor": 5
}
