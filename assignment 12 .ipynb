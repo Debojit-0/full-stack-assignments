{
 "cells": [
  {
   "cell_type": "code",
   "execution_count": 2,
   "id": "a44648fe",
   "metadata": {},
   "outputs": [],
   "source": [
    "#1 - read binary (rb) for PdfFileREader() and write binary (wb) PdfFileWriter()"
   ]
  },
  {
   "cell_type": "code",
   "execution_count": 4,
   "id": "5c11bee0",
   "metadata": {},
   "outputs": [
    {
     "data": {
      "text/plain": [
       "'2 -  use the command getpage(5)\\nimport PyPDF2 as pdf\\npdfFileObj = open(\"cardealer.pdf\",\\'rb\\')\\npdfReader = pdf.PdfFileReader(pdfFileObj)\\npageObj = pdfReader.getPage(4)\\npageObj.extractText()'"
      ]
     },
     "execution_count": 4,
     "metadata": {},
     "output_type": "execute_result"
    }
   ],
   "source": [
    "\"\"\"2 -  use the command getpage(5)\n",
    "import PyPDF2 as pdf\n",
    "pdfFileObj = open(\"pdfname.pdf\",'rb')\n",
    "pdfReader = pdf.PdfFileReader(pdfFileObj)\n",
    "pageObj = pdfReader.getPage(4)\n",
    "pageObj.extractText()\"\"\""
   ]
  },
  {
   "cell_type": "code",
   "execution_count": 5,
   "id": "760b6198",
   "metadata": {},
   "outputs": [
    {
     "data": {
      "text/plain": [
       "'3 - use the command pdfReader.numPages\\neg- \\nimport PyPDF2 as pdf\\npdfFileObj = open(\"pdfname.pdf\",\\'rb\\')\\npdfReader = pdf.PdfFileReader(pdfFileObj)\\npdfReader.numPage '"
      ]
     },
     "execution_count": 5,
     "metadata": {},
     "output_type": "execute_result"
    }
   ],
   "source": [
    "\"\"\"3 - use the command pdfReader.numPages\n",
    "eg- \n",
    "import PyPDF2 as pdf\n",
    "pdfFileObj = open(\"pdfname.pdf\",'rb')\n",
    "pdfReader = pdf.PdfFileReader(pdfFileObj)\n",
    "pdfReader.numPage \"\"\""
   ]
  },
  {
   "cell_type": "code",
   "execution_count": 6,
   "id": "a4de7485",
   "metadata": {},
   "outputs": [],
   "source": [
    "#4 - the pdf has to be decrypted by calling .decrypt('swordfish')"
   ]
  },
  {
   "cell_type": "code",
   "execution_count": 7,
   "id": "af15f162",
   "metadata": {},
   "outputs": [],
   "source": [
    "#5- #The rotateClockwise() and rotateCounterClockwise() methods. The degrees to rotate is passed as an integer argument\n",
    "#eg - pageObj.rotateClockwise(180)"
   ]
  },
  {
   "cell_type": "code",
   "execution_count": 8,
   "id": "8d2fe71b",
   "metadata": {},
   "outputs": [],
   "source": [
    "#6- Paragraph Object : A document contains multiple paragraphs. A paragraph begins on a new line and contains multiple runs. The Document object contains a list of Paragraph objects for the paragraphs in the document. (A new paragraph begins whenever the user presses ENTER or RETURN while typing in a Word document.)\n",
    "#Run Objects : Runs are contiguous groups of characters within a paragraph with the same style"
   ]
  },
  {
   "cell_type": "code",
   "execution_count": 11,
   "id": "d1f9d0fa",
   "metadata": {},
   "outputs": [
    {
     "name": "stdout",
     "output_type": "stream",
     "text": [
      "Requirement already satisfied: python-docx in c:\\users\\deboj\\anaconda3\\lib\\site-packages (0.8.11)\n",
      "Requirement already satisfied: lxml>=2.3.2 in c:\\users\\deboj\\anaconda3\\lib\\site-packages (from python-docx) (4.6.3)\n"
     ]
    }
   ],
   "source": [
    "#7-\n",
    "\n",
    "!pip install python-docx\n"
   ]
  },
  {
   "cell_type": "code",
   "execution_count": 22,
   "id": "ac72bc59",
   "metadata": {},
   "outputs": [
    {
     "data": {
      "text/plain": [
       "\"import docx\\ndoc = docx.Document('filename.docx')\\ndoc.paragraphs\""
      ]
     },
     "execution_count": 22,
     "metadata": {},
     "output_type": "execute_result"
    }
   ],
   "source": [
    "\"\"\"import docx\n",
    "doc = docx.Document('filename.docx')\n",
    "doc.paragraphs\"\"\"\n"
   ]
  },
  {
   "cell_type": "code",
   "execution_count": 23,
   "id": "8724b7f3",
   "metadata": {},
   "outputs": [],
   "source": [
    "#8- A Run object has bold, underline,italic,strike and outline variables"
   ]
  },
  {
   "cell_type": "code",
   "execution_count": 24,
   "id": "3f8ce021",
   "metadata": {},
   "outputs": [],
   "source": [
    "#9- True always makes the Run object bolded and False makes it always not bolded. None will make the Run object just use the style’s bold setting"
   ]
  },
  {
   "cell_type": "code",
   "execution_count": 25,
   "id": "04de0a31",
   "metadata": {},
   "outputs": [],
   "source": [
    "#10-By Calling the docx.Document() function."
   ]
  },
  {
   "cell_type": "code",
   "execution_count": 26,
   "id": "26e9c08b",
   "metadata": {},
   "outputs": [],
   "source": [
    "#11 - \n",
    "import docx\n",
    "doc = docx.Document()\n",
    "\n",
    "doc.add_paragraph('Hello there!')\n",
    "doc.save('hellothere.docx')"
   ]
  },
  {
   "cell_type": "code",
   "execution_count": 27,
   "id": "52454c88",
   "metadata": {},
   "outputs": [
    {
     "data": {
      "text/plain": [
       "' integer from 0 to 4\\nThe integer 0 makes the heading the Title style, which is used for the top of the document. Integers 1 to 4 are for various heading levels, with 1 being the main heading and 4 the lowest subheading'"
      ]
     },
     "execution_count": 27,
     "metadata": {},
     "output_type": "execute_result"
    }
   ],
   "source": [
    "#12\n",
    "\"\"\" integer from 0 to 4\n",
    "The integer 0 makes the heading the Title style, which is used for the top of the document. Integers 1 to 4 are for various heading levels, with 1 being the main heading and 4 the lowest subheading\"\"\""
   ]
  },
  {
   "cell_type": "code",
   "execution_count": null,
   "id": "27961088",
   "metadata": {},
   "outputs": [],
   "source": []
  }
 ],
 "metadata": {
  "kernelspec": {
   "display_name": "Python 3 (ipykernel)",
   "language": "python",
   "name": "python3"
  },
  "language_info": {
   "codemirror_mode": {
    "name": "ipython",
    "version": 3
   },
   "file_extension": ".py",
   "mimetype": "text/x-python",
   "name": "python",
   "nbconvert_exporter": "python",
   "pygments_lexer": "ipython3",
   "version": "3.9.7"
  }
 },
 "nbformat": 4,
 "nbformat_minor": 5
}
