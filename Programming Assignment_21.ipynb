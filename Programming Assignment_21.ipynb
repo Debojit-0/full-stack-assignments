{
 "cells": [
  {
   "cell_type": "code",
   "execution_count": 120,
   "id": "fadcfb5a",
   "metadata": {},
   "outputs": [
    {
     "data": {
      "text/plain": [
       "[6, 7, 8, 9, 1]"
      ]
     },
     "execution_count": 120,
     "metadata": {},
     "output_type": "execute_result"
    }
   ],
   "source": [
    "#1-\n",
    "def next_in_line(t):\n",
    "    for i in t[0]:\n",
    "        \n",
    "        l.append(i)\n",
    "    for j in t:\n",
    "        \n",
    "        if type(j) != list:\n",
    "            \n",
    "            p.append(j)\n",
    "    r.append(l)\n",
    "    r.append(p)\n",
    "    for a in r:\n",
    "        for b in a:\n",
    "            \n",
    "            q.append(b)\n",
    "l=[]\n",
    "p=[]\n",
    "r=[]\n",
    "q=[]\n",
    "t= ([5, 6, 7, 8, 9], 1)\n",
    "t = list(t)\n",
    "t\n",
    "next_in_line(t)   \n",
    "c = q.pop(0)\n",
    "q"
   ]
  },
  {
   "cell_type": "code",
   "execution_count": 188,
   "id": "ef64b70a",
   "metadata": {},
   "outputs": [
    {
     "data": {
      "text/plain": [
       "65700"
      ]
     },
     "execution_count": 188,
     "metadata": {},
     "output_type": "execute_result"
    }
   ],
   "source": [
    "#2-\n",
    "get_budgets= ([\n",
    "{\"name\":\"John\", \"age\": 21, \"budget\": 23000 },\n",
    "{ \"name\":\"Steve\",\"age\": 32, \"budget\": 40000 },\n",
    "{ \"name\": \"Martin\",\"age\": 16, \"budget\": 2700 }\n",
    "]) \n",
    "def s(get_budgets):\n",
    "    global sum\n",
    "    global m\n",
    "    global l\n",
    "    \n",
    "    for i in get_budgets:\n",
    "        for j in i.values():\n",
    "            l.append(j)\n",
    "    for j in l:\n",
    "        if type(j) == int:\n",
    "            m.append(j)\n",
    "    for k in m:\n",
    "        if k>1000:\n",
    "            n.append(k)\n",
    "   \n",
    "    for o in n:\n",
    "        sum = sum + o\n",
    "    return sum\n",
    "l=[]\n",
    "m=[]\n",
    "n=[]\n",
    "sum =0  \n",
    "a = s(get_budgets)\n",
    "sum"
   ]
  },
  {
   "cell_type": "code",
   "execution_count": 9,
   "id": "53841019",
   "metadata": {},
   "outputs": [
    {
     "name": "stdout",
     "output_type": "stream",
     "text": [
      "enter the stringhello\n"
     ]
    },
    {
     "data": {
      "text/plain": [
       "'ehllo'"
      ]
     },
     "execution_count": 9,
     "metadata": {},
     "output_type": "execute_result"
    }
   ],
   "source": [
    "#3-\n",
    "def asc(a):\n",
    "    \n",
    "   \n",
    "    for i in a :\n",
    "        \n",
    "        l.append(i)\n",
    "    l.sort()\n",
    "    x=''\n",
    "    b=x.join(l)\n",
    "    return b\n",
    "    \n",
    "l=[]\n",
    "a =input(\"enter the string\")\n",
    "asc(a)\n",
    "       \n",
    "       \n",
    "\n"
   ]
  },
  {
   "cell_type": "code",
   "execution_count": 12,
   "id": "4c8691dc",
   "metadata": {},
   "outputs": [
    {
     "data": {
      "text/plain": [
       "7908.476965428545"
      ]
     },
     "execution_count": 12,
     "metadata": {},
     "output_type": "execute_result"
    }
   ],
   "source": [
    "#4-\n",
    "def compound_interest(p, r, t):\n",
    " \n",
    "\n",
    "    Amount = p * (pow((1 + r/100), t))\n",
    "    CI = Amount - p\n",
    "    return CI\n",
    " \n",
    " \n",
    "\n",
    "compound_interest(10000, 6, 10)"
   ]
  },
  {
   "cell_type": "code",
   "execution_count": 14,
   "id": "b20aa99c",
   "metadata": {},
   "outputs": [
    {
     "data": {
      "text/plain": [
       "[2, 50, 6, 25]"
      ]
     },
     "execution_count": 14,
     "metadata": {},
     "output_type": "execute_result"
    }
   ],
   "source": [
    "#5-\n",
    "def inte(l):\n",
    "    for i in l:\n",
    "        if type(i) == int:\n",
    "            k.append(i)\n",
    "    return k\n",
    "l = [2,50,6,\"de\",\"a\",25,\"hoi\"]\n",
    "k=[]\n",
    "inte(l)"
   ]
  },
  {
   "cell_type": "code",
   "execution_count": null,
   "id": "ad7f6ea6",
   "metadata": {},
   "outputs": [],
   "source": []
  }
 ],
 "metadata": {
  "kernelspec": {
   "display_name": "Python 3 (ipykernel)",
   "language": "python",
   "name": "python3"
  },
  "language_info": {
   "codemirror_mode": {
    "name": "ipython",
    "version": 3
   },
   "file_extension": ".py",
   "mimetype": "text/x-python",
   "name": "python",
   "nbconvert_exporter": "python",
   "pygments_lexer": "ipython3",
   "version": "3.9.7"
  }
 },
 "nbformat": 4,
 "nbformat_minor": 5
}
