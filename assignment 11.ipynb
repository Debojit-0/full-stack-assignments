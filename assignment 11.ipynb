{
 "cells": [
  {
   "cell_type": "code",
   "execution_count": 6,
   "id": "e5888d35",
   "metadata": {},
   "outputs": [
    {
     "name": "stdout",
     "output_type": "stream",
     "text": [
      "enter the number10\n",
      "positive\n"
     ]
    }
   ],
   "source": [
    "#1 - Assertion statement is used mostly for logical expresion i.e it checks wether the statement is true or false.\n",
    "\"\"\"\"syntax is \n",
    "\n",
    "try:\n",
    "    assert condition\n",
    "except AssertionError:\"\"\"\n",
    "    \n",
    "\n",
    "\n",
    "\n",
    "spam = int(input(\"enter the number\"))\n",
    "try:\n",
    "    assert spam>=0\n",
    "    print(\"positive\")\n",
    "except AssertionError:\n",
    "    print(\"not positive\")\n",
    "\n",
    "\n",
    "     \n",
    "       \n",
    "       \n",
    " \n",
    "\n",
    "    "
   ]
  },
  {
   "cell_type": "code",
   "execution_count": 8,
   "id": "79603762",
   "metadata": {},
   "outputs": [
    {
     "name": "stdout",
     "output_type": "stream",
     "text": [
      "enter the stringeggs\n",
      "enter the stringbac\n",
      "not same\n"
     ]
    }
   ],
   "source": [
    "#2- \n",
    "\n",
    "eggs = input(\"enter the string\")\n",
    "bacon = input(\"enter the string\")\n",
    "\n",
    "try:\n",
    "    assert eggs.lower()==bacon.lower()\n",
    "    print(\"they are same\")\n",
    "except AssertionError:\n",
    "    print(\"not same\")"
   ]
  },
  {
   "cell_type": "code",
   "execution_count": 11,
   "id": "2ff11381",
   "metadata": {},
   "outputs": [
    {
     "name": "stdout",
     "output_type": "stream",
     "text": [
      "AsserttionError\n"
     ]
    }
   ],
   "source": [
    "#3 \n",
    "s = 1\n",
    "try:\n",
    "    assert s>2\n",
    "except AssertionError:\n",
    "    print(\"AsserttionError\")"
   ]
  },
  {
   "cell_type": "code",
   "execution_count": 13,
   "id": "5943afdf",
   "metadata": {},
   "outputs": [
    {
     "data": {
      "text/plain": [
       "\"import logging\\nlogging.basicConfig(level=logging.DEBUG, format=' %(asctime)s -%(levelname)s - %(message)s')\""
      ]
     },
     "execution_count": 13,
     "metadata": {},
     "output_type": "execute_result"
    }
   ],
   "source": [
    "#4-\n",
    "\n",
    "\"\"\"import logging\n",
    "logging.basicConfig(level=logging.DEBUG, format=' %(asctime)s -%(levelname)s - %(message)s')\"\"\""
   ]
  },
  {
   "cell_type": "code",
   "execution_count": 14,
   "id": "af44e59b",
   "metadata": {},
   "outputs": [
    {
     "data": {
      "text/plain": [
       "\"import logging\\n   logging.basicConfig(filename='programLog.txt', level=logging.DEBUG,format=' %(asctime)s - %(levelname)s - %(message)s')\""
      ]
     },
     "execution_count": 14,
     "metadata": {},
     "output_type": "execute_result"
    }
   ],
   "source": [
    "#5-\n",
    "\"\"\"import logging\n",
    "   logging.basicConfig(filename='programLog.txt', level=logging.DEBUG,format=' %(asctime)s - %(levelname)s - %(message)s')\"\"\""
   ]
  },
  {
   "cell_type": "code",
   "execution_count": 15,
   "id": "d3dac467",
   "metadata": {},
   "outputs": [],
   "source": [
    "#6- info,debug,error,crtical and warning"
   ]
  },
  {
   "cell_type": "code",
   "execution_count": 16,
   "id": "05527fed",
   "metadata": {},
   "outputs": [],
   "source": [
    "#7- logging.disable() will disable logging messege. inside the bracket you can pass the level  eg - logging.disable(logging.critical)"
   ]
  },
  {
   "cell_type": "code",
   "execution_count": 17,
   "id": "4ad57a14",
   "metadata": {},
   "outputs": [],
   "source": [
    "#8 - bcs it gives detailed information right from the type of error to the time stamp other then just printing the statement or the error"
   ]
  },
  {
   "cell_type": "code",
   "execution_count": 18,
   "id": "d7b6bf84",
   "metadata": {},
   "outputs": [],
   "source": [
    "#9-The Step button will move the debugger into a function call. The Over button will quickly execute the function call without stepping into it. The Out button will quickly execute the rest of the code until it steps out of the function it currently is in"
   ]
  },
  {
   "cell_type": "code",
   "execution_count": 19,
   "id": "c94dbaae",
   "metadata": {},
   "outputs": [],
   "source": [
    "#10-the debugger will stop when it has reached the end of the program or a line with a breakpoint."
   ]
  },
  {
   "cell_type": "code",
   "execution_count": null,
   "id": "7dc95b3f",
   "metadata": {},
   "outputs": [],
   "source": [
    "#11 - A breakpoint is a setting on a line of code that causes the debugger to pause when the program execution reaches the line."
   ]
  }
 ],
 "metadata": {
  "kernelspec": {
   "display_name": "Python 3 (ipykernel)",
   "language": "python",
   "name": "python3"
  },
  "language_info": {
   "codemirror_mode": {
    "name": "ipython",
    "version": 3
   },
   "file_extension": ".py",
   "mimetype": "text/x-python",
   "name": "python",
   "nbconvert_exporter": "python",
   "pygments_lexer": "ipython3",
   "version": "3.9.7"
  }
 },
 "nbformat": 4,
 "nbformat_minor": 5
}
