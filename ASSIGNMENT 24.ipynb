{
 "cells": [
  {
   "cell_type": "code",
   "execution_count": null,
   "id": "d6531a10",
   "metadata": {},
   "outputs": [],
   "source": [
    "#-1\n",
    " \"\"\"the body of a lambda can consist of only a single expression, the result of which is returned from the function created and \n",
    " a lambda expression is an expression which evaluates to a function object, while a def statement has no value, and creates a function object\n",
    " and binds it to a name.\"\"\""
   ]
  },
  {
   "cell_type": "code",
   "execution_count": null,
   "id": "0c98369f",
   "metadata": {},
   "outputs": [],
   "source": [
    "#2-\n",
    "\"\"\" its simplifies the expression as compred to a define function\"\"\"\n"
   ]
  },
  {
   "cell_type": "code",
   "execution_count": null,
   "id": "a14ffdc5",
   "metadata": {},
   "outputs": [],
   "source": [
    "#3-\n",
    "\"\"\"Using map you iterate the elements, and for each element you return an element you want.\n",
    "Using an array as an input, you can get one single element \n",
    "\n",
    "Similar to map(), filter() takes a function object and an iterable and creates a new list.\"\"\"\n",
    "\n"
   ]
  },
  {
   "cell_type": "code",
   "execution_count": 1,
   "id": "03e8007d",
   "metadata": {},
   "outputs": [
    {
     "data": {
      "text/plain": [
       "'Function annotations provide a way of associating various parts of a\\nfunction with arbitrary python expressions at compile time'"
      ]
     },
     "execution_count": 1,
     "metadata": {},
     "output_type": "execute_result"
    }
   ],
   "source": [
    "#4-\n",
    "\"\"\"Function annotations provide a way of associating various parts of a\n",
    "function with arbitrary python expressions at compile time\"\"\"\n",
    "\n",
    "#def foo(x: expression, y: expression = 20):"
   ]
  },
  {
   "cell_type": "code",
   "execution_count": 2,
   "id": "b0684caa",
   "metadata": {},
   "outputs": [
    {
     "data": {
      "text/plain": [
       "'A recursive function is a function in code that refers to itself for execution. \\nRecursive functions can be simple or elaborate. They allow for more efficient code writing, for instance, in the listing or compiling of sets of numbers, \\nstrings or other variables through a single reiterated process'"
      ]
     },
     "execution_count": 2,
     "metadata": {},
     "output_type": "execute_result"
    }
   ],
   "source": [
    "#5-\n",
    "\"\"\"A recursive function is a function in code that refers to itself for execution. \n",
    "Recursive functions can be simple or elaborate. They allow for more efficient code writing, for instance, in the listing or compiling of sets of numbers, \n",
    "strings or other variables through a single reiterated process\"\"\""
   ]
  },
  {
   "cell_type": "code",
   "execution_count": 3,
   "id": "d541dee6",
   "metadata": {},
   "outputs": [],
   "source": [
    "#6-\n",
    "\n",
    "#Aligned with opening delimiter.\n",
    "# First line contains no argument. Second line onwards\n",
    "# more indentation included to distinguish this from \n",
    "# the rest.\n",
    "#Use docstrings\n",
    "# Wrap lines so that they don’t exceed 79 characters\n",
    "#  Use of regular and updated comments are valuable to both the coders and users\n",
    "# Use of trailing commas \n",
    "# Use Python’s default UTF-8 or ASCII encodings and not any fancy encodings\n",
    "# Naming Conventions"
   ]
  },
  {
   "cell_type": "code",
   "execution_count": 4,
   "id": "e5dfbb56",
   "metadata": {},
   "outputs": [
    {
     "data": {
      "text/plain": [
       "'Write the name of the function.\\nAdd parentheses () after the function’s name.\\nInside the parenthesis, add any parameters that the function requires, separated by commas.\\nEnd the line with a semicolon'"
      ]
     },
     "execution_count": 4,
     "metadata": {},
     "output_type": "execute_result"
    }
   ],
   "source": [
    "#7- \n",
    "\"\"\"Write the name of the function.\n",
    "Add parentheses () after the function’s name.\n",
    "Inside the parenthesis, add any parameters that the function requires, separated by commas.\n",
    "End the line with a semicolon\"\"\""
   ]
  },
  {
   "cell_type": "code",
   "execution_count": null,
   "id": "edfc38b5",
   "metadata": {},
   "outputs": [],
   "source": []
  }
 ],
 "metadata": {
  "kernelspec": {
   "display_name": "Python 3 (ipykernel)",
   "language": "python",
   "name": "python3"
  },
  "language_info": {
   "codemirror_mode": {
    "name": "ipython",
    "version": 3
   },
   "file_extension": ".py",
   "mimetype": "text/x-python",
   "name": "python",
   "nbconvert_exporter": "python",
   "pygments_lexer": "ipython3",
   "version": "3.9.7"
  }
 },
 "nbformat": 4,
 "nbformat_minor": 5
}
