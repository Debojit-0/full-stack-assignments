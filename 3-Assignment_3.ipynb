{
 "cells": [
  {
   "cell_type": "code",
   "execution_count": 1,
   "id": "f1f1932c",
   "metadata": {},
   "outputs": [],
   "source": [
    "#1- prevents a user from creating an object  of that class\n",
    "# compels a user to override abstract methods in a child class"
   ]
  },
  {
   "cell_type": "code",
   "execution_count": 4,
   "id": "d282af1e",
   "metadata": {},
   "outputs": [
    {
     "data": {
      "text/plain": [
       "'for eg class new:\\n          def _init_(self,a):\\n            self.a = a\\n        class m:\\n            def _init_(self,b):\\n                self.b = b\\n        class n(m,new):\\n              print(\"nw\")\\n            super_init_()\\n            \\nnow when u execute class n it will print nw followed by class m i.e self.b but it will not inherit class new init method\\nhence u need to explicitly call the init if boith the class m and new\\n\\nfor eg \\n\\n  class n(m,new):\\n              print(\"nw\")\\n           m. super_init_()\\n           new.super_init_()\\n           '"
      ]
     },
     "execution_count": 4,
     "metadata": {},
     "output_type": "execute_result"
    }
   ],
   "source": [
    "#3- bcs if u donot call init of super class explicitly specially when ur inhering from multiple super class\n",
    "\"\"\"for eg class new:\n",
    "          def _init_(self,a):\n",
    "            self.a = a\n",
    "        class m:\n",
    "            def _init_(self,b):\n",
    "                self.b = b\n",
    "        class n(m,new):\n",
    "              print(\"nw\")\n",
    "            super_init_()\n",
    "            \n",
    "now when u execute class n it will print nw followed by class m i.e self.b but it will not inherit class new init method\n",
    "hence u need to explicitly call the init if boith the class m and new\n",
    "\n",
    "for eg \n",
    "\n",
    "  class n(m,new):\n",
    "              print(\"nw\")\n",
    "           m. super_init_()\n",
    "           new.super_init_()    \"\"\"\n"
   ]
  },
  {
   "cell_type": "code",
   "execution_count": 5,
   "id": "6ff679ad",
   "metadata": {},
   "outputs": [
    {
     "data": {
      "text/plain": [
       "\"declaring a variable inside a function inside a class \\nonly that function can access it (its in that functions scope)\\nif the variable is declared without self then it is accessible within that function only, \\nkinda local variable. However if it declared using self like self.var= 'somevalue',\\nthen it is accessible via any object but not via the class name.\""
      ]
     },
     "execution_count": 5,
     "metadata": {},
     "output_type": "execute_result"
    }
   ],
   "source": [
    "#5-\n",
    "\n",
    "\"\"\"declaring a variable in a class (outside of a function) \n",
    "all class functions can access it (basically a public variable)\n",
    "this is like a static variable and can be called using the class name. \n",
    "These variables are available to all functions, any functions can modify it and print it.\"\"\"\n",
    "\n",
    "\n",
    "\"\"\"declaring a variable inside a function inside a class \n",
    "only that function can access it (its in that functions scope)\n",
    "if the variable is declared without self then it is accessible within that function only, \n",
    "kinda local variable. However if it declared using self like self.var= 'somevalue',\n",
    "then it is accessible via any object but not via the class name.\"\"\""
   ]
  },
  {
   "cell_type": "code",
   "execution_count": 6,
   "id": "7150fb54",
   "metadata": {},
   "outputs": [
    {
     "data": {
      "text/plain": [
       "'Each method that is inherited from a superclass can be augmented to perform some different action in the new class.\\nIf there is no augmentation then the inherited methods will perform as defined in the superclass.\\nAn inherited method is augmented simply by creating a new definition for the method in your class definition'"
      ]
     },
     "execution_count": 6,
     "metadata": {},
     "output_type": "execute_result"
    }
   ],
   "source": [
    "#4-\n",
    "\"\"\"Each method that is inherited from a superclass can be augmented to perform some different action in the new class.\n",
    "If there is no augmentation then the inherited methods will perform as defined in the superclass.\n",
    "An inherited method is augmented simply by creating a new definition for the method in your class definition\"\"\""
   ]
  },
  {
   "cell_type": "code",
   "execution_count": null,
   "id": "76a12a7f",
   "metadata": {},
   "outputs": [],
   "source": []
  }
 ],
 "metadata": {
  "kernelspec": {
   "display_name": "Python 3 (ipykernel)",
   "language": "python",
   "name": "python3"
  },
  "language_info": {
   "codemirror_mode": {
    "name": "ipython",
    "version": 3
   },
   "file_extension": ".py",
   "mimetype": "text/x-python",
   "name": "python",
   "nbconvert_exporter": "python",
   "pygments_lexer": "ipython3",
   "version": "3.9.7"
  }
 },
 "nbformat": 4,
 "nbformat_minor": 5
}
