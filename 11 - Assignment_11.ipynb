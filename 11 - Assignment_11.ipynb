{
 "cells": [
  {
   "cell_type": "code",
   "execution_count": 1,
   "id": "ebecada8",
   "metadata": {},
   "outputs": [
    {
     "data": {
      "text/plain": [
       "' A metaclass in Python is a class of a class that defines how a class behaves. A class is itself an instance of a metaclass. \\nA class in Python defines how the instance of the class will behave'"
      ]
     },
     "execution_count": 1,
     "metadata": {},
     "output_type": "execute_result"
    }
   ],
   "source": [
    "#1-\n",
    "\"\"\" A metaclass in Python is a class of a class that defines how a class behaves. A class is itself an instance of a metaclass. \n",
    "A class in Python defines how the instance of the class will behave\"\"\""
   ]
  },
  {
   "cell_type": "code",
   "execution_count": 2,
   "id": "ee6bda7e",
   "metadata": {},
   "outputs": [],
   "source": [
    "#2-\n",
    "class MyMeta(type):\n",
    "    pass\n",
    "\n",
    "class MyClass(metaclass=MyMeta):\n",
    "    pass"
   ]
  },
  {
   "cell_type": "code",
   "execution_count": 3,
   "id": "d6ec12c9",
   "metadata": {},
   "outputs": [
    {
     "data": {
      "text/plain": [
       "'Decorators are much, much simpler and more limited -- and therefore should be preferred whenever the desired effect can be achieved with either a metaclass or a class decorator.\\n\\nAnything you can do with a class decorator, you can of course do with a custom metaclass (just apply the functionality of the \"decorator function\", i.e., the one that takes a class object \\nand modifies it, in the course of the metaclass\\'s __new__ or __init__ that make the class object!-).\\n\\nThere are many things you can do in a custom metaclass but not in a decorator (unless the decorator internally generates and applies a custom metaclass, of course -- but that\\'s cheating;-)... \\nand even then, in Python 3, there are things you can only do with a custom metaclass, not after the fact... but that\\'s a pretty advanced sub-niche of your question, so let me give simpler examples).\\n\\nFor example, suppose you want to make a class object X such that print X (or in Python 3 print(X) of course;-) displays peekaboo!. You cannot possibly do that without a custom metaclass,\\nbecause the metaclass\\'s override of __str__ is the crucial actor here, i.e., you need a def __str__(cls): return \"peekaboo!\" in the custom metaclass of class X'"
      ]
     },
     "execution_count": 3,
     "metadata": {},
     "output_type": "execute_result"
    }
   ],
   "source": [
    "#3-\n",
    "\"\"\"Decorators are much, much simpler and more limited -- and therefore should be preferred whenever the desired effect can be achieved with either a metaclass or a class decorator.\n",
    "\n",
    "Anything you can do with a class decorator, you can of course do with a custom metaclass (just apply the functionality of the \"decorator function\", i.e., the one that takes a class object \n",
    "and modifies it, in the course of the metaclass's __new__ or __init__ that make the class object!-).\n",
    "\n",
    "There are many things you can do in a custom metaclass but not in a decorator (unless the decorator internally generates and applies a custom metaclass, of course -- but that's cheating;-)... \n",
    "and even then, in Python 3, there are things you can only do with a custom metaclass, not after the fact... but that's a pretty advanced sub-niche of your question, so let me give simpler examples).\n",
    "\n",
    "For example, suppose you want to make a class object X such that print X (or in Python 3 print(X) of course;-) displays peekaboo!. You cannot possibly do that without a custom metaclass,\n",
    "because the metaclass's override of __str__ is the crucial actor here, i.e., you need a def __str__(cls): return \"peekaboo!\" in the custom metaclass of class X\"\"\""
   ]
  },
  {
   "cell_type": "code",
   "execution_count": 4,
   "id": "3ed5a298",
   "metadata": {},
   "outputs": [
    {
     "data": {
      "text/plain": [
       "'Decorators are much, much simpler and more limited -- and therefore should be preferred whenever the desired effect can be achieved with either a metaclass or a class decorator.\\n\\nAnything you can do with a class decorator, you can of course do with a custom metaclass (just apply the functionality of the \"decorator function\", i.e., the one that takes a class object \\nand modifies it, in the course of the metaclass\\'s __new__ or __init__ that make the class object!-).\\n\\nThere are many things you can do in a custom metaclass but not in a decorator (unless the decorator internally generates and applies a custom metaclass, of course -- but that\\'s cheating;-)... \\nand even then, in Python 3, there are things you can only do with a custom metaclass, not after the fact... but that\\'s a pretty advanced sub-niche of your question, so let me give simpler examples).\\n\\nFor example, suppose you want to make a class object X such that print X (or in Python 3 print(X) of course;-) displays peekaboo!. You cannot possibly do that without a custom metaclass,\\nbecause the metaclass\\'s override of __str__ is the crucial actor here, i.e., you need a def __str__(cls): return \"peekaboo!\" in the custom metaclass of class X'"
      ]
     },
     "execution_count": 4,
     "metadata": {},
     "output_type": "execute_result"
    }
   ],
   "source": [
    "#4- \n",
    "#3-\n",
    "\"\"\"Decorators are much, much simpler and more limited -- and therefore should be preferred whenever the desired effect can be achieved with either a metaclass or a class decorator.\n",
    "\n",
    "Anything you can do with a class decorator, you can of course do with a custom metaclass (just apply the functionality of the \"decorator function\", i.e., the one that takes a class object \n",
    "and modifies it, in the course of the metaclass's __new__ or __init__ that make the class object!-).\n",
    "\n",
    "There are many things you can do in a custom metaclass but not in a decorator (unless the decorator internally generates and applies a custom metaclass, of course -- but that's cheating;-)... \n",
    "and even then, in Python 3, there are things you can only do with a custom metaclass, not after the fact... but that's a pretty advanced sub-niche of your question, so let me give simpler examples).\n",
    "\n",
    "For example, suppose you want to make a class object X such that print X (or in Python 3 print(X) of course;-) displays peekaboo!. You cannot possibly do that without a custom metaclass,\n",
    "because the metaclass's override of __str__ is the crucial actor here, i.e., you need a def __str__(cls): return \"peekaboo!\" in the custom metaclass of class X\"\"\""
   ]
  },
  {
   "cell_type": "code",
   "execution_count": null,
   "id": "87381d0e",
   "metadata": {},
   "outputs": [],
   "source": []
  }
 ],
 "metadata": {
  "kernelspec": {
   "display_name": "Python 3 (ipykernel)",
   "language": "python",
   "name": "python3"
  },
  "language_info": {
   "codemirror_mode": {
    "name": "ipython",
    "version": 3
   },
   "file_extension": ".py",
   "mimetype": "text/x-python",
   "name": "python",
   "nbconvert_exporter": "python",
   "pygments_lexer": "ipython3",
   "version": "3.9.7"
  }
 },
 "nbformat": 4,
 "nbformat_minor": 5
}
