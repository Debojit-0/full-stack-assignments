{
 "cells": [
  {
   "cell_type": "code",
   "execution_count": 11,
   "id": "d08151df",
   "metadata": {},
   "outputs": [
    {
     "name": "stdout",
     "output_type": "stream",
     "text": [
      "ENTER THE KM62\n",
      "101.30718954248366\n"
     ]
    }
   ],
   "source": [
    "KM = int(input(\"ENTER THE KM\"))\n",
    "\n",
    "MILES = (1*KM/0.612)\n",
    "print(MILES)\n"
   ]
  },
  {
   "cell_type": "code",
   "execution_count": 13,
   "id": "aed7dcb6",
   "metadata": {},
   "outputs": [
    {
     "name": "stdout",
     "output_type": "stream",
     "text": [
      "enter the cdelcius20\n",
      "68.0\n"
     ]
    }
   ],
   "source": [
    "\n",
    "C =int(input(\"enter the cdelcius\"))\n",
    "F = C *1.8 + 32\n",
    "print(F)\n"
   ]
  },
  {
   "cell_type": "code",
   "execution_count": 26,
   "id": "4f8fff80",
   "metadata": {},
   "outputs": [
    {
     "name": "stdout",
     "output_type": "stream",
     "text": [
      "enter the year2021\n",
      "enter the month1\n",
      "    January 2021\n",
      "Mo Tu We Th Fr Sa Su\n",
      "             1  2  3\n",
      " 4  5  6  7  8  9 10\n",
      "11 12 13 14 15 16 17\n",
      "18 19 20 21 22 23 24\n",
      "25 26 27 28 29 30 31\n",
      "\n"
     ]
    }
   ],
   "source": [
    "import calendar\n",
    "year = int(input(\"enter the year\"))\n",
    "month  = int(input(\"enter the month\"))\n",
    "print(calendar.month(year,month))\n",
    "#note calender has no class has no attribute as year or week or day it has only month i.e calender.month(2 variables)"
   ]
  },
  {
   "cell_type": "code",
   "execution_count": 20,
   "id": "f7049f08",
   "metadata": {},
   "outputs": [
    {
     "name": "stdout",
     "output_type": "stream",
     "text": [
      "enter the number for a coeffient20\n",
      "enter the number for b coeffient30\n",
      "enter the number for c coeffient50\n",
      "(-0.75-1.3919410907075054j) (-0.75+1.3919410907075054j)\n"
     ]
    }
   ],
   "source": [
    "# Solve the quadratic equation ax**2 + bx + c = 0\n",
    "# import complex math module - cmath module to perform complex square root\n",
    "import cmath\n",
    "a = int(input(\"enter the number for a coeffient\"))\n",
    "b = int(input(\"enter the number for b coeffient\"))\n",
    "c = int(input(\"enter the number for c coeffient\"))\n",
    "# calculate the discriminant\n",
    "d = (b**2) - (4*a*c)\n",
    "# to  find two solutions\n",
    "sol1 = (-b-cmath.sqrt(d))/(2*a)\n",
    "sol2 = (-b+cmath.sqrt(d))/(2*a)\n",
    "print(sol1,sol2)"
   ]
  },
  {
   "cell_type": "code",
   "execution_count": 27,
   "id": "94f36d0b",
   "metadata": {},
   "outputs": [
    {
     "name": "stdout",
     "output_type": "stream",
     "text": [
      "20 10\n"
     ]
    }
   ],
   "source": [
    "a = 10\n",
    "b = 20\n",
    "a , b = 20 ,10\n",
    "print(a,b)"
   ]
  },
  {
   "cell_type": "code",
   "execution_count": null,
   "id": "c7e3ca1d",
   "metadata": {},
   "outputs": [],
   "source": []
  }
 ],
 "metadata": {
  "kernelspec": {
   "display_name": "Python 3 (ipykernel)",
   "language": "python",
   "name": "python3"
  },
  "language_info": {
   "codemirror_mode": {
    "name": "ipython",
    "version": 3
   },
   "file_extension": ".py",
   "mimetype": "text/x-python",
   "name": "python",
   "nbconvert_exporter": "python",
   "pygments_lexer": "ipython3",
   "version": "3.9.7"
  }
 },
 "nbformat": 4,
 "nbformat_minor": 5
}
