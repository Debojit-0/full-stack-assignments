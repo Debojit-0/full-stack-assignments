{
 "cells": [
  {
   "cell_type": "code",
   "execution_count": 25,
   "id": "9dbb5878",
   "metadata": {},
   "outputs": [
    {
     "name": "stdout",
     "output_type": "stream",
     "text": [
      "enter a number10\n",
      "2\n",
      "10 the number is not  Disarium number\n"
     ]
    }
   ],
   "source": [
    "#1- \n",
    "\"\"\"A number is said to be the Disarium number when the sum of its digit raised to the power of their respective positions \n",
    "becomes equal to the number itself\"\"\"\n",
    "\n",
    "# for eg - 175  =  1^1+ 7^2 + 5^3 = 1+ 49 + 125 = 175\n",
    "\n",
    "n = int(input(\"enter a number\"))\n",
    "temp = n # this variable i will use to find the position\n",
    "x = n # this variable i will use to split the number into indiviual numbers\n",
    "\n",
    "# to count or find  the total no positions for eg 175 has 3 positions in total i.e 1^1,7^2 and 5^3\n",
    "count = 0\n",
    "while temp > 0:\n",
    "    temp = temp//10\n",
    "    count = count+1\n",
    "print(count)\n",
    "\n",
    "\n",
    "# to split the numbers into individual number\n",
    "sum = 0\n",
    "while x >0:\n",
    "    rem = x%10\n",
    "    \n",
    "    sum = sum + rem**count\n",
    "    x= x//10\n",
    "    count = count -1\n",
    "if sum == n:\n",
    "    print(n,\"the number is  Disarium number\")\n",
    "else:\n",
    "    print(n,\"the number is not  Disarium number\")"
   ]
  },
  {
   "cell_type": "code",
   "execution_count": null,
   "id": "97a9f3d1",
   "metadata": {},
   "outputs": [],
   "source": [
    "#2-\n",
    "#calculateLength() will count the digits present in a number  \n",
    "def calculateLength(n):\n",
    "    \n",
    "    temp = n\n",
    "    x = n\n",
    "    \n",
    "    count = 0 \n",
    "    while( temp > 0):\n",
    "        \n",
    "        count = count + 1  \n",
    "        temp  = temp//10 \n",
    "    return count\n",
    "\n",
    "#sumOfDigits() will calculates the sum of digits powered with their respective position\n",
    "def sumOfDigits(num):  \n",
    "    \n",
    "    sum = 0\n",
    "    len = calculateLength(num)\n",
    "    while(num > 0): \n",
    "        global count\n",
    "        rem = num%10;  \n",
    "        sum = sum + (rem**count)\n",
    "        num = num//10 \n",
    "        count = count-1 \n",
    "    return sum\n",
    "#Displays all disarium numbers between 1 and 100 \n",
    "print(\"Disarium numbers between 1 and 100 are\")\n",
    "for i in range(1, 101): \n",
    "    \n",
    "    result = sumOfDigits(i)\n",
    "    if result == sum:\n",
    "        print(i,\"the number is  Disarium number\")\n",
    "    else:\n",
    "        \n",
    "        print(i,\"the number is not  Disarium number\")\n",
    "        \n",
    "\n",
    "\n",
    "    "
   ]
  },
  {
   "cell_type": "code",
   "execution_count": 30,
   "id": "faed6f8f",
   "metadata": {},
   "outputs": [
    {
     "name": "stdout",
     "output_type": "stream",
     "text": [
      "enter the number151\n",
      "not happy number\n"
     ]
    }
   ],
   "source": [
    "#3-\n",
    "def sumofdigit(n):\n",
    "    sum = 0\n",
    "    res = 0\n",
    "    while n>0:\n",
    "        rem = n%10\n",
    "        res = res + rem*rem\n",
    "        n = n//10\n",
    "    return res\n",
    "n = int(input(\"enter the number\"))\n",
    "result = n\n",
    "while result !=1 and result!=4:\n",
    "    result=sumofdigit(result)\n",
    "if result == n:\n",
    "    print(\"happy number\")\n",
    "else:\n",
    "    print(\"not happy number\")"
   ]
  },
  {
   "cell_type": "code",
   "execution_count": 31,
   "id": "0fa7ed5e",
   "metadata": {},
   "outputs": [
    {
     "name": "stdout",
     "output_type": "stream",
     "text": [
      "The list of happy numbers between 1 and 100 are : \n",
      "1\n",
      "7\n",
      "10\n",
      "13\n",
      "19\n",
      "23\n",
      "28\n",
      "31\n",
      "32\n",
      "44\n",
      "49\n",
      "68\n",
      "70\n",
      "79\n",
      "82\n",
      "86\n",
      "91\n",
      "94\n",
      "97\n",
      "100\n"
     ]
    }
   ],
   "source": [
    "#4-\n",
    "def check_happy_num(my_num):\n",
    "   remaining = sum_val = 0\n",
    "   while(my_num > 0):\n",
    "      remaining = my_num%10\n",
    "      sum_val = sum_val + (remaining*remaining)\n",
    "      my_num = my_num//10\n",
    "   return sum_val\n",
    "print(\"The list of happy numbers between 1 and 100 are : \")\n",
    "for i in range(1, 101):\n",
    "   my_result = i\n",
    "   while(my_result != 1 and my_result != 4):\n",
    "      my_result = check_happy_num(my_result)\n",
    "   if(my_result == 1):\n",
    "      print(i)"
   ]
  },
  {
   "cell_type": "code",
   "execution_count": 12,
   "id": "31d44d2c",
   "metadata": {},
   "outputs": [
    {
     "name": "stdout",
     "output_type": "stream",
     "text": [
      "enter a number25\n",
      "not harsad number\n"
     ]
    }
   ],
   "source": [
    "#5-\n",
    "n = int(input(\"enter a number\"))\n",
    "sum = 0\n",
    "x = n\n",
    "while x>0:\n",
    "    \n",
    "   \n",
    "    \n",
    "    rem = x%10\n",
    "    sum= sum +rem\n",
    "    x = x//10\n",
    "    \n",
    "\n",
    "\n",
    "if n%sum ==0:\n",
    "    print(\"harsad number\")\n",
    "else:\n",
    "    print(\"not harsad number\")"
   ]
  },
  {
   "cell_type": "code",
   "execution_count": null,
   "id": "cc668cc7",
   "metadata": {},
   "outputs": [],
   "source": []
  },
  {
   "cell_type": "code",
   "execution_count": 38,
   "id": "e3580f90",
   "metadata": {},
   "outputs": [
    {
     "name": "stdout",
     "output_type": "stream",
     "text": [
      "enter a number5\n",
      "5  is not  a chronic number\n"
     ]
    }
   ],
   "source": [
    "#6-\n",
    "\n",
    "# A pronic number is a number that is the product of two consecutive integers, that is, a number of the form n(n+1)\n",
    "# eg 6 = 3*2 or 2*3 i.e 2 and 3 or 3 and 4 are consecutive number i.e one after another. 2*4 is not a consecutive number\n",
    "# as 4 is not next to 2 or previous to 2 so it should be 3 \n",
    "# and the product of these 2 consecutive number should be equal to n\n",
    "# for eg 2* 3 or 3*2 is eqaul to 6\n",
    "\n",
    "\n",
    "n = int(input(\"enter a number\"))\n",
    "flag =0\n",
    "for i in range(1,n+1):\n",
    "    \n",
    "    flag ==1\n",
    "    if (i*(i+1))== n:\n",
    "          break\n",
    "if flag==1:\n",
    "    print(n,\" is a chronic number\")\n",
    "else:\n",
    "    print(n,\" is not  a chronic number\")\n",
    "        \n",
    "       \n",
    "\n",
    "\n",
    "        \n",
    "       \n",
    "\n",
    "       \n",
    " "
   ]
  },
  {
   "cell_type": "code",
   "execution_count": null,
   "id": "bde2492f",
   "metadata": {},
   "outputs": [],
   "source": []
  }
 ],
 "metadata": {
  "kernelspec": {
   "display_name": "Python 3 (ipykernel)",
   "language": "python",
   "name": "python3"
  },
  "language_info": {
   "codemirror_mode": {
    "name": "ipython",
    "version": 3
   },
   "file_extension": ".py",
   "mimetype": "text/x-python",
   "name": "python",
   "nbconvert_exporter": "python",
   "pygments_lexer": "ipython3",
   "version": "3.9.7"
  }
 },
 "nbformat": 4,
 "nbformat_minor": 5
}
