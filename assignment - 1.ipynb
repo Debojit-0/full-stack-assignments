{
 "cells": [
  {
   "cell_type": "code",
   "execution_count": 3,
   "id": "07e7a3e4",
   "metadata": {},
   "outputs": [
    {
     "data": {
      "text/plain": [
       "\", *,/,+ are expressions \\n\\nand\\n\\n'hello',-87.8,6 are values\""
      ]
     },
     "execution_count": 3,
     "metadata": {},
     "output_type": "execute_result"
    }
   ],
   "source": [
    "#1 - \n",
    "\n",
    "\"\"\", *,/,+ are expressions \n",
    "\n",
    "and\n",
    "\n",
    "'hello',-87.8,6 are values\"\"\""
   ]
  },
  {
   "cell_type": "code",
   "execution_count": 4,
   "id": "e7d936c7",
   "metadata": {},
   "outputs": [],
   "source": [
    "#string is a set of charecters enclosed in a single,double or triple quotes where as variable is a place holder in memory i.e it holds a perticular value in memory "
   ]
  },
  {
   "cell_type": "code",
   "execution_count": 5,
   "id": "5f4413f3",
   "metadata": {},
   "outputs": [
    {
     "data": {
      "text/plain": [
       "'int -  is all integer values from - to + numbers , \\nfloat - all i=values which has decimal in it,\\nstring - all charecters in single ,double or triple quotes'"
      ]
     },
     "execution_count": 5,
     "metadata": {},
     "output_type": "execute_result"
    }
   ],
   "source": [
    "#3 -\n",
    "\"\"\"int -  is all integer values from - to + numbers , \n",
    "float - all i=values which has decimal in it,\n",
    "string - all charecters in single ,double or triple quotes\"\"\""
   ]
  },
  {
   "cell_type": "code",
   "execution_count": 6,
   "id": "d5ece197",
   "metadata": {},
   "outputs": [
    {
     "data": {
      "text/plain": [
       "' a expression is a combination of operends and operators. eg - a+b +  being the expression'"
      ]
     },
     "execution_count": 6,
     "metadata": {},
     "output_type": "execute_result"
    }
   ],
   "source": [
    "#4-\n",
    "\n",
    "\"\"\" a expression is a combination of operends and operators. eg - a+b +  being the expression\"\"\""
   ]
  },
  {
   "cell_type": "code",
   "execution_count": 7,
   "id": "95ae5f26",
   "metadata": {},
   "outputs": [],
   "source": [
    "#5-Expression is made up of values, containers, and mathematical operators (operands) and the statement is just like a command that a python interpreter executes like print.\n",
    "\n"
   ]
  },
  {
   "cell_type": "code",
   "execution_count": 8,
   "id": "43bc188a",
   "metadata": {},
   "outputs": [],
   "source": [
    "#6 - bacon = 23"
   ]
  },
  {
   "cell_type": "code",
   "execution_count": 9,
   "id": "33dd0830",
   "metadata": {},
   "outputs": [],
   "source": [
    "#7 - spam + spamspam = spamspamspam"
   ]
  },
  {
   "cell_type": "code",
   "execution_count": 10,
   "id": "1087cc4f",
   "metadata": {},
   "outputs": [],
   "source": [
    "#7  - spamspamspam"
   ]
  },
  {
   "cell_type": "code",
   "execution_count": 11,
   "id": "647db454",
   "metadata": {},
   "outputs": [],
   "source": [
    "#8 - because we can't start giving variable an integer name. we should begin with, a string-like alphabet name then integer. e100 or eggs100 is valid"
   ]
  },
  {
   "cell_type": "code",
   "execution_count": 12,
   "id": "233ef732",
   "metadata": {},
   "outputs": [],
   "source": [
    "#9-int(),str(),float()"
   ]
  },
  {
   "cell_type": "code",
   "execution_count": 13,
   "id": "350b58b9",
   "metadata": {},
   "outputs": [],
   "source": [
    "#10 - bcs it has int and string and u cannot concotinate int and string"
   ]
  },
  {
   "cell_type": "code",
   "execution_count": null,
   "id": "5c2d217b",
   "metadata": {},
   "outputs": [],
   "source": []
  }
 ],
 "metadata": {
  "kernelspec": {
   "display_name": "Python 3 (ipykernel)",
   "language": "python",
   "name": "python3"
  },
  "language_info": {
   "codemirror_mode": {
    "name": "ipython",
    "version": 3
   },
   "file_extension": ".py",
   "mimetype": "text/x-python",
   "name": "python",
   "nbconvert_exporter": "python",
   "pygments_lexer": "ipython3",
   "version": "3.9.7"
  }
 },
 "nbformat": 4,
 "nbformat_minor": 5
}
