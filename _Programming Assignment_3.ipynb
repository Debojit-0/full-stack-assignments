{
 "cells": [
  {
   "cell_type": "code",
   "execution_count": 3,
   "id": "57a3ed9f",
   "metadata": {},
   "outputs": [
    {
     "name": "stdout",
     "output_type": "stream",
     "text": [
      "enter a number5\n",
      "positive\n"
     ]
    }
   ],
   "source": [
    "n = int(input(\"enter a number\"))\n",
    "if n < 0 :\n",
    "    print(\"negetive\")\n",
    "elif  n == 0:\n",
    "    \n",
    "   \n",
    "    print(\"zero\")\n",
    "    \n",
    "\n",
    "else:\n",
    "    \n",
    "        print(\"positive\")\n",
    "    "
   ]
  },
  {
   "cell_type": "code",
   "execution_count": 4,
   "id": "5149399e",
   "metadata": {},
   "outputs": [
    {
     "name": "stdout",
     "output_type": "stream",
     "text": [
      "enter a number5\n",
      "odd\n"
     ]
    }
   ],
   "source": [
    "m = int(input(\"enter a number\"))\n",
    "if m%2 ==0:\n",
    "    print(\"even\")\n",
    "else:\n",
    "    print(\"odd\")"
   ]
  },
  {
   "cell_type": "code",
   "execution_count": 6,
   "id": "8fda2d3a",
   "metadata": {},
   "outputs": [
    {
     "name": "stdout",
     "output_type": "stream",
     "text": [
      "enter a year2000\n",
      "its  a leap year\n"
     ]
    }
   ],
   "source": [
    "\n",
    "o = int(input(\"enter a year\"))\n",
    "if o%4 == 0:\n",
    "    if o%100 == 0:\n",
    "        if o%400 == 0:\n",
    "            print(\"its  a leap year\")\n",
    "        else:\n",
    "            print(\"not a leap year\")\n",
    "    else:\n",
    "        print(\"its a  leap year\")\n",
    "else:\n",
    "    print(\"its not  a lepa year\")"
   ]
  },
  {
   "cell_type": "code",
   "execution_count": 31,
   "id": "80d6fb86",
   "metadata": {},
   "outputs": [
    {
     "name": "stdout",
     "output_type": "stream",
     "text": [
      "enter a number10\n",
      "10 not prime\n"
     ]
    }
   ],
   "source": [
    "#TO CHECK WETHER A NUMBER IS A PRIME NUMBER\n",
    "p = int(input(\"enter a number\"))\n",
    "if p>1:\n",
    "    for j in range(2,p):\n",
    "        if p%j ==0:\n",
    "            print(p,\"is not prime\")\n",
    "            break\n",
    "            \n",
    "                \n",
    "    else:\n",
    "        \n",
    "        print(p,\"is  prime\")\n",
    "            \n",
    "\n",
    "    \n",
    "        \n",
    "            \n",
    "        \n",
    "    "
   ]
  },
  {
   "cell_type": "code",
   "execution_count": null,
   "id": "51b009c3",
   "metadata": {},
   "outputs": [],
   "source": [
    "# to check a range of prime numbers\n",
    "p = int(input(\"enter a number\"))\n",
    "q = int(input(\"enter a number\"))\n",
    "for i in range(p,q+1):\n",
    "    if i>1:\n",
    "        for j in range(2,i):\n",
    "            if i%j ==0:\n",
    "                break\n",
    "        else:\n",
    "            print(\"not prime\")\n",
    "    "
   ]
  },
  {
   "cell_type": "code",
   "execution_count": null,
   "id": "d8c8e271",
   "metadata": {},
   "outputs": [],
   "source": []
  }
 ],
 "metadata": {
  "kernelspec": {
   "display_name": "Python 3 (ipykernel)",
   "language": "python",
   "name": "python3"
  },
  "language_info": {
   "codemirror_mode": {
    "name": "ipython",
    "version": 3
   },
   "file_extension": ".py",
   "mimetype": "text/x-python",
   "name": "python",
   "nbconvert_exporter": "python",
   "pygments_lexer": "ipython3",
   "version": "3.9.7"
  }
 },
 "nbformat": 4,
 "nbformat_minor": 5
}
