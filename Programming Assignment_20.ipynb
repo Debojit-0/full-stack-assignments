{
 "cells": [
  {
   "cell_type": "code",
   "execution_count": 7,
   "id": "e026ba2f",
   "metadata": {},
   "outputs": [
    {
     "data": {
      "text/plain": [
       "[1, 2, 3, 4]"
      ]
     },
     "execution_count": 7,
     "metadata": {},
     "output_type": "execute_result"
    }
   ],
   "source": [
    "#1-\n",
    "def filter_list(l):\n",
    "    \n",
    "    for i in l:\n",
    "        if type(i) == int:\n",
    "            k.append(i)\n",
    "l = [1,2,3,4 ,\"a\",\"b\",\"c\",\"d\"]\n",
    "k = []\n",
    "filter_list(l)\n",
    "k\n"
   ]
  },
  {
   "cell_type": "code",
   "execution_count": 35,
   "id": "74833fac",
   "metadata": {},
   "outputs": [
    {
     "data": {
      "text/plain": [
       "[1, 3, 5, 7, 9, 11]"
      ]
     },
     "execution_count": 35,
     "metadata": {},
     "output_type": "execute_result"
    }
   ],
   "source": [
    "#2-\n",
    "def add(l):\n",
    "    \n",
    "    for i in l:\n",
    "        \n",
    "        a = l.index(i)\n",
    "        k.append(a)\n",
    "    for j in range(len(l)):\n",
    "        \n",
    "        m.append(l[j]+k[j])\n",
    "        \n",
    "       \n",
    "l =[1,2,3,4,5,6]\n",
    "k=[]\n",
    "m=[]        \n",
    "add(l)\n",
    "m\n",
    "    \n",
    "    \n",
    "    "
   ]
  },
  {
   "cell_type": "code",
   "execution_count": 38,
   "id": "f67c9df2",
   "metadata": {},
   "outputs": [
    {
     "name": "stdout",
     "output_type": "stream",
     "text": [
      "enter the radius2\n",
      "enter the heught3\n"
     ]
    },
    {
     "data": {
      "text/plain": [
       "12.56"
      ]
     },
     "execution_count": 38,
     "metadata": {},
     "output_type": "execute_result"
    }
   ],
   "source": [
    "#3-\n",
    "r =float(input(\"enter the radius\"))\n",
    "h = float(input(\"enter the height\"))\n",
    "def volume(r,h):\n",
    "    v = 3.14*r**2*(h/3)\n",
    "    return v\n",
    "volume(r,h)\n",
    "    "
   ]
  },
  {
   "cell_type": "code",
   "execution_count": 45,
   "id": "6cdead91",
   "metadata": {},
   "outputs": [
    {
     "name": "stdout",
     "output_type": "stream",
     "text": [
      "given list [1, 2, 3, 4, 6, 9, 11]\n",
      "new_list [1, 2, 3, 4, 5, 6, 7, 8, 9, 10, 11]\n",
      "{5, 7, 8, 10}\n"
     ]
    }
   ],
   "source": [
    "#5-\n",
    "# note - we will use symmetric_difference function here- https://www.youtube.com/watch?v=-OVV-71iOXU\n",
    "# syntax ->  s = set(variable1.split()) - if string is present\n",
    "# s2 = set(variable2.split())- if string is present \n",
    "# result = s.symmetric_difference(s2)\n",
    "# for numbers - synatx - result = set(list)^set(new list) and the above syntax is not required\n",
    "# note to use symmetric_difference teh list should be in ascending order and no repetetion \n",
    "def diff(l):\n",
    "    rang = range(l[0],l[-1]+1) # so here l[0]  is 1 and l[-1] is 11 and plus 1 is 12 bcs we need to exclude the last number\n",
    "    new_list=list(rang)\n",
    "    print(\"given list\", l)\n",
    "    print(\"new_list\", new_list)\n",
    "    result = set(l)^set(new_list)\n",
    "    print(result)\n",
    "\n",
    "    \n",
    "l = [1,2,3,4,6,9,11]  \n",
    "diff(l)\n"
   ]
  },
  {
   "cell_type": "code",
   "execution_count": 2,
   "id": "9e12a2cd",
   "metadata": {},
   "outputs": [
    {
     "name": "stdout",
     "output_type": "stream",
     "text": [
      "5\n",
      "7\n",
      "8\n",
      "10\n"
     ]
    }
   ],
   "source": [
    "#method 2\n",
    "def diff(l):\n",
    "    rang = range(l[0],l[-1]+1)\n",
    "    new_list=list(rang)\n",
    "    for i in new_list:\n",
    "        if i not in l:\n",
    "            print(i)\n",
    "\n",
    "    \n",
    "l = [1,2,3,4,6,9,11]  \n",
    "diff(l)"
   ]
  },
  {
   "cell_type": "code",
   "execution_count": 3,
   "id": "5d75f8e2",
   "metadata": {},
   "outputs": [
    {
     "name": "stdout",
     "output_type": "stream",
     "text": [
      "enter the number3\n"
     ]
    },
    {
     "data": {
      "text/plain": [
       "6"
      ]
     },
     "execution_count": 3,
     "metadata": {},
     "output_type": "execute_result"
    }
   ],
   "source": [
    "#4-\n",
    "n = int(input(\"enter the number\"))\n",
    "def sum(n):\n",
    "    sum = 0\n",
    "    for i in range(1,n+1):\n",
    "        sum = sum +i\n",
    "    return sum\n",
    "\n",
    "sum(n)    \n",
    "    "
   ]
  },
  {
   "cell_type": "code",
   "execution_count": null,
   "id": "6d11102f",
   "metadata": {},
   "outputs": [],
   "source": []
  },
  {
   "cell_type": "code",
   "execution_count": null,
   "id": "8a6fa786",
   "metadata": {},
   "outputs": [],
   "source": []
  }
 ],
 "metadata": {
  "kernelspec": {
   "display_name": "Python 3 (ipykernel)",
   "language": "python",
   "name": "python3"
  },
  "language_info": {
   "codemirror_mode": {
    "name": "ipython",
    "version": 3
   },
   "file_extension": ".py",
   "mimetype": "text/x-python",
   "name": "python",
   "nbconvert_exporter": "python",
   "pygments_lexer": "ipython3",
   "version": "3.9.7"
  }
 },
 "nbformat": 4,
 "nbformat_minor": 5
}
