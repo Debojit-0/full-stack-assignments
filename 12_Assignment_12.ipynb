{
 "cells": [
  {
   "cell_type": "code",
   "execution_count": 1,
   "id": "9f50a321",
   "metadata": {},
   "outputs": [],
   "source": [
    "#1-  yes it voilates as stings are immutable"
   ]
  },
  {
   "cell_type": "code",
   "execution_count": 4,
   "id": "48a78d4d",
   "metadata": {},
   "outputs": [
    {
     "data": {
      "text/plain": [
       "'NO BCS WHEN U ADD + THE ENTIRE STRING MEMORY ID OR LOCATION CHANGES AND NOW ITS REFERING TO A NEW LOCATION ITS NOT THE SAME MEMORY LOCATION\\nAND THE GARBAGE COLLECTER RELEASES THE PREVIOUS VARIABLE IF IT HAS NO REFRENCE TO AN OBJECT'"
      ]
     },
     "execution_count": 4,
     "metadata": {},
     "output_type": "execute_result"
    }
   ],
   "source": [
    "#2 -\n",
    "\"\"\"NO BCS WHEN U ADD + THE ENTIRE STRING MEMORY ID OR LOCATION CHANGES AND NOW ITS REFERING TO A NEW LOCATION ITS NOT THE SAME MEMORY LOCATION\n",
    "AND THE GARBAGE COLLECTER RELEASES THE PREVIOUS VARIABLE IF IT HAS NO REFRENCE TO AN OBJECT\"\"\""
   ]
  },
  {
   "cell_type": "code",
   "execution_count": 5,
   "id": "05cc6400",
   "metadata": {},
   "outputs": [
    {
     "data": {
      "text/plain": [
       "' Accessing Characters by Positive Index Number\\nAccessing Characters by Negative Index Number'"
      ]
     },
     "execution_count": 5,
     "metadata": {},
     "output_type": "execute_result"
    }
   ],
   "source": [
    "#3-\n",
    "\"\"\" Accessing Characters by Positive Index Number\n",
    "Accessing Characters by Negative Index Number\"\"\""
   ]
  },
  {
   "cell_type": "code",
   "execution_count": 6,
   "id": "e39da414",
   "metadata": {},
   "outputs": [
    {
     "data": {
      "text/plain": [
       "' Indexing” means referring to an element of an iterable by its position within the iterable. \\n“Slicing” means getting a subset of elements from an iterable based on their indices'"
      ]
     },
     "execution_count": 6,
     "metadata": {},
     "output_type": "execute_result"
    }
   ],
   "source": [
    "#4-\n",
    "\"\"\" Indexing” means referring to an element of an iterable by its position within the iterable. \n",
    "“Slicing” means getting a subset of elements from an iterable based on their indices\"\"\""
   ]
  },
  {
   "cell_type": "code",
   "execution_count": 7,
   "id": "8fa8291a",
   "metadata": {},
   "outputs": [
    {
     "data": {
      "text/plain": [
       "'The index indicates which character you want. It can be any integer expression \\nso long as it evaluates to a valid index value. Note that indexing returns a string  \\nPython has no special type for a single character. It is just a string of length 1'"
      ]
     },
     "execution_count": 7,
     "metadata": {},
     "output_type": "execute_result"
    }
   ],
   "source": [
    "#5-\n",
    "\"\"\"The index indicates which character you want. It can be any integer expression \n",
    "so long as it evaluates to a valid index value. Note that indexing returns a string  \n",
    "Python has no special type for a single character. It is just a string of length 1\"\"\""
   ]
  },
  {
   "cell_type": "code",
   "execution_count": 8,
   "id": "2d8064d1",
   "metadata": {},
   "outputs": [
    {
     "data": {
      "text/plain": [
       "'Using + operator \\n \\nUsing join() method \\n \\nUsing % operator \\n \\nUsing format() function '"
      ]
     },
     "execution_count": 8,
     "metadata": {},
     "output_type": "execute_result"
    }
   ],
   "source": [
    "#7-\n",
    "\"\"\"Using + operator \n",
    " \n",
    "Using join() method \n",
    " \n",
    "Using % operator \n",
    " \n",
    "Using format() function \"\"\""
   ]
  },
  {
   "cell_type": "code",
   "execution_count": 9,
   "id": "ec7fb283",
   "metadata": {},
   "outputs": [
    {
     "data": {
      "text/plain": [
       "' with in or not helps you to find the charecter is present in theat string and it gives a boolean result which saves  a lot of time \\nbefore indexing '"
      ]
     },
     "execution_count": 9,
     "metadata": {},
     "output_type": "execute_result"
    }
   ],
   "source": [
    "#8-\n",
    "\"\"\" with in or not helps you to find the charecter is present in theat string and it gives a boolean result which saves  a lot of time \n",
    "before indexing \"\"\"\n"
   ]
  },
  {
   "cell_type": "code",
   "execution_count": null,
   "id": "4d3c43ba",
   "metadata": {},
   "outputs": [],
   "source": [
    "#9-isalpha,isnumeric,isupper,islower\n"
   ]
  }
 ],
 "metadata": {
  "kernelspec": {
   "display_name": "Python 3 (ipykernel)",
   "language": "python",
   "name": "python3"
  },
  "language_info": {
   "codemirror_mode": {
    "name": "ipython",
    "version": 3
   },
   "file_extension": ".py",
   "mimetype": "text/x-python",
   "name": "python",
   "nbconvert_exporter": "python",
   "pygments_lexer": "ipython3",
   "version": "3.9.7"
  }
 },
 "nbformat": 4,
 "nbformat_minor": 5
}
