{
 "cells": [
  {
   "cell_type": "code",
   "execution_count": 92,
   "id": "f69a9a79",
   "metadata": {},
   "outputs": [
    {
     "data": {
      "text/plain": [
       "'ineuron'"
      ]
     },
     "execution_count": 92,
     "metadata": {},
     "output_type": "execute_result"
    }
   ],
   "source": [
    "#1\n",
    "\"ineuron\" "
   ]
  },
  {
   "cell_type": "code",
   "execution_count": 41,
   "id": "51841709",
   "metadata": {},
   "outputs": [
    {
     "name": "stdout",
     "output_type": "stream",
     "text": [
      "iNeuron\n"
     ]
    }
   ],
   "source": [
    "#2\n",
    "X = 'iNeuron'\n",
    "def func():\n",
    "    X = 'NI!'\n",
    "func()\n",
    "print(X)\n",
    "\n",
    "#NOTE -  THE O/P IS INEURON BCS THERE IS NO RETURN IN func and return and print cannot coexist together so if u would declred print(func())u would have got NI as well\n",
    "\n",
    "\n",
    "\n",
    "\n",
    "   \n"
   ]
  },
  {
   "cell_type": "code",
   "execution_count": 42,
   "id": "25063c2f",
   "metadata": {},
   "outputs": [
    {
     "name": "stdout",
     "output_type": "stream",
     "text": [
      "NI!\n",
      "iNeuron\n"
     ]
    }
   ],
   "source": [
    "#3\n",
    "X = 'iNeuron'\n",
    "def func():\n",
    "    X = 'NI!'\n",
    "    print(X)\n",
    "func()\n",
    "print(X)\n",
    "\n",
    "#NOTE -  THE O/P HERE IS INEURON AND NI BCS X  = NI IS LOCAL VARIABLE AND U HAVE A PRINT STATEMENT"
   ]
  },
  {
   "cell_type": "code",
   "execution_count": 87,
   "id": "88593e50",
   "metadata": {},
   "outputs": [
    {
     "name": "stdout",
     "output_type": "stream",
     "text": [
      "iNeuron\n"
     ]
    },
    {
     "data": {
      "text/plain": [
       "'HERE U GET ONLY I NEURON DESPITE RETURN STATEMENT THST BCS U HAVE  PRINT AND Return statement and when ever u have a glob al variebale\\nthe retirn statement wont be executed until and unless u declare a print statement i.e print(func())'"
      ]
     },
     "execution_count": 87,
     "metadata": {},
     "output_type": "execute_result"
    }
   ],
   "source": [
    "#3 ALTERNATE \n",
    "\n",
    "X = 'iNeuron'\n",
    "def func():\n",
    "    X = 'NI!'\n",
    "    return X\n",
    "func()\n",
    "print(X)\n",
    "\n",
    "#NOTE - \n",
    "\"\"\"HERE U GET ONLY I NEURON DESPITE RETURN STATEMENT THST BCS U HAVE  PRINT AND Return statement and when ever u have a glob al variebale\n",
    "the retirn statement wont be executed until and unless u declare a print statement i.e print(func())\"\"\""
   ]
  },
  {
   "cell_type": "code",
   "execution_count": 94,
   "id": "52d5b3c6",
   "metadata": {},
   "outputs": [
    {
     "name": "stdout",
     "output_type": "stream",
     "text": [
      "NI\n"
     ]
    },
    {
     "data": {
      "text/plain": [
       "'NOTE GLOBAL KWYWORD WILL MAKE THE LOCAL VARIABLE X = NI AS GLOBAL AND OVERWRITE THE X  =INEURON \\nSO GENRALLY A GLOBAL VARIBALE IS DECLARED OUTSIDE THE FUNCTION AND IS ACCESEBLE TO BOTH LOCAL FUNCTION AND OUTSIDE THE FUNCTION \\nAND A LOCAL VARIABLE IS ONLY ACCESSEBLE TO LOCAL FUNCTION BUT BY DECLARING A GLOBAL KEYWORD U CAN MAKE THE LOCAL VARIABLE AS GLOBAL VARIABLE AND THE EXISTING GLOBAL VARIABLE \\nIF THE GLOBAL VARIABLE AND THE LOCAL VARIBALE HAS THE SAME VARIBALE NAME IN THIS CASE ITS X BUT IF THE GLOBAL VARIABLE WAS Y = INEURON\\nTHEN IT WONT REPLACE AND WILL PRINT BOITH X  = NI AND Y = INEURON'"
      ]
     },
     "execution_count": 94,
     "metadata": {},
     "output_type": "execute_result"
    }
   ],
   "source": [
    "#4-\n",
    "X = 'iNeuron'\n",
    "def func():\n",
    "    global X\n",
    "    X ='NI'\n",
    "func()\n",
    "print(X)\n",
    "\n",
    "\n",
    "#NOTE - \n",
    "\"\"\"NOTE GLOBAL KWYWORD WILL MAKE THE LOCAL VARIABLE X = NI AS GLOBAL AND OVERWRITE THE X  =INEURON \n",
    "SO GENRALLY A GLOBAL VARIBALE IS DECLARED OUTSIDE THE FUNCTION AND IS ACCESEBLE TO BOTH LOCAL FUNCTION AND OUTSIDE THE FUNCTION \n",
    "AND A LOCAL VARIABLE IS ONLY ACCESSEBLE TO LOCAL FUNCTION BUT BY DECLARING A GLOBAL KEYWORD U CAN MAKE THE LOCAL VARIABLE AS GLOBAL VARIABLE AND THE EXISTING GLOBAL VARIABLE \n",
    "IF THE GLOBAL VARIABLE AND THE LOCAL VARIBALE HAS THE SAME VARIBALE NAME IN THIS CASE ITS X BUT IF THE GLOBAL VARIABLE WAS Y = INEURON\n",
    "THEN IT WONT REPLACE AND WILL PRINT BOITH X  = NI AND Y = INEURON\"\"\"\n",
    "\n"
   ]
  },
  {
   "cell_type": "code",
   "execution_count": 69,
   "id": "467db353",
   "metadata": {},
   "outputs": [
    {
     "name": "stdout",
     "output_type": "stream",
     "text": [
      "NI\n"
     ]
    },
    {
     "data": {
      "text/plain": [
       "' step1 - func() will be called then it will move inside func() and go to next line x = NI\\nStep 2 - it will go to next line nested() till it goes to nested() the nested function wont be executed and then it will print x inside \\nnested function i.e print(x)\\n\\nstep 3 - then it will come out of the function and not print x  as there is no print(X) i.e ineuron'"
      ]
     },
     "execution_count": 69,
     "metadata": {},
     "output_type": "execute_result"
    }
   ],
   "source": [
    "#5-\n",
    "X = 'iNeuron'\n",
    "def func():\n",
    "    X = 'NI'\n",
    "    def nested():\n",
    "        print(X)\n",
    "    nested()\n",
    "func()\n",
    "X\n",
    "\n",
    "#note -\n",
    "\"\"\" step1 - func() will be called then it will move inside func() and go to next line x = NI\n",
    "Step 2 - it will go to next line nested() till it goes to nested() the nested function wont be executed and then it will print x inside \n",
    "nested function i.e print(x)\n",
    "\n",
    "step 3 - then it will come out of the function and not print x  as there is no print(X) i.e ineuron\"\"\""
   ]
  },
  {
   "cell_type": "code",
   "execution_count": 91,
   "id": "813255ef",
   "metadata": {},
   "outputs": [
    {
     "name": "stdout",
     "output_type": "stream",
     "text": [
      "spam\n"
     ]
    },
    {
     "data": {
      "text/plain": [
       "'In python, nonlocal variables refer to all those variables that are declared within nested functions. \\n        The local scope of a nonlocal variable is not defined. This essentially means that the variable exists neither in the local scope nor in the global scope.\\n        In order to create a nonlocal variable in pyhton, one needs to use the nonlocal keyword.'"
      ]
     },
     "execution_count": 91,
     "metadata": {},
     "output_type": "execute_result"
    }
   ],
   "source": [
    "#6-\n",
    "def func():\n",
    "    X = 'NI'\n",
    "    def nested():\n",
    "        nonlocal X   \n",
    "        X = 'spam'\n",
    "        print(X)\n",
    "    nested()\n",
    "func()\n",
    "\"\"\"In python, nonlocal variables refer to all those variables that are declared within nested functions. \n",
    "        The local scope of a nonlocal variable is not defined. This essentially means that the variable exists neither in the local scope nor in the global scope.\n",
    "        In order to create a nonlocal variable in pyhton, one needs to use the nonlocal keyword.\"\"\""
   ]
  },
  {
   "cell_type": "code",
   "execution_count": null,
   "id": "3aa46a18",
   "metadata": {},
   "outputs": [],
   "source": []
  },
  {
   "cell_type": "code",
   "execution_count": null,
   "id": "33cdc1d7",
   "metadata": {},
   "outputs": [],
   "source": []
  },
  {
   "cell_type": "code",
   "execution_count": null,
   "id": "8b82f328",
   "metadata": {},
   "outputs": [],
   "source": []
  }
 ],
 "metadata": {
  "kernelspec": {
   "display_name": "Python 3 (ipykernel)",
   "language": "python",
   "name": "python3"
  },
  "language_info": {
   "codemirror_mode": {
    "name": "ipython",
    "version": 3
   },
   "file_extension": ".py",
   "mimetype": "text/x-python",
   "name": "python",
   "nbconvert_exporter": "python",
   "pygments_lexer": "ipython3",
   "version": "3.9.7"
  }
 },
 "nbformat": 4,
 "nbformat_minor": 5
}
