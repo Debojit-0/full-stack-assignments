{
 "cells": [
  {
   "cell_type": "code",
   "execution_count": 1,
   "id": "36070d67",
   "metadata": {},
   "outputs": [],
   "source": [
    "#1 - TRUE AND FALSE. TRUE = 1 AND FALSE = 0"
   ]
  },
  {
   "cell_type": "code",
   "execution_count": 2,
   "id": "bfece1c4",
   "metadata": {},
   "outputs": [],
   "source": [
    "#2 - AND ,OR,NOT"
   ]
  },
  {
   "cell_type": "code",
   "execution_count": 3,
   "id": "98088de2",
   "metadata": {},
   "outputs": [
    {
     "data": {
      "text/plain": [
       "'1 && 1 = 1\\n#    1 && 0 = 0\\n#   0 && 0 = 0\\n#    1 | 0 = 1\\n#   0 | 1 = 1\\n#   1 | 1 = 1\\n#  0 | 0 = 0\\n\\n# - FOR NOT\\n\\n# TRUE (1) -> NOT => FALSE(0)\\n# FALSE (0)-> NOT => TRUE(1)\\n# TRUE && TRUE => NOT = FALSE(0)\\n# True && False => Not = TRUE(1)\\n# FALSE && TRUE => NOT = TRUE(0)\\n# FALSE && FALSE => NOT = TRUE(1)\\n# TRUE | TRUE => NOT = FAKSE(0)\\n# TRUE | FASLE => NOT = FALSE(0)\\n# FALSE | FALSE => NOT = TRUE (1)\\n# FALSE | TRUE => NOT = FALSE(0)'"
      ]
     },
     "execution_count": 3,
     "metadata": {},
     "output_type": "execute_result"
    }
   ],
   "source": [
    "#3- FOR AND , OR\n",
    "\n",
    "\"\"\"1 && 1 = 1\n",
    "#    1 && 0 = 0\n",
    "#   0 && 0 = 0\n",
    "#    1 | 0 = 1\n",
    "#   0 | 1 = 1\n",
    "#   1 | 1 = 1\n",
    "#  0 | 0 = 0\n",
    "\n",
    "# - FOR NOT\n",
    "\n",
    "# TRUE (1) -> NOT => FALSE(0)\n",
    "# FALSE (0)-> NOT => TRUE(1)\n",
    "# TRUE && TRUE => NOT = FALSE(0)\n",
    "# True && False => Not = TRUE(1)\n",
    "# FALSE && TRUE => NOT = TRUE(0)\n",
    "# FALSE && FALSE => NOT = TRUE(1)\n",
    "# TRUE | TRUE => NOT = FAKSE(0)\n",
    "# TRUE | FASLE => NOT = FALSE(0)\n",
    "# FALSE | FALSE => NOT = TRUE (1)\n",
    "# FALSE | TRUE => NOT = FALSE(0)\"\"\"\n",
    "\n"
   ]
  },
  {
   "cell_type": "code",
   "execution_count": 5,
   "id": "681d7fa5",
   "metadata": {},
   "outputs": [
    {
     "data": {
      "text/plain": [
       "'FALSE(0)\\n# FALSE(0)\\n# TRUE(1)\\n#FALSE(0)\\n#FALSE(0)\\n# TRUE(1)'"
      ]
     },
     "execution_count": 5,
     "metadata": {},
     "output_type": "execute_result"
    }
   ],
   "source": [
    "#4 - \n",
    "\n",
    "\"\"\"FALSE(0)\n",
    "# FALSE(0)\n",
    "# TRUE(1)\n",
    "#FALSE(0)\n",
    "#FALSE(0)\n",
    "# TRUE(1)\"\"\""
   ]
  },
  {
   "cell_type": "code",
   "execution_count": 6,
   "id": "32cb8169",
   "metadata": {},
   "outputs": [
    {
     "data": {
      "text/plain": [
       "'FALSE(0)\\n FALSE(0)\\n TRUE(1)\\nFALSE(0)\\nFALSE(0)\\n TRUE(1)'"
      ]
     },
     "execution_count": 6,
     "metadata": {},
     "output_type": "execute_result"
    }
   ],
   "source": [
    "#4 -\n",
    "\"\"\"FALSE(0)\n",
    " FALSE(0)\n",
    " TRUE(1)\n",
    "FALSE(0)\n",
    "FALSE(0)\n",
    " TRUE(1)\"\"\"\n"
   ]
  },
  {
   "cell_type": "code",
   "execution_count": 7,
   "id": "93d42ee6",
   "metadata": {},
   "outputs": [],
   "source": [
    "#5-  EQUAL TO , GREATER THEN, LESS THEN , NOT EQUAL TO, LESS THEN OR EQUAL TO , GREATER THEN OR EQUAL TO"
   ]
  },
  {
   "cell_type": "code",
   "execution_count": 9,
   "id": "ec6da417",
   "metadata": {},
   "outputs": [
    {
     "data": {
      "text/plain": [
       "' A == B - IS EQUAL TO i.e DOUBLE EQUALS TO EQUAL TO\\nA = B - IS ASSIGNMENT i.e signgle equal to'"
      ]
     },
     "execution_count": 9,
     "metadata": {},
     "output_type": "execute_result"
    }
   ],
   "source": [
    "#6 - \n",
    "\"\"\" A == B - IS EQUAL TO i.e DOUBLE EQUALS TO EQUAL TO\n",
    "A = B - IS ASSIGNMENT i.e signgle equal to\"\"\""
   ]
  },
  {
   "cell_type": "code",
   "execution_count": 10,
   "id": "ea05a13d",
   "metadata": {},
   "outputs": [
    {
     "data": {
      "text/plain": [
       "'\" ham\\n spam\\nspam'"
      ]
     },
     "execution_count": 10,
     "metadata": {},
     "output_type": "execute_result"
    }
   ],
   "source": [
    "#7-\n",
    "\"\"\"\" ham\n",
    " spam\n",
    "spam\"\"\""
   ]
  },
  {
   "cell_type": "code",
   "execution_count": 14,
   "id": "5ceb6b8d",
   "metadata": {},
   "outputs": [
    {
     "name": "stdout",
     "output_type": "stream",
     "text": [
      "enter a number-1\n",
      "greetings\n"
     ]
    }
   ],
   "source": [
    "#8 - \n",
    "spam = int(input(\"enter a number\"))\n",
    "if spam == 1:\n",
    "    \n",
    "    print(\"hello\")\n",
    "elif spam == 2:\n",
    "    print(\"howdy\")\n",
    "else:\n",
    "    print(\"greetings\")"
   ]
  },
  {
   "cell_type": "code",
   "execution_count": 16,
   "id": "69214510",
   "metadata": {},
   "outputs": [],
   "source": [
    "#9-ctrl + c"
   ]
  },
  {
   "cell_type": "code",
   "execution_count": 17,
   "id": "829c453f",
   "metadata": {},
   "outputs": [
    {
     "data": {
      "text/plain": [
       "'break - terminates the entine loop instantly\\n continue - The continue statement is used to skip the rest of the code inside a loop for the current iteration only. \\nLoop does not terminate but continues on with the next iteration'"
      ]
     },
     "execution_count": 17,
     "metadata": {},
     "output_type": "execute_result"
    }
   ],
   "source": [
    "#10 - \n",
    "\"\"\"break - terminates the entine loop instantly\n",
    " continue - The continue statement is used to skip the rest of the code inside a loop for the current iteration only. \n",
    "Loop does not terminate but continues on with the next iteration\"\"\""
   ]
  },
  {
   "cell_type": "code",
   "execution_count": 18,
   "id": "5713a0ca",
   "metadata": {},
   "outputs": [
    {
     "data": {
      "text/plain": [
       "' range 10 - means the loop will run for 10 times i.e 0 to 9 or by default it will start from zero\\n range (0,10) - means the loop will start from zero and end at 9 eg - if i say 1 ,9 it will start from 1 insted of zero unlike mentioned above.\\n range(0,10,1) - means it will start from zero and end at 9 or the loop will run for 10 times at an interval of 1.'"
      ]
     },
     "execution_count": 18,
     "metadata": {},
     "output_type": "execute_result"
    }
   ],
   "source": [
    "#11- \n",
    "\"\"\" range 10 - means the loop will run for 10 times i.e 0 to 9 or by default it will start from zero\n",
    " range (0,10) - means the loop will start from zero and end at 9 eg - if i say 1 ,9 it will start from 1 insted of zero unlike mentioned above.\n",
    " range(0,10,1) - means it will start from zero and end at 9 or the loop will run for 10 times at an interval of 1.\"\"\""
   ]
  },
  {
   "cell_type": "code",
   "execution_count": 19,
   "id": "211f2549",
   "metadata": {},
   "outputs": [
    {
     "name": "stdout",
     "output_type": "stream",
     "text": [
      "1\n",
      "2\n",
      "3\n",
      "4\n",
      "5\n",
      "6\n",
      "7\n",
      "8\n",
      "9\n",
      "10\n"
     ]
    }
   ],
   "source": [
    "#12- \n",
    "\n",
    "for i in range(1,11):\n",
    "    print(i)\n",
    "    "
   ]
  },
  {
   "cell_type": "code",
   "execution_count": 20,
   "id": "2aca50d1",
   "metadata": {},
   "outputs": [
    {
     "name": "stdout",
     "output_type": "stream",
     "text": [
      "1\n",
      "2\n",
      "3\n",
      "4\n",
      "5\n",
      "6\n",
      "7\n",
      "8\n",
      "9\n",
      "10\n"
     ]
    }
   ],
   "source": [
    "#13-\n",
    "\n",
    "i = 1\n",
    "\n",
    "while i<11:\n",
    "    print(i)\n",
    "    i=i+1"
   ]
  },
  {
   "cell_type": "code",
   "execution_count": 21,
   "id": "6987b47c",
   "metadata": {},
   "outputs": [],
   "source": [
    "#14- as we are importing spam and bacon is afuction or method in spam so spam is the class so we call it by spam.bacon()"
   ]
  },
  {
   "cell_type": "code",
   "execution_count": null,
   "id": "1d907891",
   "metadata": {},
   "outputs": [],
   "source": []
  }
 ],
 "metadata": {
  "kernelspec": {
   "display_name": "Python 3 (ipykernel)",
   "language": "python",
   "name": "python3"
  },
  "language_info": {
   "codemirror_mode": {
    "name": "ipython",
    "version": 3
   },
   "file_extension": ".py",
   "mimetype": "text/x-python",
   "name": "python",
   "nbconvert_exporter": "python",
   "pygments_lexer": "ipython3",
   "version": "3.9.7"
  }
 },
 "nbformat": 4,
 "nbformat_minor": 5
}
