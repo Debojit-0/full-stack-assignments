{
 "cells": [
  {
   "cell_type": "code",
   "execution_count": 1,
   "id": "0135989a",
   "metadata": {},
   "outputs": [],
   "source": [
    "#1-\n",
    "import datetime\n",
    "from datetime import date\n",
    "current = date.today()\n",
    "current1 = str(current)\n",
    "\n",
    "with open('today.txt','w') as file: #NOTE -  TO READ A DATE TO A TXT FILE IT SHOULD BE CONVERTED TO STRING FIRST OR ELSE U WILL GET AN TYPE ERROR\n",
    "     file.write(current1)\n",
    "\n"
   ]
  },
  {
   "cell_type": "code",
   "execution_count": 2,
   "id": "d0f6daab",
   "metadata": {},
   "outputs": [
    {
     "data": {
      "text/plain": [
       "'2022-06-09'"
      ]
     },
     "execution_count": 2,
     "metadata": {},
     "output_type": "execute_result"
    }
   ],
   "source": [
    "#2- \n",
    "with open('today.txt','r') as file:\n",
    "    today_string=file.read()\n",
    "today_string\n",
    "\n",
    "    "
   ]
  },
  {
   "cell_type": "code",
   "execution_count": 6,
   "id": "b48728e4",
   "metadata": {},
   "outputs": [
    {
     "data": {
      "text/plain": [
       "datetime.datetime(2022, 6, 9, 0, 0)"
      ]
     },
     "execution_count": 6,
     "metadata": {},
     "output_type": "execute_result"
    }
   ],
   "source": [
    "#3-\n",
    "#syntax is variable = datetime.datetime.strptime(date variable, format)\n",
    "form = '%Y-%m-%d'  #note - use this link for format(https://strftime.org/),also the format here had - but if u have 2022/06/09 then u should use (form = %Y/%m/%d) \n",
    "date_ob = datetime.datetime.strptime(today_string,form)\n",
    "date_ob"
   ]
  },
  {
   "cell_type": "code",
   "execution_count": 36,
   "id": "682fe3ba",
   "metadata": {},
   "outputs": [
    {
     "data": {
      "text/plain": [
       "['-1.14-windows.xml',\n",
       " '.anaconda',\n",
       " '.android',\n",
       " '.astropy',\n",
       " '.aws',\n",
       " '.azure',\n",
       " '.bash_history',\n",
       " '.cassandra',\n",
       " '.conda',\n",
       " '.condarc',\n",
       " '.continuum',\n",
       " '.docker',\n",
       " '.ipynb_checkpoints',\n",
       " '.ipython',\n",
       " '.jupyter',\n",
       " '.matplotlib',\n",
       " '.Origin',\n",
       " '.QtWebEngineProcess',\n",
       " '.quokka',\n",
       " '.ssh',\n",
       " '3D Objects',\n",
       " 'anaconda3',\n",
       " 'ansel',\n",
       " 'app.py',\n",
       " 'AppData',\n",
       " 'Application Data',\n",
       " 'assignment - 1.ipynb',\n",
       " 'ASSIGNMENT - 2.ipynb',\n",
       " 'assignment 10 q5.ipynb',\n",
       " 'assignment 11.ipynb',\n",
       " 'assignment 12 .ipynb',\n",
       " 'assignment 13.ipynb',\n",
       " 'assignment 13312665.ipynb',\n",
       " 'assignment 15.ipynb',\n",
       " 'assignment 16.ipynb',\n",
       " 'assignment 17.ipynb',\n",
       " 'assignment 18.ipynb',\n",
       " 'assignment 19.ipynb',\n",
       " 'assignment 20.ipynb',\n",
       " 'assignment 20.txt',\n",
       " 'assignment 21.ipynb',\n",
       " 'assignment practise.ipynb',\n",
       " 'book.csv',\n",
       " 'book1.csv',\n",
       " 'books.csv',\n",
       " 'books.db',\n",
       " 'carbon_nanotubes.csv',\n",
       " 'cassandra basic queries.ipynb',\n",
       " 'class and objects.ipynb',\n",
       " 'Contacts',\n",
       " 'Cookies',\n",
       " 'Desktop',\n",
       " 'Documents',\n",
       " 'Downloads',\n",
       " 'Dropbox',\n",
       " 'Envs',\n",
       " 'Favorites',\n",
       " 'hellothere.docx',\n",
       " 'IntelGraphicsProfiles',\n",
       " 'Links',\n",
       " 'Local Settings',\n",
       " 'Music',\n",
       " 'My Documents',\n",
       " 'my sql1.ipynb',\n",
       " 'NetHood',\n",
       " 'NTUSER.DAT',\n",
       " 'ntuser.dat.LOG1',\n",
       " 'ntuser.dat.LOG2',\n",
       " 'NTUSER.DAT{28cb1068-3840-11ec-8d60-d3dac406e125}.TM.blf',\n",
       " 'NTUSER.DAT{28cb1068-3840-11ec-8d60-d3dac406e125}.TMContainer00000000000000000001.regtrans-ms',\n",
       " 'NTUSER.DAT{28cb1068-3840-11ec-8d60-d3dac406e125}.TMContainer00000000000000000002.regtrans-ms',\n",
       " 'ntuser.ini',\n",
       " 'OneDrive',\n",
       " 'pandas practise.ipynb',\n",
       " 'Pandas session 1.ipynb',\n",
       " 'Pictures',\n",
       " 'Postman',\n",
       " 'PrintHood',\n",
       " 'projects',\n",
       " 'PycharmProjects',\n",
       " 'python basics - assignement 2.ipynb',\n",
       " 'Quantum',\n",
       " 'Recent',\n",
       " 'Revision and task solving (1).ipynb',\n",
       " 'Saved Games',\n",
       " 'Searches',\n",
       " 'SendTo',\n",
       " 'source',\n",
       " 'sql basic 3 pm class.ipynb',\n",
       " 'Start Menu',\n",
       " 'Templates',\n",
       " 'test.txt',\n",
       " 'test1.csv',\n",
       " 'test1.log',\n",
       " 'The Unit LLCSDVOSBCert.pdf',\n",
       " 'today.txt',\n",
       " 'Tracing',\n",
       " 'Untitled Folder',\n",
       " 'Untitled.ipynb',\n",
       " 'Untitled1.ipynb',\n",
       " 'Untitled10.ipynb',\n",
       " 'Untitled11.ipynb',\n",
       " 'Untitled12.ipynb',\n",
       " 'Untitled13.ipynb',\n",
       " 'Untitled14.ipynb',\n",
       " 'Untitled15.ipynb',\n",
       " 'Untitled16.ipynb',\n",
       " 'Untitled17.ipynb',\n",
       " 'Untitled18.ipynb',\n",
       " 'Untitled19.ipynb',\n",
       " 'Untitled2.ipynb',\n",
       " 'Untitled20.ipynb',\n",
       " 'Untitled21.ipynb',\n",
       " 'Untitled22.ipynb',\n",
       " 'Untitled24.ipynb',\n",
       " 'Untitled25.ipynb',\n",
       " 'Untitled26.ipynb',\n",
       " 'Untitled27.ipynb',\n",
       " 'Untitled28.ipynb',\n",
       " 'Untitled29.ipynb',\n",
       " 'Untitled3.ipynb',\n",
       " 'Untitled30.ipynb',\n",
       " 'Untitled31.ipynb',\n",
       " 'Untitled32.ipynb',\n",
       " 'Untitled33.ipynb',\n",
       " 'Untitled34.ipynb',\n",
       " 'Untitled35.ipynb',\n",
       " 'Untitled36.ipynb',\n",
       " 'Untitled37.ipynb',\n",
       " 'Untitled38.ipynb',\n",
       " 'Untitled4.ipynb',\n",
       " 'Untitled5.ipynb',\n",
       " 'Untitled6.ipynb',\n",
       " 'Untitled7.ipynb',\n",
       " 'Untitled8.ipynb',\n",
       " 'Untitled9.ipynb',\n",
       " 'Videos',\n",
       " 'zoo.ipynb',\n",
       " 'zoo.py',\n",
       " '__pycache__']"
      ]
     },
     "execution_count": 36,
     "metadata": {},
     "output_type": "execute_result"
    }
   ],
   "source": [
    "#4-\n",
    "import os\n",
    "os.listdir()"
   ]
  },
  {
   "cell_type": "code",
   "execution_count": 26,
   "id": "1b363c4e",
   "metadata": {},
   "outputs": [
    {
     "data": {
      "text/plain": [
       "'C:\\\\'"
      ]
     },
     "execution_count": 26,
     "metadata": {},
     "output_type": "execute_result"
    }
   ],
   "source": [
    "#5-\n",
    "from os.path import dirname\n",
    "dirname()"
   ]
  },
  {
   "cell_type": "code",
   "execution_count": 29,
   "id": "2be84eee",
   "metadata": {},
   "outputs": [],
   "source": [
    "#6-\n",
    "import multiprocessing\n",
    "\n",
    "def printsec(seconds):\n",
    "    from datetime import datetime\n",
    "    from time import sleep\n",
    "    sleep(seconds)\n",
    "    print('wait', seconds, 'seconds, time is', datetime.utcnow())\n",
    "    \n",
    "if __name__ == '__main__':\n",
    "    import random    \n",
    "    for n in range(3):\n",
    "        seconds = random.random()\n",
    "        proc = multiprocessing.Process(target=printsec, args=(seconds,))\n",
    "        proc.start()"
   ]
  },
  {
   "cell_type": "code",
   "execution_count": 95,
   "id": "afb6a80a",
   "metadata": {},
   "outputs": [
    {
     "name": "stderr",
     "output_type": "stream",
     "text": [
      "python: can't open file 'C:\\Users\\DEBOJ\\abc.py': [Errno 2] No such file or directory\n"
     ]
    }
   ],
   "source": [
    "!python abc.py"
   ]
  },
  {
   "cell_type": "code",
   "execution_count": 71,
   "id": "24ce519b",
   "metadata": {},
   "outputs": [
    {
     "data": {
      "text/plain": [
       "datetime.date(1995, 12, 13)"
      ]
     },
     "execution_count": 71,
     "metadata": {},
     "output_type": "execute_result"
    }
   ],
   "source": [
    "#7-\n",
    "date_ob1 = datetime.date(1995,12,13) #or just date_ob1 = date(1995,12,11)\n",
    "date_ob1"
   ]
  },
  {
   "cell_type": "code",
   "execution_count": 65,
   "id": "263f64be",
   "metadata": {},
   "outputs": [
    {
     "data": {
      "text/plain": [
       "<function date.weekday>"
      ]
     },
     "execution_count": 65,
     "metadata": {},
     "output_type": "execute_result"
    }
   ],
   "source": [
    "#8-\n",
    "date_ob1.weekday() #for weekday note () in weekday is bcs week day is a function inside datettime class\n",
    " "
   ]
  },
  {
   "cell_type": "code",
   "execution_count": 67,
   "id": "13eb76c8",
   "metadata": {},
   "outputs": [
    {
     "data": {
      "text/plain": [
       "13"
      ]
     },
     "execution_count": 67,
     "metadata": {},
     "output_type": "execute_result"
    }
   ],
   "source": [
    "date_ob1.day # for day note - no bracket for year and day bcs year and day are variables in class datetime"
   ]
  },
  {
   "cell_type": "code",
   "execution_count": 53,
   "id": "5446c538",
   "metadata": {},
   "outputs": [
    {
     "data": {
      "text/plain": [
       "1995"
      ]
     },
     "execution_count": 53,
     "metadata": {},
     "output_type": "execute_result"
    }
   ],
   "source": [
    "date_ob1.year # for year"
   ]
  },
  {
   "cell_type": "code",
   "execution_count": 64,
   "id": "17f6b6fb",
   "metadata": {},
   "outputs": [
    {
     "data": {
      "text/plain": [
       "datetime.date(2023, 4, 30)"
      ]
     },
     "execution_count": 64,
     "metadata": {},
     "output_type": "execute_result"
    }
   ],
   "source": [
    "#9-\n",
    "from datetime import timedelta\n",
    "tdelta = datetime.timedelta(days = 10000) #note - timedelta is a function which tells the difference so u can add the difference or subtract the differece\n",
    "#eg - lets say current date is 2022-06-09 and time delta is 7 days so when u add current date + timedelta u will get 2022-06-16 as 9+7 = 16\n",
    "new_date = (date_ob1 + tdelta)\n",
    "new_date\n"
   ]
  },
  {
   "cell_type": "code",
   "execution_count": null,
   "id": "f02556a8",
   "metadata": {},
   "outputs": [],
   "source": []
  }
 ],
 "metadata": {
  "kernelspec": {
   "display_name": "Python 3 (ipykernel)",
   "language": "python",
   "name": "python3"
  },
  "language_info": {
   "codemirror_mode": {
    "name": "ipython",
    "version": 3
   },
   "file_extension": ".py",
   "mimetype": "text/x-python",
   "name": "python",
   "nbconvert_exporter": "python",
   "pygments_lexer": "ipython3",
   "version": "3.9.7"
  }
 },
 "nbformat": 4,
 "nbformat_minor": 5
}
