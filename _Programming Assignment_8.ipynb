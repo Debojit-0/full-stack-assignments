{
 "cells": [
  {
   "cell_type": "code",
   "execution_count": 17,
   "id": "4b4fa128",
   "metadata": {},
   "outputs": [
    {
     "data": {
      "text/plain": [
       "array([[ 0,  2,  4],\n",
       "       [ 6,  8, 10],\n",
       "       [12, 14, 16]])"
      ]
     },
     "execution_count": 17,
     "metadata": {},
     "output_type": "execute_result"
    }
   ],
   "source": [
    "import numpy as np\n",
    "a = np.arange(9).reshape(3,3) # a range is just like a range in for loop if we just put 9 its the end number we can put starting number as well i.e 1,9\n",
    "# we can also put kike 1,9,2 the 2 is the step\n",
    "b =  np.arange(9).reshape(3,3)\n",
    "np.add(a,b)\n",
    "\n"
   ]
  },
  {
   "cell_type": "code",
   "execution_count": 18,
   "id": "200aa809",
   "metadata": {},
   "outputs": [
    {
     "data": {
      "text/plain": [
       "array([[ 0,  1,  4],\n",
       "       [ 9, 16, 25],\n",
       "       [36, 49, 64]])"
      ]
     },
     "execution_count": 18,
     "metadata": {},
     "output_type": "execute_result"
    }
   ],
   "source": [
    "import numpy as np\n",
    "a = np.arange(9).reshape(3,3)\n",
    "b =  np.arange(9).reshape(3,3)\n",
    "np.multiply(a,b)"
   ]
  },
  {
   "cell_type": "code",
   "execution_count": 52,
   "id": "a7966eaf",
   "metadata": {},
   "outputs": [
    {
     "name": "stdout",
     "output_type": "stream",
     "text": [
      "before transpose:\n",
      "[[ 1  2  3  4]\n",
      " [ 5  6  7  8]\n",
      " [ 9 10 11 12]\n",
      " [13 14 15 16]\n",
      " [17 18 19 20]\n",
      " [21 22 23 24]]\n",
      "after transpose:\n",
      "[[ 1  5  9 13 17 21]\n",
      " [ 2  6 10 14 18 22]\n",
      " [ 3  7 11 15 19 23]\n",
      " [ 4  8 12 16 20 24]]\n"
     ]
    }
   ],
   "source": [
    "import numpy as np\n",
    "print(\"before transpose:\")\n",
    "a = np.arange(1,25).reshape(6,4)\n",
    "print(a)\n",
    "# use the transpose function\n",
    "print(\"after transpose:\")\n",
    "b= np.transpose(a)\n",
    "print(b)\n"
   ]
  },
  {
   "cell_type": "code",
   "execution_count": 68,
   "id": "fd36f29d",
   "metadata": {},
   "outputs": [
    {
     "data": {
      "text/html": [
       "<div>\n",
       "<style scoped>\n",
       "    .dataframe tbody tr th:only-of-type {\n",
       "        vertical-align: middle;\n",
       "    }\n",
       "\n",
       "    .dataframe tbody tr th {\n",
       "        vertical-align: top;\n",
       "    }\n",
       "\n",
       "    .dataframe thead th {\n",
       "        text-align: right;\n",
       "    }\n",
       "</style>\n",
       "<table border=\"1\" class=\"dataframe\">\n",
       "  <thead>\n",
       "    <tr style=\"text-align: right;\">\n",
       "      <th></th>\n",
       "      <th>0</th>\n",
       "    </tr>\n",
       "  </thead>\n",
       "  <tbody>\n",
       "    <tr>\n",
       "      <th>5</th>\n",
       "      <td>andy</td>\n",
       "    </tr>\n",
       "    <tr>\n",
       "      <th>0</th>\n",
       "      <td>hello</td>\n",
       "    </tr>\n",
       "    <tr>\n",
       "      <th>2</th>\n",
       "      <td>hotel</td>\n",
       "    </tr>\n",
       "    <tr>\n",
       "      <th>1</th>\n",
       "      <td>jam</td>\n",
       "    </tr>\n",
       "    <tr>\n",
       "      <th>4</th>\n",
       "      <td>paul</td>\n",
       "    </tr>\n",
       "    <tr>\n",
       "      <th>3</th>\n",
       "      <td>ram</td>\n",
       "    </tr>\n",
       "  </tbody>\n",
       "</table>\n",
       "</div>"
      ],
      "text/plain": [
       "       0\n",
       "5   andy\n",
       "0  hello\n",
       "2  hotel\n",
       "1    jam\n",
       "4   paul\n",
       "3    ram"
      ]
     },
     "execution_count": 68,
     "metadata": {},
     "output_type": "execute_result"
    }
   ],
   "source": [
    "import pandas as pd\n",
    "l = [ \"hello\", \"jam\",\"hotel\",\"ram\",\"paul\",\"andy\"]\n",
    "df = pd.DataFrame(l)\n",
    "df.sort_values(by = 0)"
   ]
  },
  {
   "cell_type": "code",
   "execution_count": 83,
   "id": "f9f5b90c",
   "metadata": {},
   "outputs": [
    {
     "data": {
      "text/plain": [
       "'hello  how r u i hope ur doing well  How is Andy Andys email was andygmailcom'"
      ]
     },
     "execution_count": 83,
     "metadata": {},
     "output_type": "execute_result"
    }
   ],
   "source": [
    "#method1\n",
    "import string\n",
    "s = \"hello , how r u. i hope ur doing well !. How is Andy?. Andys email was andy@gmail.com.\"\n",
    "\n",
    "punct = string.punctuation #punctualtion is function of class string which gives a list of punctuation\n",
    "\"\"\"now to remove punctuation we will use translate method and translate method needs a table\n",
    "to create a table we need maketrans method this creates a table\"\"\"\n",
    "#syntax - s.maketrans(old string,new string u want to replace with,string u want to remove )\n",
    "t= s.maketrans(\"\",\"\",punct) # the reason i put space bcs i dont want any chater other then punctuations to rbe removed\n",
    "#syntax for translate - s.translate(tablename) - here the table name is t u can put any name in place of t\n",
    "s.translate(t) # this will remove all the \n"
   ]
  },
  {
   "cell_type": "code",
   "execution_count": 104,
   "id": "434e943e",
   "metadata": {},
   "outputs": [
    {
     "name": "stdout",
     "output_type": "stream",
     "text": [
      "Welcome to GeeksforGeeks\n"
     ]
    }
   ],
   "source": [
    "#method 2\n",
    "import string\n",
    "punctuations = string.punctuation\n",
    "\n",
    "def Punctuation(string):\n",
    "    global punctuations \n",
    "    \n",
    "    \n",
    "    \n",
    "    for x in string:\n",
    "        if x in punctuations:\n",
    "            string = string.replace(x, \"\")\n",
    "    print(string)\n",
    "            \n",
    "    \n",
    "\n",
    "\n",
    "\n",
    "\n",
    "\n",
    "\n",
    "\n",
    "strings = \"Welcome???@@##$ to#$% Geeks%$^for$%^&Geeks\"\n",
    "Punctuation(strings)\n",
    "\n",
    "\n"
   ]
  },
  {
   "cell_type": "code",
   "execution_count": null,
   "id": "d057240c",
   "metadata": {},
   "outputs": [],
   "source": []
  }
 ],
 "metadata": {
  "kernelspec": {
   "display_name": "Python 3 (ipykernel)",
   "language": "python",
   "name": "python3"
  },
  "language_info": {
   "codemirror_mode": {
    "name": "ipython",
    "version": 3
   },
   "file_extension": ".py",
   "mimetype": "text/x-python",
   "name": "python",
   "nbconvert_exporter": "python",
   "pygments_lexer": "ipython3",
   "version": "3.9.7"
  }
 },
 "nbformat": 4,
 "nbformat_minor": 5
}
