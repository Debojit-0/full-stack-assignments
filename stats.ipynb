{
 "cells": [
  {
   "cell_type": "code",
   "execution_count": 80,
   "id": "ce7dad9d",
   "metadata": {},
   "outputs": [
    {
     "data": {
      "text/html": [
       "<div>\n",
       "<style scoped>\n",
       "    .dataframe tbody tr th:only-of-type {\n",
       "        vertical-align: middle;\n",
       "    }\n",
       "\n",
       "    .dataframe tbody tr th {\n",
       "        vertical-align: top;\n",
       "    }\n",
       "\n",
       "    .dataframe thead th {\n",
       "        text-align: right;\n",
       "    }\n",
       "</style>\n",
       "<table border=\"1\" class=\"dataframe\">\n",
       "  <thead>\n",
       "    <tr style=\"text-align: right;\">\n",
       "      <th></th>\n",
       "      <th>Patient ID</th>\n",
       "      <th>Before</th>\n",
       "      <th>After</th>\n",
       "    </tr>\n",
       "  </thead>\n",
       "  <tbody>\n",
       "    <tr>\n",
       "      <th>0</th>\n",
       "      <td>1</td>\n",
       "      <td>120</td>\n",
       "      <td>120</td>\n",
       "    </tr>\n",
       "    <tr>\n",
       "      <th>1</th>\n",
       "      <td>2</td>\n",
       "      <td>122</td>\n",
       "      <td>135</td>\n",
       "    </tr>\n",
       "    <tr>\n",
       "      <th>2</th>\n",
       "      <td>3</td>\n",
       "      <td>124</td>\n",
       "      <td>118</td>\n",
       "    </tr>\n",
       "    <tr>\n",
       "      <th>3</th>\n",
       "      <td>4</td>\n",
       "      <td>124</td>\n",
       "      <td>127</td>\n",
       "    </tr>\n",
       "    <tr>\n",
       "      <th>4</th>\n",
       "      <td>5</td>\n",
       "      <td>124</td>\n",
       "      <td>140</td>\n",
       "    </tr>\n",
       "    <tr>\n",
       "      <th>...</th>\n",
       "      <td>...</td>\n",
       "      <td>...</td>\n",
       "      <td>...</td>\n",
       "    </tr>\n",
       "    <tr>\n",
       "      <th>95</th>\n",
       "      <td>96</td>\n",
       "      <td>145</td>\n",
       "      <td>129</td>\n",
       "    </tr>\n",
       "    <tr>\n",
       "      <th>96</th>\n",
       "      <td>97</td>\n",
       "      <td>145</td>\n",
       "      <td>137</td>\n",
       "    </tr>\n",
       "    <tr>\n",
       "      <th>97</th>\n",
       "      <td>98</td>\n",
       "      <td>145</td>\n",
       "      <td>123</td>\n",
       "    </tr>\n",
       "    <tr>\n",
       "      <th>98</th>\n",
       "      <td>99</td>\n",
       "      <td>145</td>\n",
       "      <td>135</td>\n",
       "    </tr>\n",
       "    <tr>\n",
       "      <th>99</th>\n",
       "      <td>100</td>\n",
       "      <td>148</td>\n",
       "      <td>130</td>\n",
       "    </tr>\n",
       "  </tbody>\n",
       "</table>\n",
       "<p>100 rows × 3 columns</p>\n",
       "</div>"
      ],
      "text/plain": [
       "    Patient ID  Before  After\n",
       "0            1     120    120\n",
       "1            2     122    135\n",
       "2            3     124    118\n",
       "3            4     124    127\n",
       "4            5     124    140\n",
       "..         ...     ...    ...\n",
       "95          96     145    129\n",
       "96          97     145    137\n",
       "97          98     145    123\n",
       "98          99     145    135\n",
       "99         100     148    130\n",
       "\n",
       "[100 rows x 3 columns]"
      ]
     },
     "execution_count": 80,
     "metadata": {},
     "output_type": "execute_result"
    }
   ],
   "source": [
    "#3-\n",
    "import pandas as pd\n",
    "import numpy as np\n",
    "import numpy as np\n",
    "import matplotlib.pyplot as plt\n",
    "import scipy.stats as stats\n",
    "\n",
    "df=pd.read_csv(r\"C:\\Users\\DEBOJ\\Downloads\\data.csv\")\n",
    "df"
   ]
  },
  {
   "cell_type": "code",
   "execution_count": 81,
   "id": "b32067a8",
   "metadata": {},
   "outputs": [],
   "source": [
    "#a\n",
    "rangee = df[\"Before\"].max()-df[\"Before\"].min()"
   ]
  },
  {
   "cell_type": "code",
   "execution_count": 82,
   "id": "e16ac615",
   "metadata": {},
   "outputs": [],
   "source": [
    "rangeee1 = df[\"After\"].max()-df[\"After\"].min()"
   ]
  },
  {
   "cell_type": "code",
   "execution_count": 94,
   "id": "44c46471",
   "metadata": {},
   "outputs": [],
   "source": [
    "#b\n",
    "a = df[\"Before\"].mean()\n",
    "b = df[\"After\"].mean()\n",
    "ci=1-0.05"
   ]
  },
  {
   "cell_type": "code",
   "execution_count": 95,
   "id": "1eed4703",
   "metadata": {
    "scrolled": true
   },
   "outputs": [],
   "source": [
    "confidence_interval_bp_before = stats.t.interval(0.95, len(df)-1, loc=a, scale=stats.sem(df['Before']))\n"
   ]
  },
  {
   "cell_type": "code",
   "execution_count": 96,
   "id": "6ae277a4",
   "metadata": {},
   "outputs": [],
   "source": [
    "confidence_interval_bp_after = stats.t.interval(0.95, len(df)-1, loc=b, scale=stats.sem(df['After']))\n"
   ]
  },
  {
   "cell_type": "code",
   "execution_count": 97,
   "id": "a5a6114d",
   "metadata": {},
   "outputs": [
    {
     "data": {
      "text/plain": [
       "((132.60075849172767, 135.21924150827232),\n",
       " (126.99326697818071, 129.7267330218193))"
      ]
     },
     "execution_count": 97,
     "metadata": {},
     "output_type": "execute_result"
    }
   ],
   "source": [
    "confidence_interval_bp_before,confidence_interval_bp_after"
   ]
  },
  {
   "cell_type": "code",
   "execution_count": 102,
   "id": "c4b9cb6e",
   "metadata": {},
   "outputs": [],
   "source": [
    "#c-\n",
    "mad_bp_before = np.mean(np.abs(df['Before'] - np.mean(df['Before'])))\n",
    "mad_bp_after = np.mean(np.abs(df['After'] - np.mean(df['After'])))\n",
    "\n",
    "# Calculate Standard Deviation (SD)\n",
    "sd_bp_before = np.std(df['Before'])\n",
    "sd_bp_after = np.std(df['After'])"
   ]
  },
  {
   "cell_type": "code",
   "execution_count": 105,
   "id": "e16085f6",
   "metadata": {},
   "outputs": [
    {
     "data": {
      "text/plain": [
       "array([[1.        , 0.03828015],\n",
       "       [0.03828015, 1.        ]])"
      ]
     },
     "execution_count": 105,
     "metadata": {},
     "output_type": "execute_result"
    }
   ],
   "source": [
    "#d-\n",
    "r = np.corrcoef(df['Before'],df['After'])\n",
    "r"
   ]
  },
  {
   "cell_type": "code",
   "execution_count": 12,
   "id": "4a242b37",
   "metadata": {},
   "outputs": [
    {
     "data": {
      "text/plain": [
       "ShapiroResult(statistic=0.9561749696731567, pvalue=0.0060735102742910385)"
      ]
     },
     "execution_count": 12,
     "metadata": {},
     "output_type": "execute_result"
    }
   ],
   "source": [
    "#-6\n",
    "\n",
    "import scipy.stats as stats\n",
    "\n",
    "differences = [10, 7, 2, 8, 8, 4, 8, 6, 5, 3, 6, 8, 7, 9, 6, 6, 6, 4, 4, 7, 4, 5, 7, 7, 3, 6, 7, 4, 5, 5, 5, 7, 7, 6, 5, 4, 6, 7, 8, 6, 3, 5, 5, 5, 5, 4, 6, 7, 7, 6, 4, 4, 5, 6, 6, 6, 3, 5, 5, 4, 5, 4, 6, 7, 7, 6, 4, 4, 5, 6, 6, 6, 4, 7, 5, 6, 4, 6, 7, 7, 6, 4, 4, 5]\n",
    "import scipy.stats as stats\n",
    "\n",
    "p_value = stats.shapiro(differences)\n",
    "p_value "
   ]
  },
  {
   "cell_type": "code",
   "execution_count": 6,
   "id": "b0b868b0",
   "metadata": {},
   "outputs": [
    {
     "name": "stdout",
     "output_type": "stream",
     "text": [
      "Wilcoxon signed-rank test results:\n",
      "Test statistic: 19.0\n",
      "P-value: 0.431640625\n",
      "it doesot have any significant impact\n"
     ]
    }
   ],
   "source": [
    "#8\n",
    "ho = \"it doesot have any significant impact\"\n",
    "h1= \"it has significant impact\"\n",
    "from scipy.stats import wilcoxon\n",
    "\n",
    "# Differences between before and after therapy scores\n",
    "differences = [-2, -1, -2, -1, -2, 1, -1, -1, 2, 2]\n",
    "\n",
    "# Perform Wilcoxon signed-rank test\n",
    "statistic, p_value = wilcoxon(differences)\n",
    "\n",
    "print(\"Wilcoxon signed-rank test results:\")\n",
    "print(f\"Test statistic: {statistic}\")\n",
    "print(f\"P-value: {p_value}\")\n",
    "\n",
    "# Check significance level\n",
    "alpha = 0.05\n",
    "if p_value < alpha:\n",
    "    print(h1)\n",
    "else:\n",
    "    print(ho)\n"
   ]
  },
  {
   "cell_type": "code",
   "execution_count": 7,
   "id": "37c78c4e",
   "metadata": {},
   "outputs": [
    {
     "name": "stdout",
     "output_type": "stream",
     "text": [
      "mean=110.16 stdv=2.11\n"
     ]
    }
   ],
   "source": [
    "import math\n",
    "import numpy as np\n",
    "from numpy.random import randn\n",
    "from statsmodels.stats.weightstats import ztest\n",
    "  \n",
    "# Generate a random array of 50 numbers having mean 110 and sd 15\n",
    "# similar to the IQ scores data we assume above\n",
    "mean_iq = 110\n",
    "sd_iq = 15/math.sqrt(50)\n",
    "alpha =0.05\n",
    "null_mean =100\n",
    "data = sd_iq*randn(50)+mean_iq\n",
    "# print mean and sd\n",
    "print('mean=%.2f stdv=%.2f' % (np.mean(data), np.std(data)))"
   ]
  },
  {
   "cell_type": "code",
   "execution_count": null,
   "id": "26405a75",
   "metadata": {},
   "outputs": [],
   "source": []
  }
 ],
 "metadata": {
  "kernelspec": {
   "display_name": "Python 3 (ipykernel)",
   "language": "python",
   "name": "python3"
  },
  "language_info": {
   "codemirror_mode": {
    "name": "ipython",
    "version": 3
   },
   "file_extension": ".py",
   "mimetype": "text/x-python",
   "name": "python",
   "nbconvert_exporter": "python",
   "pygments_lexer": "ipython3",
   "version": "3.9.13"
  }
 },
 "nbformat": 4,
 "nbformat_minor": 5
}
