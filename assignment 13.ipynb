{
 "cells": [
  {
   "cell_type": "code",
   "execution_count": 1,
   "id": "460c4a0c",
   "metadata": {},
   "outputs": [
    {
     "data": {
      "text/plain": [
       "'\\nAn Excel not only stores data but can also do operations on the data but cdv cannot \\nAn Excel is most widely used format in the industry as compared to a csv.\\nApart from text, data can also be stored in form of charts and graph'"
      ]
     },
     "execution_count": 1,
     "metadata": {},
     "output_type": "execute_result"
    }
   ],
   "source": [
    "#1 - \n",
    "\"\"\"\n",
    "An Excel not only stores data but can also do operations on the data but cdv cannot \n",
    "An Excel is most widely used format in the industry as compared to a csv.\n",
    "Apart from text, data can also be stored in form of charts and graph\"\"\"\n"
   ]
  },
  {
   "cell_type": "code",
   "execution_count": 2,
   "id": "796c1717",
   "metadata": {},
   "outputs": [],
   "source": [
    "#2 First, call open() and pass it 'w' to open a file in write mode. This will create the object you can then pass to csv.writer() to create a Writer object"
   ]
  },
  {
   "cell_type": "code",
   "execution_count": 3,
   "id": "24bde405",
   "metadata": {},
   "outputs": [],
   "source": [
    "#3 - r and w respectively"
   ]
  },
  {
   "cell_type": "code",
   "execution_count": 4,
   "id": "cd1d598a",
   "metadata": {},
   "outputs": [],
   "source": [
    "#4 - write row() methos is used to write list in a csv file"
   ]
  },
  {
   "cell_type": "code",
   "execution_count": 5,
   "id": "25ca7116",
   "metadata": {},
   "outputs": [],
   "source": [
    "#5 -The delimiter is the character that appears between cells on a row. By default, the delimiter for a CSV file is a comma. The line terminator is the character that comes at the end of a row. By default, the line terminator is a newline. You can change characters to different values by using the delimiter and lineterminator keyword arguments with csv.writer()."
   ]
  },
  {
   "cell_type": "code",
   "execution_count": 6,
   "id": "48be46cd",
   "metadata": {},
   "outputs": [],
   "source": [
    "#6-json.loads()"
   ]
  },
  {
   "cell_type": "code",
   "execution_count": 7,
   "id": "311dd2ed",
   "metadata": {},
   "outputs": [],
   "source": [
    "#7- json.dumps()"
   ]
  },
  {
   "cell_type": "code",
   "execution_count": null,
   "id": "440e7184",
   "metadata": {},
   "outputs": [],
   "source": []
  }
 ],
 "metadata": {
  "kernelspec": {
   "display_name": "Python 3 (ipykernel)",
   "language": "python",
   "name": "python3"
  },
  "language_info": {
   "codemirror_mode": {
    "name": "ipython",
    "version": 3
   },
   "file_extension": ".py",
   "mimetype": "text/x-python",
   "name": "python",
   "nbconvert_exporter": "python",
   "pygments_lexer": "ipython3",
   "version": "3.9.7"
  }
 },
 "nbformat": 4,
 "nbformat_minor": 5
}
