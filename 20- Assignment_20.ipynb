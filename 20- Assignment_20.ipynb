{
 "cells": [
  {
   "cell_type": "code",
   "execution_count": 1,
   "id": "38413224",
   "metadata": {},
   "outputs": [],
   "source": [
    "#1 - A probability distribution is a statistical function that describes all the possible values and likelihoods that a random variable can take within a given range."
   ]
  },
  {
   "cell_type": "code",
   "execution_count": 2,
   "id": "9c55ca2b",
   "metadata": {},
   "outputs": [
    {
     "data": {
      "text/plain": [
       "'Random is “truly random” - completely unpredictable. What comes before gives you no indication of what will come next whatsoever.\\nPseudorandom sequences meet the statistical descriptions of randomness, but in fact arise from an algorithm, such that you can predict every single value. In fact, you simply compute the next value from the previous values in a well-determined way.\\n\\n\\n\\nIf you’re writing a video game and you want to decide whether the bad guy shoots and hits the player or shoots and misses \\nor doesn’t shoot at all - then a pseudo-random number is just fine. Nobody really cares whether it’s statistically valid or\\nnot - and (typically) you can generate a pseudo-random number much more rapidly than a truly random number.\\nSo for this use-case, either would work - but pseudo-random is faster, so that’s what we do.'"
      ]
     },
     "execution_count": 2,
     "metadata": {},
     "output_type": "execute_result"
    }
   ],
   "source": [
    "#2- \n",
    "\"\"\"Random is “truly random” - completely unpredictable. What comes before gives you no indication of what will come next whatsoever.\n",
    "Pseudorandom sequences meet the statistical descriptions of randomness, but in fact arise from an algorithm, such that you can predict every single value. In fact, you simply compute the next value from the previous values in a well-determined way.\n",
    "\n",
    "\n",
    "\n",
    "If you’re writing a video game and you want to decide whether the bad guy shoots and hits the player or shoots and misses \n",
    "or doesn’t shoot at all - then a pseudo-random number is just fine. Nobody really cares whether it’s statistically valid or\n",
    "not - and (typically) you can generate a pseudo-random number much more rapidly than a truly random number.\n",
    "So for this use-case, either would work - but pseudo-random is faster, so that’s what we do.\"\"\""
   ]
  },
  {
   "cell_type": "code",
   "execution_count": 3,
   "id": "e81d4df2",
   "metadata": {},
   "outputs": [],
   "source": [
    "#3-  mean and standard deviation"
   ]
  },
  {
   "cell_type": "code",
   "execution_count": 4,
   "id": "f87adfaf",
   "metadata": {},
   "outputs": [],
   "source": [
    "#4- A fair rolling of dice is also a good example of normal distribution"
   ]
  },
  {
   "cell_type": "code",
   "execution_count": 5,
   "id": "c247c03e",
   "metadata": {},
   "outputs": [],
   "source": [
    "#5 - The Law of Large Numbers. approaches 100% as the number n of trials grows."
   ]
  },
  {
   "cell_type": "code",
   "execution_count": 6,
   "id": "0daaf35b",
   "metadata": {},
   "outputs": [],
   "source": [
    "#6-shuffles a list in place"
   ]
  },
  {
   "cell_type": "code",
   "execution_count": 8,
   "id": "e4b01880",
   "metadata": {},
   "outputs": [
    {
     "data": {
      "text/plain": [
       "'Identity Function Linear Function, Quadratic Function ,Cubic Function, Polynomial Functions'"
      ]
     },
     "execution_count": 8,
     "metadata": {},
     "output_type": "execute_result"
    }
   ],
   "source": [
    "#7- One-One Function ,Many-One Function Onto Function ,One-One and Onto Function Into Function Constant Function\n",
    "\"\"\"Identity Function Linear Function, Quadratic Function ,Cubic Function, Polynomial Functions\"\"\""
   ]
  },
  {
   "cell_type": "code",
   "execution_count": 9,
   "id": "7c4151cf",
   "metadata": {},
   "outputs": [],
   "source": [
    "#8- Logarithmic and Exponential are inverse function to eachother."
   ]
  },
  {
   "cell_type": "code",
   "execution_count": 10,
   "id": "2b64e262",
   "metadata": {},
   "outputs": [],
   "source": [
    "#9- log2(x),log(x, Base),log10(x)"
   ]
  },
  {
   "cell_type": "code",
   "execution_count": null,
   "id": "9a17b9a5",
   "metadata": {},
   "outputs": [],
   "source": []
  }
 ],
 "metadata": {
  "kernelspec": {
   "display_name": "Python 3 (ipykernel)",
   "language": "python",
   "name": "python3"
  },
  "language_info": {
   "codemirror_mode": {
    "name": "ipython",
    "version": 3
   },
   "file_extension": ".py",
   "mimetype": "text/x-python",
   "name": "python",
   "nbconvert_exporter": "python",
   "pygments_lexer": "ipython3",
   "version": "3.9.7"
  }
 },
 "nbformat": 4,
 "nbformat_minor": 5
}
