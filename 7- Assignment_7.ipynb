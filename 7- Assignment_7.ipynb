{
 "cells": [
  {
   "cell_type": "code",
   "execution_count": 2,
   "id": "14ac7d82",
   "metadata": {},
   "outputs": [],
   "source": [
    "#1- try block lets you test a block of code for errors"
   ]
  },
  {
   "cell_type": "code",
   "execution_count": 3,
   "id": "56484721",
   "metadata": {},
   "outputs": [],
   "source": [
    "#2- try and except"
   ]
  },
  {
   "cell_type": "code",
   "execution_count": 4,
   "id": "d634350c",
   "metadata": {},
   "outputs": [],
   "source": [
    "#3 The raise keyword is used to raise an exception."
   ]
  },
  {
   "cell_type": "code",
   "execution_count": 5,
   "id": "f38e342b",
   "metadata": {},
   "outputs": [
    {
     "data": {
      "text/plain": [
       "'The assert keyword is used when debugging code.The assert keyword lets you test if a condition in your code returns True,\\nif not, the program will raise an AssertionError'"
      ]
     },
     "execution_count": 5,
     "metadata": {},
     "output_type": "execute_result"
    }
   ],
   "source": [
    "#4 \n",
    "\"\"\"The assert keyword is used when debugging code.The assert keyword lets you test if a condition in your code returns True,\n",
    "if not, the program will raise an AssertionError\"\"\"\n",
    "\"\"\" its similar to if else statement\"\"\""
   ]
  },
  {
   "cell_type": "code",
   "execution_count": 1,
   "id": "af892bdd",
   "metadata": {},
   "outputs": [
    {
     "data": {
      "text/plain": [
       "' its similar to try/cache block'"
      ]
     },
     "execution_count": 1,
     "metadata": {},
     "output_type": "execute_result"
    }
   ],
   "source": [
    "#5-\n",
    "\"\"\"with statement in Python is used in exception handling to make the code cleaner and much more readable. \n",
    "It simplifies the management of common resources like file streams. Observe the following code example on \n",
    "how the use of with statement makes code cleaner.\"\"\"\n",
    "\"\"\" its similar to try/cache block\"\"\""
   ]
  },
  {
   "cell_type": "code",
   "execution_count": null,
   "id": "b9861bfc",
   "metadata": {},
   "outputs": [],
   "source": []
  }
 ],
 "metadata": {
  "kernelspec": {
   "display_name": "Python 3 (ipykernel)",
   "language": "python",
   "name": "python3"
  },
  "language_info": {
   "codemirror_mode": {
    "name": "ipython",
    "version": 3
   },
   "file_extension": ".py",
   "mimetype": "text/x-python",
   "name": "python",
   "nbconvert_exporter": "python",
   "pygments_lexer": "ipython3",
   "version": "3.9.7"
  }
 },
 "nbformat": 4,
 "nbformat_minor": 5
}
