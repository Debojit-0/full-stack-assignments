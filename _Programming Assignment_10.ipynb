{
 "cells": [
  {
   "cell_type": "code",
   "execution_count": 4,
   "id": "b0ebc41f",
   "metadata": {},
   "outputs": [
    {
     "name": "stdout",
     "output_type": "stream",
     "text": [
      "10\n"
     ]
    }
   ],
   "source": [
    "l = [1,2,3,4]\n",
    "sum = 0\n",
    "for i in l:\n",
    "    sum = sum+i\n",
    "print(sum)\n",
    "    "
   ]
  },
  {
   "cell_type": "code",
   "execution_count": 8,
   "id": "fe5a905c",
   "metadata": {},
   "outputs": [
    {
     "name": "stdout",
     "output_type": "stream",
     "text": [
      "720\n"
     ]
    }
   ],
   "source": [
    "l1 = [1,2,3,4,5,6]\n",
    "sum =1\n",
    "for i in l1:\n",
    "    sum = sum*i\n",
    "print(sum)"
   ]
  },
  {
   "cell_type": "code",
   "execution_count": 62,
   "id": "a74154a5",
   "metadata": {},
   "outputs": [
    {
     "data": {
      "text/plain": [
       "7"
      ]
     },
     "execution_count": 62,
     "metadata": {},
     "output_type": "execute_result"
    }
   ],
   "source": [
    "l2 = [1,5,3,7,5,0]\n",
    "max(l2)"
   ]
  },
  {
   "cell_type": "code",
   "execution_count": 63,
   "id": "afd5ba83",
   "metadata": {},
   "outputs": [
    {
     "data": {
      "text/plain": [
       "0"
      ]
     },
     "execution_count": 63,
     "metadata": {},
     "output_type": "execute_result"
    }
   ],
   "source": [
    "l2 = [1,5,3,7,5,0]\n",
    "min(l2)"
   ]
  },
  {
   "cell_type": "code",
   "execution_count": 61,
   "id": "eddd4120",
   "metadata": {},
   "outputs": [
    {
     "name": "stdout",
     "output_type": "stream",
     "text": [
      "8\n"
     ]
    }
   ],
   "source": [
    "l2 = [9,7, 5, 3, 8, 0]\n",
    "l3 = l2[1:]\n",
    "for i in l3:\n",
    "    \n",
    "    if i>l3[0]:\n",
    "     \n",
    "            \n",
    "        print(i)\n",
    "        \n",
    "            \n",
    "    \n",
    "    \n",
    "   \n",
    "        \n",
    "        \n",
    "        \n",
    "        \n",
    "            \n",
    "        \n",
    "        \n",
    "   "
   ]
  },
  {
   "cell_type": "code",
   "execution_count": 105,
   "id": "ed8e0ee0",
   "metadata": {},
   "outputs": [
    {
     "name": "stdout",
     "output_type": "stream",
     "text": [
      "enter a number3\n"
     ]
    },
    {
     "data": {
      "text/plain": [
       "[100, 85, 77]"
      ]
     },
     "execution_count": 105,
     "metadata": {},
     "output_type": "execute_result"
    }
   ],
   "source": [
    "l3 = [12, 61, 41, 85, 40, 13, 77, 65, 100]\n",
    "N = int(input(\"enter a number\"))\n",
    "l3.sort(reverse = True)\n",
    "l4=l3[:N]\n",
    "temp = []\n",
    "for i in l4:\n",
    "\n",
    "    temp.append(i)\n",
    "    \n",
    "\n",
    "temp"
   ]
  },
  {
   "cell_type": "code",
   "execution_count": 111,
   "id": "f881c739",
   "metadata": {},
   "outputs": [
    {
     "name": "stdout",
     "output_type": "stream",
     "text": [
      "1 is not an even number\n",
      "3 is not an even number\n",
      "5 is not an even number\n",
      "7 is not an even number\n",
      "9 is not an even number\n"
     ]
    },
    {
     "data": {
      "text/plain": [
       "[2, 4, 6, 8, 10]"
      ]
     },
     "execution_count": 111,
     "metadata": {},
     "output_type": "execute_result"
    }
   ],
   "source": [
    "l5 = [1,2,3,4,5,6,7,8,9,10]\n",
    "temp1 = []\n",
    "for i in l5:\n",
    "    if i%2 == 0:\n",
    "        \n",
    "        temp1.append(i)\n",
    "    else:\n",
    "        print(i,\"is not an even number\")\n",
    "temp1"
   ]
  },
  {
   "cell_type": "code",
   "execution_count": 115,
   "id": "9f04fd07",
   "metadata": {},
   "outputs": [
    {
     "name": "stdout",
     "output_type": "stream",
     "text": [
      "2 is an even number\n",
      "4 is an even number\n",
      "6 is an even number\n",
      "8 is an even number\n",
      "10 is an even number\n"
     ]
    },
    {
     "data": {
      "text/plain": [
       "[1, 3, 5, 7, 9]"
      ]
     },
     "execution_count": 115,
     "metadata": {},
     "output_type": "execute_result"
    }
   ],
   "source": [
    "l5 = [1,2,3,4,5,6,7,8,9,10]\n",
    "temp1 = []\n",
    "for i in l5:\n",
    "    if i%2 != 0:\n",
    "        \n",
    "        temp1.append(i)\n",
    "    else:\n",
    "        print(i,\"is an even number\")\n",
    "temp1"
   ]
  },
  {
   "cell_type": "code",
   "execution_count": 130,
   "id": "a0d92fcb",
   "metadata": {},
   "outputs": [
    {
     "name": "stdout",
     "output_type": "stream",
     "text": [
      "[5, 6, 3, [], [], 9]\n",
      "[5, 6, 3, [], 9]\n"
     ]
    }
   ],
   "source": [
    "my_list = [5, 6, [], 3, [], [], 9]\n",
    "for i in my_list:\n",
    "    if type(i) == list:\n",
    "        my_list.remove(i)\n",
    "        print(my_list)\n",
    "\n",
    "\n",
    "        "
   ]
  },
  {
   "cell_type": "code",
   "execution_count": 125,
   "id": "ef1cfc08",
   "metadata": {},
   "outputs": [],
   "source": [
    "my_list = [5, 6, [], 3, [], [], 9]\n",
    "for i in my_list:\n",
    "   \n",
    "    if type(i) == list:\n",
    "        my_list.remove(i)\n",
    "        \n",
    "\n",
    "        "
   ]
  },
  {
   "cell_type": "code",
   "execution_count": 133,
   "id": "50e25942",
   "metadata": {},
   "outputs": [
    {
     "name": "stdout",
     "output_type": "stream",
     "text": [
      "[10, 22, 44, 23, 4]\n",
      "[10, 22, 44, 23, 4]\n"
     ]
    }
   ],
   "source": [
    "original_list = [10, 22, 44, 23, 4]\n",
    "new_list = list(original_list)\n",
    "print(original_list)\n",
    "print(new_list)"
   ]
  },
  {
   "cell_type": "code",
   "execution_count": 137,
   "id": "827300cc",
   "metadata": {},
   "outputs": [
    {
     "name": "stdout",
     "output_type": "stream",
     "text": [
      "[10, 22, 44, 23, 4]\n"
     ]
    },
    {
     "data": {
      "text/plain": [
       "[10, 22, 44, 23, 4]"
      ]
     },
     "execution_count": 137,
     "metadata": {},
     "output_type": "execute_result"
    }
   ],
   "source": [
    "# method 2\n",
    "# importing copy module\n",
    "import copy\n",
    "\n",
    "# initializing list 1\n",
    "li1 = [10, 22, 44, 23, 4]\n",
    "\n",
    "# using copy for shallow copy\n",
    "li2 = copy.copy(li1)\n",
    "\n",
    "print(li2)\n",
    "li1\n"
   ]
  },
  {
   "cell_type": "code",
   "execution_count": 148,
   "id": "1efd5131",
   "metadata": {},
   "outputs": [
    {
     "name": "stdout",
     "output_type": "stream",
     "text": [
      "enter the number u want u find9\n",
      "9 has occured 4 times\n"
     ]
    }
   ],
   "source": [
    "l9 = [1,2,3,4,4,4,6,8,8,9,9,9,9,10]\n",
    "n = int(input(\"enter the number u want u find\"))\n",
    "count = 0\n",
    "for i in l9:\n",
    "    if i== n:\n",
    "        count = count +1\n",
    "print(n,\"has occured\",count,\"times\")\n",
    "   "
   ]
  },
  {
   "cell_type": "code",
   "execution_count": null,
   "id": "36f0dad1",
   "metadata": {},
   "outputs": [],
   "source": []
  }
 ],
 "metadata": {
  "kernelspec": {
   "display_name": "Python 3 (ipykernel)",
   "language": "python",
   "name": "python3"
  },
  "language_info": {
   "codemirror_mode": {
    "name": "ipython",
    "version": 3
   },
   "file_extension": ".py",
   "mimetype": "text/x-python",
   "name": "python",
   "nbconvert_exporter": "python",
   "pygments_lexer": "ipython3",
   "version": "3.9.7"
  }
 },
 "nbformat": 4,
 "nbformat_minor": 5
}
