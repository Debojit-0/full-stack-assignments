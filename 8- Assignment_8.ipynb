{
 "cells": [
  {
   "cell_type": "code",
   "execution_count": 2,
   "id": "e7f6db62",
   "metadata": {},
   "outputs": [],
   "source": [
    "#1- try,except and raise "
   ]
  },
  {
   "cell_type": "code",
   "execution_count": 4,
   "id": "53826b3c",
   "metadata": {},
   "outputs": [
    {
     "data": {
      "text/plain": [
       "' These exceptions are defined by exception classes, from which an exception object can be created \\nwhen an exception is raised(if a handler uses the addition INTO in CATCH). A class-based exception can either cancel the current\\ncontext or allow for a resume.\\nExceptions are raised using the statement RAISE EXCEPTION and handled using CATCH in a TRY control structure. \\nClass-based exceptions can be raised in any procedures and can be further propagated by any procedures.'"
      ]
     },
     "execution_count": 4,
     "metadata": {},
     "output_type": "execute_result"
    }
   ],
   "source": [
    "#2-\n",
    "\"\"\" These exceptions are defined by exception classes, from which an exception object can be created \n",
    "when an exception is raised(if a handler uses the addition INTO in CATCH). A class-based exception can either cancel the current\n",
    "context or allow for a resume.\n",
    "Exceptions are raised using the statement RAISE EXCEPTION and handled using CATCH in a TRY control structure. \n",
    "Class-based exceptions can be raised in any procedures and can be further propagated by any procedures.\"\"\""
   ]
  },
  {
   "cell_type": "code",
   "execution_count": 2,
   "id": "d17355c9",
   "metadata": {},
   "outputs": [],
   "source": [
    "#3-raise and  class"
   ]
  },
  {
   "cell_type": "code",
   "execution_count": 3,
   "id": "344bd294",
   "metadata": {},
   "outputs": [
    {
     "data": {
      "text/plain": [
       "'raise - The raise keyword is used to raise an exception. \\nYou can define what kind of error to raise, and the text to print to the user.\\ninheriting Exception class -  he exception class is a subclass of the Throwable class. Other than the exception \\nclass there is another subclass \\ncalled Error which is derived from the Throwable class'"
      ]
     },
     "execution_count": 3,
     "metadata": {},
     "output_type": "execute_result"
    }
   ],
   "source": [
    "#4-\n",
    "\"\"\"raise - The raise keyword is used to raise an exception. \n",
    "You can define what kind of error to raise, and the text to print to the user.\n",
    "inheriting Exception class -  he exception class is a subclass of the Throwable class. Other than the exception \n",
    "class there is another subclass \n",
    "called Error which is derived from the Throwable class\"\"\""
   ]
  },
  {
   "cell_type": "code",
   "execution_count": 4,
   "id": "c7e297cf",
   "metadata": {},
   "outputs": [],
   "source": [
    "#5 - becasue it will throw an error"
   ]
  },
  {
   "cell_type": "code",
   "execution_count": null,
   "id": "68380aeb",
   "metadata": {},
   "outputs": [],
   "source": []
  }
 ],
 "metadata": {
  "kernelspec": {
   "display_name": "Python 3 (ipykernel)",
   "language": "python",
   "name": "python3"
  },
  "language_info": {
   "codemirror_mode": {
    "name": "ipython",
    "version": 3
   },
   "file_extension": ".py",
   "mimetype": "text/x-python",
   "name": "python",
   "nbconvert_exporter": "python",
   "pygments_lexer": "ipython3",
   "version": "3.9.7"
  }
 },
 "nbformat": 4,
 "nbformat_minor": 5
}
