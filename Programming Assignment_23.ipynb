{
 "cells": [
  {
   "cell_type": "code",
   "execution_count": 145,
   "id": "0250f3e6",
   "metadata": {},
   "outputs": [
    {
     "name": "stdout",
     "output_type": "stream",
     "text": [
      "True\n",
      "True\n",
      "False\n",
      "True\n"
     ]
    }
   ],
   "source": [
    "def is_symmetrical_num(n):\n",
    "  return str(n) == str(n)[::-1]\n",
    "print(is_symmetrical_num(121))\n",
    "print(is_symmetrical_num(0))\n",
    "print(is_symmetrical_num(122))\n",
    "print(is_symmetrical_num(990099))"
   ]
  },
  {
   "cell_type": "code",
   "execution_count": 50,
   "id": "cca1573a",
   "metadata": {},
   "outputs": [
    {
     "data": {
      "text/plain": [
       "6"
      ]
     },
     "execution_count": 50,
     "metadata": {},
     "output_type": "execute_result"
    }
   ],
   "source": [
    "def sep(s):\n",
    "    global sum\n",
    "    \n",
    "   \n",
    "    for i in a:\n",
    "        l.append(i)\n",
    "    for j in l:\n",
    "        j=int(j)\n",
    "        sum = sum *j\n",
    "    return sum\n",
    "    \n",
    "s = \"2 , 3\"\n",
    "a = s.split(\", \")\n",
    "l=[]\n",
    "sum = 1\n",
    "sep(a)\n"
   ]
  },
  {
   "cell_type": "code",
   "execution_count": 115,
   "id": "0768f501",
   "metadata": {},
   "outputs": [
    {
     "name": "stdout",
     "output_type": "stream",
     "text": [
      "[1, 4, 9, 16, 25]\n"
     ]
    }
   ],
   "source": [
    "numbers = [1, 2, 3, 4, 5]\n",
    "\n",
    "squared_numbers = [number ** 2 for number in numbers]\n",
    "\n",
    "print(squared_numbers)"
   ]
  },
  {
   "cell_type": "code",
   "execution_count": 141,
   "id": "1211644b",
   "metadata": {},
   "outputs": [
    {
     "data": {
      "text/plain": [
       "[1, 2, 3, 4, 5]"
      ]
     },
     "execution_count": 141,
     "metadata": {},
     "output_type": "execute_result"
    }
   ],
   "source": [
    "def dup(l):\n",
    "    \n",
    "    s = set(l)\n",
    "    s= list(s)\n",
    "    return s\n",
    "    \n",
    "\n",
    "l = [3,1,2,3,4,5,4]\n",
    "dup(l)"
   ]
  },
  {
   "cell_type": "code",
   "execution_count": 144,
   "id": "6bd5b03a",
   "metadata": {},
   "outputs": [
    {
     "data": {
      "text/plain": [
       "6.0"
      ]
     },
     "execution_count": 144,
     "metadata": {},
     "output_type": "execute_result"
    }
   ],
   "source": [
    "sum = 0\n",
    "def mean(l):\n",
    "    global sum\n",
    "    for i in l:\n",
    "        sum =  sum +i\n",
    "    return sum/len(l)\n",
    "l = [1,5,6,7,8,9]\n",
    "mean(l)\n",
    "        \n",
    "        "
   ]
  },
  {
   "cell_type": "code",
   "execution_count": null,
   "id": "849ba0a6",
   "metadata": {},
   "outputs": [],
   "source": []
  }
 ],
 "metadata": {
  "kernelspec": {
   "display_name": "Python 3 (ipykernel)",
   "language": "python",
   "name": "python3"
  },
  "language_info": {
   "codemirror_mode": {
    "name": "ipython",
    "version": 3
   },
   "file_extension": ".py",
   "mimetype": "text/x-python",
   "name": "python",
   "nbconvert_exporter": "python",
   "pygments_lexer": "ipython3",
   "version": "3.9.7"
  }
 },
 "nbformat": 4,
 "nbformat_minor": 5
}
