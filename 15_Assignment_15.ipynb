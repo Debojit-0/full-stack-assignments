{
 "cells": [
  {
   "cell_type": "code",
   "execution_count": 2,
   "id": "36d7369e",
   "metadata": {},
   "outputs": [
    {
     "data": {
      "text/plain": [
       "'Assignment Expressions(:=)\\nf-strings now support “=”\\nreversed() works with a dictionary\\nNo parentheses for return and yield statements\\npow() function\\nDictionary comprehension\\nimportlib_metadata'"
      ]
     },
     "execution_count": 2,
     "metadata": {},
     "output_type": "execute_result"
    }
   ],
   "source": [
    "#1-\n",
    "\"\"\"Assignment Expressions(:=)\n",
    "f-strings now support “=”\n",
    "reversed() works with a dictionary\n",
    "No parentheses for return and yield statements\n",
    "pow() function\n",
    "Dictionary comprehension\n",
    "importlib_metadata\"\"\""
   ]
  },
  {
   "cell_type": "code",
   "execution_count": 3,
   "id": "9c453ba9",
   "metadata": {},
   "outputs": [],
   "source": [
    "#2- In Python, the term monkey patch refers to dynamic (or run-time) modifications of a class or module. In Python, we can actually change the behavior of code at run-time."
   ]
  },
  {
   "cell_type": "code",
   "execution_count": 4,
   "id": "edae10fb",
   "metadata": {},
   "outputs": [
    {
     "data": {
      "text/plain": [
       "'In Shallow copy, a copy of the original object is stored and only the reference address is finally copied.\\nIn Deep copy, the copy of the original object and the repetitive copies both are stored '"
      ]
     },
     "execution_count": 4,
     "metadata": {},
     "output_type": "execute_result"
    }
   ],
   "source": [
    "#3- \n",
    "\"\"\"In Shallow copy, a copy of the original object is stored and only the reference address is finally copied.\n",
    "In Deep copy, the copy of the original object and the repetitive copies both are stored \"\"\""
   ]
  },
  {
   "cell_type": "code",
   "execution_count": 5,
   "id": "fe990c72",
   "metadata": {},
   "outputs": [],
   "source": [
    "#4- 79 charecters"
   ]
  },
  {
   "cell_type": "code",
   "execution_count": 6,
   "id": "fcf3880d",
   "metadata": {},
   "outputs": [],
   "source": [
    "#5- A generator comprehension is a single-line specification for defining a generator in Python."
   ]
  },
  {
   "cell_type": "code",
   "execution_count": null,
   "id": "3d315ce0",
   "metadata": {},
   "outputs": [],
   "source": []
  }
 ],
 "metadata": {
  "kernelspec": {
   "display_name": "Python 3 (ipykernel)",
   "language": "python",
   "name": "python3"
  },
  "language_info": {
   "codemirror_mode": {
    "name": "ipython",
    "version": 3
   },
   "file_extension": ".py",
   "mimetype": "text/x-python",
   "name": "python",
   "nbconvert_exporter": "python",
   "pygments_lexer": "ipython3",
   "version": "3.9.7"
  }
 },
 "nbformat": 4,
 "nbformat_minor": 5
}
